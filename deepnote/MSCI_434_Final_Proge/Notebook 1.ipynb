{
  "cells": [
    {
      "cell_type": "code",
      "source": "# This is a Python block\n\n!pip install ortools numpy pandas",
      "metadata": {
        "source_hash": "50cba32e",
        "execution_start": 1690289233057,
        "execution_millis": 27750,
        "deepnote_to_be_reexecuted": false,
        "cell_id": "e071cde0719d448fbb7fac556e957d2b",
        "deepnote_cell_type": "code"
      },
      "outputs": [
        {
          "name": "stdout",
          "text": "Collecting ortools\n  Downloading ortools-9.6.2534-cp310-cp310-manylinux_2_17_x86_64.manylinux2014_x86_64.whl (16.4 MB)\n\u001b[2K     \u001b[90m━━━━━━━━━━━━━━━━━━━━━━━━━━━━━━━━━━━━━━━━\u001b[0m \u001b[32m16.4/16.4 MB\u001b[0m \u001b[31m23.4 MB/s\u001b[0m eta \u001b[36m0:00:00\u001b[0m\n\u001b[?25hRequirement already satisfied: numpy in /shared-libs/python3.10/py/lib/python3.10/site-packages (1.23.4)\nRequirement already satisfied: pandas in /shared-libs/python3.10/py/lib/python3.10/site-packages (1.2.5)\nCollecting protobuf>=4.21.12\n  Downloading protobuf-4.23.4-cp37-abi3-manylinux2014_x86_64.whl (304 kB)\n\u001b[2K     \u001b[90m━━━━━━━━━━━━━━━━━━━━━━━━━━━━━━━━━━━━━━\u001b[0m \u001b[32m304.5/304.5 kB\u001b[0m \u001b[31m22.8 MB/s\u001b[0m eta \u001b[36m0:00:00\u001b[0m\n\u001b[?25hRequirement already satisfied: absl-py>=0.13 in /shared-libs/python3.10/py/lib/python3.10/site-packages (from ortools) (1.3.0)\nCollecting scipy>=1.10.0\n  Downloading scipy-1.11.1-cp310-cp310-manylinux_2_17_x86_64.manylinux2014_x86_64.whl (36.3 MB)\n\u001b[2K     \u001b[90m━━━━━━━━━━━━━━━━━━━━━━━━━━━━━━━━━━━━━━━━\u001b[0m \u001b[32m36.3/36.3 MB\u001b[0m \u001b[31m21.8 MB/s\u001b[0m eta \u001b[36m0:00:00\u001b[0m\n\u001b[?25hRequirement already satisfied: python-dateutil>=2.7.3 in /shared-libs/python3.10/py-core/lib/python3.10/site-packages (from pandas) (2.8.2)\nRequirement already satisfied: pytz>=2017.3 in /shared-libs/python3.10/py/lib/python3.10/site-packages (from pandas) (2022.5)\nRequirement already satisfied: six>=1.5 in /shared-libs/python3.10/py-core/lib/python3.10/site-packages (from python-dateutil>=2.7.3->pandas) (1.16.0)\nInstalling collected packages: scipy, protobuf, ortools\n  Attempting uninstall: scipy\n    Found existing installation: scipy 1.9.3\n    Not uninstalling scipy at /shared-libs/python3.10/py/lib/python3.10/site-packages, outside environment /root/venv\n    Can't uninstall 'scipy'. No files were found to uninstall.\n  Attempting uninstall: protobuf\n    Found existing installation: protobuf 3.19.6\n    Not uninstalling protobuf at /shared-libs/python3.10/py/lib/python3.10/site-packages, outside environment /root/venv\n    Can't uninstall 'protobuf'. No files were found to uninstall.\n\u001b[31mERROR: pip's dependency resolver does not currently take into account all the packages that are installed. This behaviour is the source of the following dependency conflicts.\ntensorflow 2.10.0 requires protobuf<3.20,>=3.9.2, but you have protobuf 4.23.4 which is incompatible.\ntensorboard 2.10.1 requires protobuf<3.20,>=3.9.2, but you have protobuf 4.23.4 which is incompatible.\ngoogle-cloud-spanner 3.36.0 requires sqlparse>=0.4.4, but you have sqlparse 0.4.3 which is incompatible.\u001b[0m\u001b[31m\n\u001b[0mSuccessfully installed ortools-9.6.2534 protobuf-4.23.4 scipy-1.11.1\n\n\u001b[1m[\u001b[0m\u001b[34;49mnotice\u001b[0m\u001b[1;39;49m]\u001b[0m\u001b[39;49m A new release of pip is available: \u001b[0m\u001b[31;49m23.0.1\u001b[0m\u001b[39;49m -> \u001b[0m\u001b[32;49m23.2.1\u001b[0m\n\u001b[1m[\u001b[0m\u001b[34;49mnotice\u001b[0m\u001b[1;39;49m]\u001b[0m\u001b[39;49m To update, run: \u001b[0m\u001b[32;49mpip install --upgrade pip\u001b[0m\n",
          "output_type": "stream"
        }
      ],
      "execution_count": 1
    },
    {
      "cell_type": "code",
      "source": "# List all data files\n\nfrom glob import glob\n\nfiles = glob('/work/msci434-final-project/data/*.csv')\nfiles.sort()",
      "metadata": {
        "source_hash": "7cf036bd",
        "execution_start": 1690289260697,
        "execution_millis": 18,
        "deepnote_to_be_reexecuted": false,
        "cell_id": "404b59e19db14892840fd1da7e957c8c",
        "deepnote_cell_type": "code"
      },
      "outputs": [],
      "execution_count": 2
    },
    {
      "cell_type": "code",
      "source": "csv_path = '/work/msci434-final-project/data/hetero_test_file1.csv'",
      "metadata": {
        "source_hash": "d3267a",
        "execution_start": 1690290330827,
        "execution_millis": 18,
        "deepnote_variable_name": "csv_path",
        "deepnote_variable_value": "/work/msci434-final-project/data/hetero_test_file1.csv",
        "deepnote_to_be_reexecuted": false,
        "deepnote_variable_options": [
          "/work/msci434-final-project/data/hetero_test_file1.csv",
          "/work/msci434-final-project/data/hetero_test_file10.csv",
          "/work/msci434-final-project/data/hetero_test_file100.csv",
          "/work/msci434-final-project/data/hetero_test_file2.csv",
          "/work/msci434-final-project/data/hetero_test_file20.csv",
          "/work/msci434-final-project/data/hetero_test_file3.csv",
          "/work/msci434-final-project/data/hetero_test_file30.csv",
          "/work/msci434-final-project/data/hetero_test_file4.csv",
          "/work/msci434-final-project/data/hetero_test_file40.csv",
          "/work/msci434-final-project/data/hetero_test_file5.csv",
          "/work/msci434-final-project/data/hetero_test_file50.csv",
          "/work/msci434-final-project/data/hetero_test_file60.csv",
          "/work/msci434-final-project/data/hetero_test_file70.csv",
          "/work/msci434-final-project/data/hetero_test_file80.csv",
          "/work/msci434-final-project/data/hetero_test_file90.csv",
          "/work/msci434-final-project/data/hetero_vehicle_file1.csv",
          "/work/msci434-final-project/data/hetero_vehicle_file10.csv",
          "/work/msci434-final-project/data/hetero_vehicle_file100.csv",
          "/work/msci434-final-project/data/hetero_vehicle_file2.csv",
          "/work/msci434-final-project/data/hetero_vehicle_file20.csv",
          "/work/msci434-final-project/data/hetero_vehicle_file3.csv",
          "/work/msci434-final-project/data/hetero_vehicle_file30.csv",
          "/work/msci434-final-project/data/hetero_vehicle_file4.csv",
          "/work/msci434-final-project/data/hetero_vehicle_file40.csv",
          "/work/msci434-final-project/data/hetero_vehicle_file5.csv",
          "/work/msci434-final-project/data/hetero_vehicle_file50.csv",
          "/work/msci434-final-project/data/hetero_vehicle_file60.csv",
          "/work/msci434-final-project/data/hetero_vehicle_file70.csv",
          "/work/msci434-final-project/data/hetero_vehicle_file80.csv",
          "/work/msci434-final-project/data/hetero_vehicle_file90.csv",
          "/work/msci434-final-project/data/homo_test_file1.csv",
          "/work/msci434-final-project/data/homo_test_file10.csv",
          "/work/msci434-final-project/data/homo_test_file100.csv",
          "/work/msci434-final-project/data/homo_test_file2.csv",
          "/work/msci434-final-project/data/homo_test_file20.csv",
          "/work/msci434-final-project/data/homo_test_file3.csv",
          "/work/msci434-final-project/data/homo_test_file30.csv",
          "/work/msci434-final-project/data/homo_test_file4.csv",
          "/work/msci434-final-project/data/homo_test_file40.csv",
          "/work/msci434-final-project/data/homo_test_file5.csv",
          "/work/msci434-final-project/data/homo_test_file50.csv",
          "/work/msci434-final-project/data/homo_test_file60.csv",
          "/work/msci434-final-project/data/homo_test_file70.csv",
          "/work/msci434-final-project/data/homo_test_file80.csv",
          "/work/msci434-final-project/data/homo_test_file90.csv",
          "/work/msci434-final-project/data/homo_vehicle_file1.csv",
          "/work/msci434-final-project/data/homo_vehicle_file10.csv",
          "/work/msci434-final-project/data/homo_vehicle_file100.csv",
          "/work/msci434-final-project/data/homo_vehicle_file2.csv",
          "/work/msci434-final-project/data/homo_vehicle_file20.csv",
          "/work/msci434-final-project/data/homo_vehicle_file3.csv",
          "/work/msci434-final-project/data/homo_vehicle_file30.csv",
          "/work/msci434-final-project/data/homo_vehicle_file4.csv",
          "/work/msci434-final-project/data/homo_vehicle_file40.csv",
          "/work/msci434-final-project/data/homo_vehicle_file5.csv",
          "/work/msci434-final-project/data/homo_vehicle_file50.csv",
          "/work/msci434-final-project/data/homo_vehicle_file60.csv",
          "/work/msci434-final-project/data/homo_vehicle_file70.csv",
          "/work/msci434-final-project/data/homo_vehicle_file80.csv",
          "/work/msci434-final-project/data/homo_vehicle_file90.csv"
        ],
        "deepnote_variable_select_type": "from-variable",
        "deepnote_variable_custom_options": [
          "Option 1",
          "Option 2"
        ],
        "deepnote_variable_selected_variable": "files",
        "cell_id": "87edd1d629224fd4970c14cf964e694d",
        "deepnote_cell_type": "input-select"
      },
      "outputs": [],
      "execution_count": 34
    },
    {
      "cell_type": "code",
      "source": "import pandas as pd\n\n\n# csv_path = \"/work/msci434-final-project/data/hetero_test_file40.csv\"\ndf = pd.read_csv(csv_path, sep=\" \")\n\n\ndf = df.rename(columns={'school_d': 'school_x'})\n\ndf\n",
      "metadata": {
        "source_hash": "9951cfc9",
        "execution_start": 1690290332872,
        "execution_millis": 626,
        "deepnote_to_be_reexecuted": false,
        "cell_id": "6603f11d905f49e1b0d9a3717b7019da",
        "deepnote_cell_type": "code"
      },
      "outputs": [
        {
          "output_type": "execute_result",
          "execution_count": 35,
          "data": {
            "application/vnd.deepnote.dataframe.v3+json": {
              "column_count": 9,
              "row_count": 7,
              "columns": [
                {
                  "name": "ID",
                  "dtype": "int64",
                  "stats": {
                    "unique_count": 7,
                    "nan_count": 0,
                    "min": "1",
                    "max": "7",
                    "histogram": [
                      {
                        "bin_start": 1,
                        "bin_end": 1.6,
                        "count": 1
                      },
                      {
                        "bin_start": 1.6,
                        "bin_end": 2.2,
                        "count": 1
                      },
                      {
                        "bin_start": 2.2,
                        "bin_end": 2.8,
                        "count": 0
                      },
                      {
                        "bin_start": 2.8,
                        "bin_end": 3.4,
                        "count": 1
                      },
                      {
                        "bin_start": 3.4,
                        "bin_end": 4,
                        "count": 0
                      },
                      {
                        "bin_start": 4,
                        "bin_end": 4.6,
                        "count": 1
                      },
                      {
                        "bin_start": 4.6,
                        "bin_end": 5.2,
                        "count": 1
                      },
                      {
                        "bin_start": 5.2,
                        "bin_end": 5.8,
                        "count": 0
                      },
                      {
                        "bin_start": 5.8,
                        "bin_end": 6.3999999999999995,
                        "count": 1
                      },
                      {
                        "bin_start": 6.3999999999999995,
                        "bin_end": 7,
                        "count": 1
                      }
                    ]
                  }
                },
                {
                  "name": "start_x",
                  "dtype": "int64",
                  "stats": {
                    "unique_count": 6,
                    "nan_count": 0,
                    "min": "18",
                    "max": "81",
                    "histogram": [
                      {
                        "bin_start": 18,
                        "bin_end": 24.3,
                        "count": 1
                      },
                      {
                        "bin_start": 24.3,
                        "bin_end": 30.6,
                        "count": 1
                      },
                      {
                        "bin_start": 30.6,
                        "bin_end": 36.9,
                        "count": 1
                      },
                      {
                        "bin_start": 36.9,
                        "bin_end": 43.2,
                        "count": 2
                      },
                      {
                        "bin_start": 43.2,
                        "bin_end": 49.5,
                        "count": 0
                      },
                      {
                        "bin_start": 49.5,
                        "bin_end": 55.8,
                        "count": 0
                      },
                      {
                        "bin_start": 55.8,
                        "bin_end": 62.1,
                        "count": 0
                      },
                      {
                        "bin_start": 62.1,
                        "bin_end": 68.4,
                        "count": 0
                      },
                      {
                        "bin_start": 68.4,
                        "bin_end": 74.69999999999999,
                        "count": 0
                      },
                      {
                        "bin_start": 74.69999999999999,
                        "bin_end": 81,
                        "count": 2
                      }
                    ]
                  }
                },
                {
                  "name": "start_y",
                  "dtype": "int64",
                  "stats": {
                    "unique_count": 7,
                    "nan_count": 0,
                    "min": "2",
                    "max": "97",
                    "histogram": [
                      {
                        "bin_start": 2,
                        "bin_end": 11.5,
                        "count": 2
                      },
                      {
                        "bin_start": 11.5,
                        "bin_end": 21,
                        "count": 2
                      },
                      {
                        "bin_start": 21,
                        "bin_end": 30.5,
                        "count": 2
                      },
                      {
                        "bin_start": 30.5,
                        "bin_end": 40,
                        "count": 0
                      },
                      {
                        "bin_start": 40,
                        "bin_end": 49.5,
                        "count": 0
                      },
                      {
                        "bin_start": 49.5,
                        "bin_end": 59,
                        "count": 0
                      },
                      {
                        "bin_start": 59,
                        "bin_end": 68.5,
                        "count": 0
                      },
                      {
                        "bin_start": 68.5,
                        "bin_end": 78,
                        "count": 0
                      },
                      {
                        "bin_start": 78,
                        "bin_end": 87.5,
                        "count": 0
                      },
                      {
                        "bin_start": 87.5,
                        "bin_end": 97,
                        "count": 1
                      }
                    ]
                  }
                },
                {
                  "name": "student_num",
                  "dtype": "int64",
                  "stats": {
                    "unique_count": 7,
                    "nan_count": 0,
                    "min": "30",
                    "max": "69",
                    "histogram": [
                      {
                        "bin_start": 30,
                        "bin_end": 33.9,
                        "count": 1
                      },
                      {
                        "bin_start": 33.9,
                        "bin_end": 37.8,
                        "count": 1
                      },
                      {
                        "bin_start": 37.8,
                        "bin_end": 41.7,
                        "count": 0
                      },
                      {
                        "bin_start": 41.7,
                        "bin_end": 45.6,
                        "count": 2
                      },
                      {
                        "bin_start": 45.6,
                        "bin_end": 49.5,
                        "count": 0
                      },
                      {
                        "bin_start": 49.5,
                        "bin_end": 53.4,
                        "count": 1
                      },
                      {
                        "bin_start": 53.4,
                        "bin_end": 57.3,
                        "count": 0
                      },
                      {
                        "bin_start": 57.3,
                        "bin_end": 61.2,
                        "count": 1
                      },
                      {
                        "bin_start": 61.2,
                        "bin_end": 65.1,
                        "count": 0
                      },
                      {
                        "bin_start": 65.1,
                        "bin_end": 69,
                        "count": 1
                      }
                    ]
                  }
                },
                {
                  "name": "service_duration",
                  "dtype": "int64",
                  "stats": {
                    "unique_count": 5,
                    "nan_count": 0,
                    "min": "21",
                    "max": "35",
                    "histogram": [
                      {
                        "bin_start": 21,
                        "bin_end": 22.4,
                        "count": 3
                      },
                      {
                        "bin_start": 22.4,
                        "bin_end": 23.8,
                        "count": 1
                      },
                      {
                        "bin_start": 23.8,
                        "bin_end": 25.2,
                        "count": 0
                      },
                      {
                        "bin_start": 25.2,
                        "bin_end": 26.6,
                        "count": 0
                      },
                      {
                        "bin_start": 26.6,
                        "bin_end": 28,
                        "count": 1
                      },
                      {
                        "bin_start": 28,
                        "bin_end": 29.4,
                        "count": 0
                      },
                      {
                        "bin_start": 29.4,
                        "bin_end": 30.799999999999997,
                        "count": 0
                      },
                      {
                        "bin_start": 30.799999999999997,
                        "bin_end": 32.2,
                        "count": 0
                      },
                      {
                        "bin_start": 32.2,
                        "bin_end": 33.6,
                        "count": 0
                      },
                      {
                        "bin_start": 33.6,
                        "bin_end": 35,
                        "count": 2
                      }
                    ]
                  }
                },
                {
                  "name": "school_x",
                  "dtype": "int64",
                  "stats": {
                    "unique_count": 1,
                    "nan_count": 0,
                    "min": "62",
                    "max": "62",
                    "histogram": [
                      {
                        "bin_start": 61.5,
                        "bin_end": 61.6,
                        "count": 0
                      },
                      {
                        "bin_start": 61.6,
                        "bin_end": 61.7,
                        "count": 0
                      },
                      {
                        "bin_start": 61.7,
                        "bin_end": 61.8,
                        "count": 0
                      },
                      {
                        "bin_start": 61.8,
                        "bin_end": 61.9,
                        "count": 0
                      },
                      {
                        "bin_start": 61.9,
                        "bin_end": 62,
                        "count": 0
                      },
                      {
                        "bin_start": 62,
                        "bin_end": 62.1,
                        "count": 7
                      },
                      {
                        "bin_start": 62.1,
                        "bin_end": 62.2,
                        "count": 0
                      },
                      {
                        "bin_start": 62.2,
                        "bin_end": 62.3,
                        "count": 0
                      },
                      {
                        "bin_start": 62.3,
                        "bin_end": 62.4,
                        "count": 0
                      },
                      {
                        "bin_start": 62.4,
                        "bin_end": 62.5,
                        "count": 0
                      }
                    ]
                  }
                },
                {
                  "name": "school_y",
                  "dtype": "int64",
                  "stats": {
                    "unique_count": 1,
                    "nan_count": 0,
                    "min": "75",
                    "max": "75",
                    "histogram": [
                      {
                        "bin_start": 74.5,
                        "bin_end": 74.6,
                        "count": 0
                      },
                      {
                        "bin_start": 74.6,
                        "bin_end": 74.7,
                        "count": 0
                      },
                      {
                        "bin_start": 74.7,
                        "bin_end": 74.8,
                        "count": 0
                      },
                      {
                        "bin_start": 74.8,
                        "bin_end": 74.9,
                        "count": 0
                      },
                      {
                        "bin_start": 74.9,
                        "bin_end": 75,
                        "count": 0
                      },
                      {
                        "bin_start": 75,
                        "bin_end": 75.1,
                        "count": 7
                      },
                      {
                        "bin_start": 75.1,
                        "bin_end": 75.2,
                        "count": 0
                      },
                      {
                        "bin_start": 75.2,
                        "bin_end": 75.3,
                        "count": 0
                      },
                      {
                        "bin_start": 75.3,
                        "bin_end": 75.4,
                        "count": 0
                      },
                      {
                        "bin_start": 75.4,
                        "bin_end": 75.5,
                        "count": 0
                      }
                    ]
                  }
                },
                {
                  "name": "school_tw_st",
                  "dtype": "int64",
                  "stats": {
                    "unique_count": 1,
                    "nan_count": 0,
                    "min": "115",
                    "max": "115",
                    "histogram": [
                      {
                        "bin_start": 114.5,
                        "bin_end": 114.6,
                        "count": 0
                      },
                      {
                        "bin_start": 114.6,
                        "bin_end": 114.7,
                        "count": 0
                      },
                      {
                        "bin_start": 114.7,
                        "bin_end": 114.8,
                        "count": 0
                      },
                      {
                        "bin_start": 114.8,
                        "bin_end": 114.9,
                        "count": 0
                      },
                      {
                        "bin_start": 114.9,
                        "bin_end": 115,
                        "count": 0
                      },
                      {
                        "bin_start": 115,
                        "bin_end": 115.1,
                        "count": 7
                      },
                      {
                        "bin_start": 115.1,
                        "bin_end": 115.2,
                        "count": 0
                      },
                      {
                        "bin_start": 115.2,
                        "bin_end": 115.3,
                        "count": 0
                      },
                      {
                        "bin_start": 115.3,
                        "bin_end": 115.4,
                        "count": 0
                      },
                      {
                        "bin_start": 115.4,
                        "bin_end": 115.5,
                        "count": 0
                      }
                    ]
                  }
                },
                {
                  "name": "school_tw_end",
                  "dtype": "int64",
                  "stats": {
                    "unique_count": 1,
                    "nan_count": 0,
                    "min": "135",
                    "max": "135",
                    "histogram": [
                      {
                        "bin_start": 134.5,
                        "bin_end": 134.6,
                        "count": 0
                      },
                      {
                        "bin_start": 134.6,
                        "bin_end": 134.7,
                        "count": 0
                      },
                      {
                        "bin_start": 134.7,
                        "bin_end": 134.8,
                        "count": 0
                      },
                      {
                        "bin_start": 134.8,
                        "bin_end": 134.9,
                        "count": 0
                      },
                      {
                        "bin_start": 134.9,
                        "bin_end": 135,
                        "count": 0
                      },
                      {
                        "bin_start": 135,
                        "bin_end": 135.1,
                        "count": 7
                      },
                      {
                        "bin_start": 135.1,
                        "bin_end": 135.2,
                        "count": 0
                      },
                      {
                        "bin_start": 135.2,
                        "bin_end": 135.3,
                        "count": 0
                      },
                      {
                        "bin_start": 135.3,
                        "bin_end": 135.4,
                        "count": 0
                      },
                      {
                        "bin_start": 135.4,
                        "bin_end": 135.5,
                        "count": 0
                      }
                    ]
                  }
                },
                {
                  "name": "_deepnote_index_column",
                  "dtype": "int64"
                }
              ],
              "rows": [
                {
                  "ID": 1,
                  "start_x": 18,
                  "start_y": 4,
                  "student_num": 60,
                  "service_duration": 34,
                  "school_x": 62,
                  "school_y": 75,
                  "school_tw_st": 115,
                  "school_tw_end": 135,
                  "_deepnote_index_column": 0
                },
                {
                  "ID": 2,
                  "start_x": 43,
                  "start_y": 28,
                  "student_num": 69,
                  "service_duration": 35,
                  "school_x": 62,
                  "school_y": 75,
                  "school_tw_st": 115,
                  "school_tw_end": 135,
                  "_deepnote_index_column": 1
                },
                {
                  "ID": 3,
                  "start_x": 32,
                  "start_y": 20,
                  "student_num": 43,
                  "service_duration": 23,
                  "school_x": 62,
                  "school_y": 75,
                  "school_tw_st": 115,
                  "school_tw_end": 135,
                  "_deepnote_index_column": 2
                },
                {
                  "ID": 4,
                  "start_x": 43,
                  "start_y": 2,
                  "student_num": 52,
                  "service_duration": 27,
                  "school_x": 62,
                  "school_y": 75,
                  "school_tw_st": 115,
                  "school_tw_end": 135,
                  "_deepnote_index_column": 3
                },
                {
                  "ID": 5,
                  "start_x": 81,
                  "start_y": 97,
                  "student_num": 30,
                  "service_duration": 21,
                  "school_x": 62,
                  "school_y": 75,
                  "school_tw_st": 115,
                  "school_tw_end": 135,
                  "_deepnote_index_column": 4
                },
                {
                  "ID": 6,
                  "start_x": 27,
                  "start_y": 12,
                  "student_num": 44,
                  "service_duration": 21,
                  "school_x": 62,
                  "school_y": 75,
                  "school_tw_st": 115,
                  "school_tw_end": 135,
                  "_deepnote_index_column": 5
                },
                {
                  "ID": 7,
                  "start_x": 76,
                  "start_y": 24,
                  "student_num": 37,
                  "service_duration": 21,
                  "school_x": 62,
                  "school_y": 75,
                  "school_tw_st": 115,
                  "school_tw_end": 135,
                  "_deepnote_index_column": 6
                }
              ]
            },
            "text/plain": "   ID  start_x  start_y  student_num  service_duration  school_x  school_y  \\\n0   1       18        4           60                34        62        75   \n1   2       43       28           69                35        62        75   \n2   3       32       20           43                23        62        75   \n3   4       43        2           52                27        62        75   \n4   5       81       97           30                21        62        75   \n5   6       27       12           44                21        62        75   \n6   7       76       24           37                21        62        75   \n\n   school_tw_st  school_tw_end  \n0           115            135  \n1           115            135  \n2           115            135  \n3           115            135  \n4           115            135  \n5           115            135  \n6           115            135  ",
            "text/html": "<div>\n<style scoped>\n    .dataframe tbody tr th:only-of-type {\n        vertical-align: middle;\n    }\n\n    .dataframe tbody tr th {\n        vertical-align: top;\n    }\n\n    .dataframe thead th {\n        text-align: right;\n    }\n</style>\n<table border=\"1\" class=\"dataframe\">\n  <thead>\n    <tr style=\"text-align: right;\">\n      <th></th>\n      <th>ID</th>\n      <th>start_x</th>\n      <th>start_y</th>\n      <th>student_num</th>\n      <th>service_duration</th>\n      <th>school_x</th>\n      <th>school_y</th>\n      <th>school_tw_st</th>\n      <th>school_tw_end</th>\n    </tr>\n  </thead>\n  <tbody>\n    <tr>\n      <th>0</th>\n      <td>1</td>\n      <td>18</td>\n      <td>4</td>\n      <td>60</td>\n      <td>34</td>\n      <td>62</td>\n      <td>75</td>\n      <td>115</td>\n      <td>135</td>\n    </tr>\n    <tr>\n      <th>1</th>\n      <td>2</td>\n      <td>43</td>\n      <td>28</td>\n      <td>69</td>\n      <td>35</td>\n      <td>62</td>\n      <td>75</td>\n      <td>115</td>\n      <td>135</td>\n    </tr>\n    <tr>\n      <th>2</th>\n      <td>3</td>\n      <td>32</td>\n      <td>20</td>\n      <td>43</td>\n      <td>23</td>\n      <td>62</td>\n      <td>75</td>\n      <td>115</td>\n      <td>135</td>\n    </tr>\n    <tr>\n      <th>3</th>\n      <td>4</td>\n      <td>43</td>\n      <td>2</td>\n      <td>52</td>\n      <td>27</td>\n      <td>62</td>\n      <td>75</td>\n      <td>115</td>\n      <td>135</td>\n    </tr>\n    <tr>\n      <th>4</th>\n      <td>5</td>\n      <td>81</td>\n      <td>97</td>\n      <td>30</td>\n      <td>21</td>\n      <td>62</td>\n      <td>75</td>\n      <td>115</td>\n      <td>135</td>\n    </tr>\n    <tr>\n      <th>5</th>\n      <td>6</td>\n      <td>27</td>\n      <td>12</td>\n      <td>44</td>\n      <td>21</td>\n      <td>62</td>\n      <td>75</td>\n      <td>115</td>\n      <td>135</td>\n    </tr>\n    <tr>\n      <th>6</th>\n      <td>7</td>\n      <td>76</td>\n      <td>24</td>\n      <td>37</td>\n      <td>21</td>\n      <td>62</td>\n      <td>75</td>\n      <td>115</td>\n      <td>135</td>\n    </tr>\n  </tbody>\n</table>\n</div>"
          },
          "metadata": {}
        }
      ],
      "execution_count": 35
    },
    {
      "cell_type": "code",
      "source": "DeepnoteChart(df, \"\"\"{\"layer\":[{\"layer\":[{\"mark\":{\"clip\":true,\"type\":\"circle\",\"tooltip\":true},\"encoding\":{\"x\":{\"sort\":null,\"type\":\"quantitative\",\"field\":\"start_x\",\"scale\":{\"type\":\"linear\",\"zero\":false},\"format\":{\"type\":\"default\",\"decimals\":null},\"formatType\":\"numberFormatFromNumberType\"},\"y\":{\"sort\":null,\"type\":\"quantitative\",\"field\":\"start_y\",\"scale\":{\"type\":\"linear\",\"zero\":false},\"format\":{\"type\":\"default\",\"decimals\":null},\"formatType\":\"numberFormatFromNumberType\"},\"color\":{\"sort\":null,\"type\":\"quantitative\",\"field\":\"school_y\",\"scale\":{\"scheme\":\"redyellowblue\"}}}}]},{\"layer\":[{\"mark\":{\"clip\":true,\"type\":\"circle\",\"color\":\"#54a24b\",\"tooltip\":true},\"encoding\":{\"x\":{\"sort\":null,\"type\":\"quantitative\",\"field\":\"school_d\",\"scale\":{\"type\":\"linear\",\"zero\":false},\"format\":{\"type\":\"default\",\"decimals\":null},\"formatType\":\"numberFormatFromNumberType\"},\"y\":{\"sort\":null,\"type\":\"quantitative\",\"field\":\"school_y\",\"scale\":{\"type\":\"linear\",\"zero\":false},\"format\":{\"type\":\"default\",\"decimals\":null},\"formatType\":\"numberFormatFromNumberType\"}}}]}],\"title\":\"\",\"config\":{\"legend\":{}},\"$schema\":\"https://vega.github.io/schema/vega-lite/v5.json\",\"encoding\":{}}\"\"\")",
      "metadata": {
        "source_hash": "7050a83b",
        "output_cleared": false,
        "execution_start": 1690290100966,
        "execution_millis": 597,
        "deepnote_variable_name": "df",
        "deepnote_config_collapsed": false,
        "deepnote_to_be_reexecuted": false,
        "deepnote_visualization_spec": {
          "layer": [
            {
              "layer": [
                {
                  "mark": {
                    "clip": true,
                    "type": "circle",
                    "tooltip": true
                  },
                  "encoding": {
                    "x": {
                      "sort": null,
                      "type": "quantitative",
                      "field": "start_x",
                      "scale": {
                        "type": "linear",
                        "zero": false
                      },
                      "format": {
                        "type": "default",
                        "decimals": null
                      },
                      "formatType": "numberFormatFromNumberType"
                    },
                    "y": {
                      "sort": null,
                      "type": "quantitative",
                      "field": "start_y",
                      "scale": {
                        "type": "linear",
                        "zero": false
                      },
                      "format": {
                        "type": "default",
                        "decimals": null
                      },
                      "formatType": "numberFormatFromNumberType"
                    },
                    "color": {
                      "sort": null,
                      "type": "quantitative",
                      "field": "school_y",
                      "scale": {
                        "scheme": "redyellowblue"
                      }
                    }
                  }
                }
              ]
            },
            {
              "layer": [
                {
                  "mark": {
                    "clip": true,
                    "type": "circle",
                    "color": "#54a24b",
                    "tooltip": true
                  },
                  "encoding": {
                    "x": {
                      "sort": null,
                      "type": "quantitative",
                      "field": "school_d",
                      "scale": {
                        "type": "linear",
                        "zero": false
                      },
                      "format": {
                        "type": "default",
                        "decimals": null
                      },
                      "formatType": "numberFormatFromNumberType"
                    },
                    "y": {
                      "sort": null,
                      "type": "quantitative",
                      "field": "school_y",
                      "scale": {
                        "type": "linear",
                        "zero": false
                      },
                      "format": {
                        "type": "default",
                        "decimals": null
                      },
                      "formatType": "numberFormatFromNumberType"
                    }
                  }
                }
              ]
            }
          ],
          "title": "",
          "config": {
            "legend": {}
          },
          "$schema": "https://vega.github.io/schema/vega-lite/v5.json",
          "encoding": {}
        },
        "cell_id": "1814f3e5656a4b68a83179fa5f14635b",
        "deepnote_cell_type": "visualization"
      },
      "outputs": [
        {
          "output_type": "execute_result",
          "execution_count": 28,
          "data": {
            "application/vnd.vegalite.v5+json": {
              "$schema": "https://vega.github.io/schema/vega-lite/v5.json",
              "encoding": {},
              "layer": [
                {
                  "layer": [
                    {
                      "mark": {
                        "type": "circle",
                        "tooltip": true,
                        "clip": true
                      },
                      "encoding": {
                        "x": {
                          "field": "start_x",
                          "type": "quantitative",
                          "sort": null,
                          "scale": {
                            "zero": false,
                            "type": "linear"
                          },
                          "formatType": "numberFormatFromNumberType",
                          "format": {
                            "type": "default",
                            "decimals": null
                          }
                        },
                        "y": {
                          "field": "start_y",
                          "type": "quantitative",
                          "sort": null,
                          "scale": {
                            "zero": false,
                            "type": "linear"
                          },
                          "formatType": "numberFormatFromNumberType",
                          "format": {
                            "type": "default",
                            "decimals": null
                          }
                        },
                        "color": {
                          "field": "school_y",
                          "type": "quantitative",
                          "sort": null,
                          "scale": {
                            "scheme": "redyellowblue"
                          }
                        }
                      }
                    }
                  ]
                },
                {
                  "layer": [
                    {
                      "mark": {
                        "type": "circle",
                        "tooltip": true,
                        "color": "#54a24b",
                        "clip": true
                      },
                      "encoding": {
                        "x": {
                          "field": "school_d",
                          "type": "quantitative",
                          "sort": null,
                          "scale": {
                            "zero": false,
                            "type": "linear"
                          },
                          "formatType": "numberFormatFromNumberType",
                          "format": {
                            "type": "default",
                            "decimals": null
                          }
                        },
                        "y": {
                          "field": "school_y",
                          "type": "quantitative",
                          "sort": null,
                          "scale": {
                            "zero": false,
                            "type": "linear"
                          },
                          "formatType": "numberFormatFromNumberType",
                          "format": {
                            "type": "default",
                            "decimals": null
                          }
                        }
                      }
                    }
                  ]
                }
              ],
              "title": "",
              "config": {
                "legend": {}
              },
              "data": {
                "values": [
                  {
                    "ID": 1,
                    "start_x": 18,
                    "start_y": 4,
                    "student_num": 60,
                    "service_duration": 34,
                    "school_d": 62,
                    "school_y": 75,
                    "school_tw_st": 115,
                    "school_tw_end": 135
                  },
                  {
                    "ID": 2,
                    "start_x": 43,
                    "start_y": 28,
                    "student_num": 69,
                    "service_duration": 35,
                    "school_d": 62,
                    "school_y": 75,
                    "school_tw_st": 115,
                    "school_tw_end": 135
                  },
                  {
                    "ID": 3,
                    "start_x": 32,
                    "start_y": 20,
                    "student_num": 43,
                    "service_duration": 23,
                    "school_d": 62,
                    "school_y": 75,
                    "school_tw_st": 115,
                    "school_tw_end": 135
                  },
                  {
                    "ID": 4,
                    "start_x": 43,
                    "start_y": 2,
                    "student_num": 52,
                    "service_duration": 27,
                    "school_d": 62,
                    "school_y": 75,
                    "school_tw_st": 115,
                    "school_tw_end": 135
                  },
                  {
                    "ID": 5,
                    "start_x": 81,
                    "start_y": 97,
                    "student_num": 30,
                    "service_duration": 21,
                    "school_d": 62,
                    "school_y": 75,
                    "school_tw_st": 115,
                    "school_tw_end": 135
                  },
                  {
                    "ID": 6,
                    "start_x": 27,
                    "start_y": 12,
                    "student_num": 44,
                    "service_duration": 21,
                    "school_d": 62,
                    "school_y": 75,
                    "school_tw_st": 115,
                    "school_tw_end": 135
                  },
                  {
                    "ID": 7,
                    "start_x": 76,
                    "start_y": 24,
                    "student_num": 37,
                    "service_duration": 21,
                    "school_d": 62,
                    "school_y": 75,
                    "school_tw_st": 115,
                    "school_tw_end": 135
                  },
                  {
                    "ID": 8,
                    "start_x": 37,
                    "start_y": 92,
                    "student_num": 37,
                    "service_duration": 34,
                    "school_d": 61,
                    "school_y": 43,
                    "school_tw_st": 57,
                    "school_tw_end": 80
                  },
                  {
                    "ID": 9,
                    "start_x": 3,
                    "start_y": 29,
                    "student_num": 37,
                    "service_duration": 22,
                    "school_d": 61,
                    "school_y": 43,
                    "school_tw_st": 57,
                    "school_tw_end": 80
                  },
                  {
                    "ID": 10,
                    "start_x": 49,
                    "start_y": 86,
                    "student_num": 53,
                    "service_duration": 29,
                    "school_d": 61,
                    "school_y": 43,
                    "school_tw_st": 57,
                    "school_tw_end": 80
                  },
                  {
                    "ID": 11,
                    "start_x": 7,
                    "start_y": 59,
                    "student_num": 38,
                    "service_duration": 35,
                    "school_d": 61,
                    "school_y": 43,
                    "school_tw_st": 57,
                    "school_tw_end": 80
                  },
                  {
                    "ID": 12,
                    "start_x": 21,
                    "start_y": 5,
                    "student_num": 43,
                    "service_duration": 20,
                    "school_d": 61,
                    "school_y": 43,
                    "school_tw_st": 57,
                    "school_tw_end": 80
                  },
                  {
                    "ID": 13,
                    "start_x": 75,
                    "start_y": 9,
                    "student_num": 53,
                    "service_duration": 36,
                    "school_d": 61,
                    "school_y": 43,
                    "school_tw_st": 57,
                    "school_tw_end": 80
                  }
                ]
              }
            },
            "text/plain": "<__main__.DeepnoteChart at 0x7f6decc402e0>"
          },
          "metadata": {}
        }
      ],
      "execution_count": 28
    },
    {
      "cell_type": "code",
      "source": "# See vehicles\n\nvehicles_df = pd.read_csv(csv_path.replace('test', 'vehicle'), sep=\" \")\n\nvehicles_df\n\n",
      "metadata": {
        "source_hash": "6a97836b",
        "execution_start": 1690290461210,
        "execution_millis": 616,
        "deepnote_to_be_reexecuted": false,
        "cell_id": "665754179f56450b869ee268f9cdc668",
        "deepnote_cell_type": "code"
      },
      "outputs": [
        {
          "output_type": "execute_result",
          "execution_count": 36,
          "data": {
            "application/vnd.deepnote.dataframe.v3+json": {
              "column_count": 4,
              "row_count": 7,
              "columns": [
                {
                  "name": "Veh_ID",
                  "dtype": "int64",
                  "stats": {
                    "unique_count": 7,
                    "nan_count": 0,
                    "min": "1",
                    "max": "7",
                    "histogram": [
                      {
                        "bin_start": 1,
                        "bin_end": 1.6,
                        "count": 1
                      },
                      {
                        "bin_start": 1.6,
                        "bin_end": 2.2,
                        "count": 1
                      },
                      {
                        "bin_start": 2.2,
                        "bin_end": 2.8,
                        "count": 0
                      },
                      {
                        "bin_start": 2.8,
                        "bin_end": 3.4,
                        "count": 1
                      },
                      {
                        "bin_start": 3.4,
                        "bin_end": 4,
                        "count": 0
                      },
                      {
                        "bin_start": 4,
                        "bin_end": 4.6,
                        "count": 1
                      },
                      {
                        "bin_start": 4.6,
                        "bin_end": 5.2,
                        "count": 1
                      },
                      {
                        "bin_start": 5.2,
                        "bin_end": 5.8,
                        "count": 0
                      },
                      {
                        "bin_start": 5.8,
                        "bin_end": 6.3999999999999995,
                        "count": 1
                      },
                      {
                        "bin_start": 6.3999999999999995,
                        "bin_end": 7,
                        "count": 1
                      }
                    ]
                  }
                },
                {
                  "name": "depot_x",
                  "dtype": "int64",
                  "stats": {
                    "unique_count": 1,
                    "nan_count": 0,
                    "min": "50",
                    "max": "50",
                    "histogram": [
                      {
                        "bin_start": 49.5,
                        "bin_end": 49.6,
                        "count": 0
                      },
                      {
                        "bin_start": 49.6,
                        "bin_end": 49.7,
                        "count": 0
                      },
                      {
                        "bin_start": 49.7,
                        "bin_end": 49.8,
                        "count": 0
                      },
                      {
                        "bin_start": 49.8,
                        "bin_end": 49.9,
                        "count": 0
                      },
                      {
                        "bin_start": 49.9,
                        "bin_end": 50,
                        "count": 0
                      },
                      {
                        "bin_start": 50,
                        "bin_end": 50.1,
                        "count": 7
                      },
                      {
                        "bin_start": 50.1,
                        "bin_end": 50.2,
                        "count": 0
                      },
                      {
                        "bin_start": 50.2,
                        "bin_end": 50.3,
                        "count": 0
                      },
                      {
                        "bin_start": 50.3,
                        "bin_end": 50.4,
                        "count": 0
                      },
                      {
                        "bin_start": 50.4,
                        "bin_end": 50.5,
                        "count": 0
                      }
                    ]
                  }
                },
                {
                  "name": "depot_y",
                  "dtype": "int64",
                  "stats": {
                    "unique_count": 1,
                    "nan_count": 0,
                    "min": "50",
                    "max": "50",
                    "histogram": [
                      {
                        "bin_start": 49.5,
                        "bin_end": 49.6,
                        "count": 0
                      },
                      {
                        "bin_start": 49.6,
                        "bin_end": 49.7,
                        "count": 0
                      },
                      {
                        "bin_start": 49.7,
                        "bin_end": 49.8,
                        "count": 0
                      },
                      {
                        "bin_start": 49.8,
                        "bin_end": 49.9,
                        "count": 0
                      },
                      {
                        "bin_start": 49.9,
                        "bin_end": 50,
                        "count": 0
                      },
                      {
                        "bin_start": 50,
                        "bin_end": 50.1,
                        "count": 7
                      },
                      {
                        "bin_start": 50.1,
                        "bin_end": 50.2,
                        "count": 0
                      },
                      {
                        "bin_start": 50.2,
                        "bin_end": 50.3,
                        "count": 0
                      },
                      {
                        "bin_start": 50.3,
                        "bin_end": 50.4,
                        "count": 0
                      },
                      {
                        "bin_start": 50.4,
                        "bin_end": 50.5,
                        "count": 0
                      }
                    ]
                  }
                },
                {
                  "name": "capacity",
                  "dtype": "int64",
                  "stats": {
                    "unique_count": 3,
                    "nan_count": 0,
                    "min": "40",
                    "max": "70",
                    "histogram": [
                      {
                        "bin_start": 40,
                        "bin_end": 43,
                        "count": 1
                      },
                      {
                        "bin_start": 43,
                        "bin_end": 46,
                        "count": 0
                      },
                      {
                        "bin_start": 46,
                        "bin_end": 49,
                        "count": 0
                      },
                      {
                        "bin_start": 49,
                        "bin_end": 52,
                        "count": 2
                      },
                      {
                        "bin_start": 52,
                        "bin_end": 55,
                        "count": 0
                      },
                      {
                        "bin_start": 55,
                        "bin_end": 58,
                        "count": 0
                      },
                      {
                        "bin_start": 58,
                        "bin_end": 61,
                        "count": 0
                      },
                      {
                        "bin_start": 61,
                        "bin_end": 64,
                        "count": 0
                      },
                      {
                        "bin_start": 64,
                        "bin_end": 67,
                        "count": 0
                      },
                      {
                        "bin_start": 67,
                        "bin_end": 70,
                        "count": 4
                      }
                    ]
                  }
                },
                {
                  "name": "_deepnote_index_column",
                  "dtype": "int64"
                }
              ],
              "rows": [
                {
                  "Veh_ID": 1,
                  "depot_x": 50,
                  "depot_y": 50,
                  "capacity": 50,
                  "_deepnote_index_column": 0
                },
                {
                  "Veh_ID": 2,
                  "depot_x": 50,
                  "depot_y": 50,
                  "capacity": 40,
                  "_deepnote_index_column": 1
                },
                {
                  "Veh_ID": 3,
                  "depot_x": 50,
                  "depot_y": 50,
                  "capacity": 50,
                  "_deepnote_index_column": 2
                },
                {
                  "Veh_ID": 4,
                  "depot_x": 50,
                  "depot_y": 50,
                  "capacity": 70,
                  "_deepnote_index_column": 3
                },
                {
                  "Veh_ID": 5,
                  "depot_x": 50,
                  "depot_y": 50,
                  "capacity": 70,
                  "_deepnote_index_column": 4
                },
                {
                  "Veh_ID": 6,
                  "depot_x": 50,
                  "depot_y": 50,
                  "capacity": 70,
                  "_deepnote_index_column": 5
                },
                {
                  "Veh_ID": 7,
                  "depot_x": 50,
                  "depot_y": 50,
                  "capacity": 70,
                  "_deepnote_index_column": 6
                }
              ]
            },
            "text/plain": "   Veh_ID  depot_x  depot_y  capacity\n0       1       50       50        50\n1       2       50       50        40\n2       3       50       50        50\n3       4       50       50        70\n4       5       50       50        70\n5       6       50       50        70\n6       7       50       50        70",
            "text/html": "<div>\n<style scoped>\n    .dataframe tbody tr th:only-of-type {\n        vertical-align: middle;\n    }\n\n    .dataframe tbody tr th {\n        vertical-align: top;\n    }\n\n    .dataframe thead th {\n        text-align: right;\n    }\n</style>\n<table border=\"1\" class=\"dataframe\">\n  <thead>\n    <tr style=\"text-align: right;\">\n      <th></th>\n      <th>Veh_ID</th>\n      <th>depot_x</th>\n      <th>depot_y</th>\n      <th>capacity</th>\n    </tr>\n  </thead>\n  <tbody>\n    <tr>\n      <th>0</th>\n      <td>1</td>\n      <td>50</td>\n      <td>50</td>\n      <td>50</td>\n    </tr>\n    <tr>\n      <th>1</th>\n      <td>2</td>\n      <td>50</td>\n      <td>50</td>\n      <td>40</td>\n    </tr>\n    <tr>\n      <th>2</th>\n      <td>3</td>\n      <td>50</td>\n      <td>50</td>\n      <td>50</td>\n    </tr>\n    <tr>\n      <th>3</th>\n      <td>4</td>\n      <td>50</td>\n      <td>50</td>\n      <td>70</td>\n    </tr>\n    <tr>\n      <th>4</th>\n      <td>5</td>\n      <td>50</td>\n      <td>50</td>\n      <td>70</td>\n    </tr>\n    <tr>\n      <th>5</th>\n      <td>6</td>\n      <td>50</td>\n      <td>50</td>\n      <td>70</td>\n    </tr>\n    <tr>\n      <th>6</th>\n      <td>7</td>\n      <td>50</td>\n      <td>50</td>\n      <td>70</td>\n    </tr>\n  </tbody>\n</table>\n</div>"
          },
          "metadata": {}
        }
      ],
      "execution_count": 36
    },
    {
      "cell_type": "code",
      "source": "\n#!/usr/bin/env python3\n# This Python file uses the following encoding: utf-8\n# Copyright 2015 Tin Arm Engineering AB\n# Copyright 2018 Google LLC\n# Licensed under the Apache License, Version 2.0 (the \"License\");\n# you may not use this file except in compliance with the License.\n# You may obtain a copy of the License at\n#\n#     http://www.apache.org/licenses/LICENSE-2.0\n#\n# Unless required by applicable law or agreed to in writing, software\n# distributed under the License is distributed on an \"AS IS\" BASIS,\n# WITHOUT WARRANTIES OR CONDITIONS OF ANY KIND, either express or implied.\n# See the License for the specific language governing permissions and\n# limitations under the License.\n# [START program]\n\"\"\"Capacitated Vehicle Routing Problem with Time Windows (CVRPTW).\n\n   This is a sample using the routing library python wrapper to solve a CVRPTW\n   problem.\n   A description of the problem can be found here:\n   http://en.wikipedia.org/wiki/Vehicle_routing_problem.\n\n   Distances are in meters and time in minutes.\n\"\"\"\n\n# [START import]\nfrom functools import partial\nfrom ortools.constraint_solver import routing_enums_pb2\nfrom ortools.constraint_solver import pywrapcp\n# [END import]\n\n\n# [START data_model]\ndef create_data_model():\n    \"\"\"Stores the data for the problem.\"\"\"\n    data = {}\n    # Locations in block unit\n    _locations = \\\n            [(4, 4), # depot\n             (2, 0), (8, 0), # locations to visit\n             (0, 1), (1, 1),\n             (5, 2), (7, 2),\n             (3, 3), (6, 3),\n             (5, 5), (8, 5),\n             (1, 6), (2, 6),\n             (3, 7), (6, 7),\n             (0, 8), (7, 8)]\n    # Compute locations in meters using the block dimension defined as follow\n    # Manhattan average block: 750ft x 264ft -> 228m x 80m\n    # here we use: 114m x 80m city block\n    # src: https://nyti.ms/2GDoRIe \"NY Times: Know Your distance\"\n    data['locations'] = [(l[0] * 114, l[1] * 80) for l in _locations]\n    data['num_locations'] = len(data['locations'])\n    data['time_windows'] = \\\n          [(0, 0),\n           (75, 85), (75, 85), # 1, 2\n           (60, 70), (45, 55), # 3, 4\n           (0, 8), (50, 60), # 5, 6\n           (0, 10), (10, 20), # 7, 8\n           (0, 10), (75, 85), # 9, 10\n           (85, 95), (5, 15), # 11, 12\n           (15, 25), (10, 20), # 13, 14\n           (45, 55), (30, 40)] # 15, 16\n    data['demands'] = \\\n          [0, # depot\n           1, 1, # 1, 2\n           2, 4, # 3, 4\n           2, 4, # 5, 6\n           8, 8, # 7, 8\n           1, 2, # 9,10\n           1, 2, # 11,12\n           4, 4, # 13, 14\n           8, 8] # 15, 16\n    data['time_per_demand_unit'] = 5  # 5 minutes/unit\n    data['num_vehicles'] = 4\n    data['vehicle_capacity'] = 15\n    data['vehicle_speed'] = 83  # Travel speed: 5km/h converted in m/min\n    data['depot'] = 0\n    return data\n    # [END data_model]\n\n\n#######################\n# Problem Constraints #\n#######################\ndef manhattan_distance(position_1, position_2):\n    \"\"\"Computes the Manhattan distance between two points\"\"\"\n    return (\n        abs(position_1[0] - position_2[0]) + abs(position_1[1] - position_2[1]))\n\n\ndef create_distance_evaluator(data):\n    \"\"\"Creates callback to return distance between points.\"\"\"\n    _distances = {}\n    # precompute distance between location to have distance callback in O(1)\n    for from_node in range(data['num_locations']):\n        _distances[from_node] = {}\n        for to_node in range(data['num_locations']):\n            if from_node == to_node:\n                _distances[from_node][to_node] = 0\n            else:\n                _distances[from_node][to_node] = (manhattan_distance(\n                    data['locations'][from_node], data['locations'][to_node]))\n\n    def distance_evaluator(manager, from_node, to_node):\n        \"\"\"Returns the manhattan distance between the two nodes\"\"\"\n        return _distances[manager.IndexToNode(from_node)][manager.IndexToNode(\n            to_node)]\n\n    return distance_evaluator\n\n\ndef create_demand_evaluator(data):\n    \"\"\"Creates callback to get demands at each location.\"\"\"\n    _demands = data['demands']\n\n    def demand_evaluator(manager, node):\n        \"\"\"Returns the demand of the current node\"\"\"\n        return _demands[manager.IndexToNode(node)]\n\n    return demand_evaluator\n\n\ndef add_capacity_constraints(routing, data, demand_evaluator_index):\n    \"\"\"Adds capacity constraint\"\"\"\n    capacity = 'Capacity'\n    routing.AddDimension(\n        demand_evaluator_index,\n        0,  # null capacity slack\n        data['vehicle_capacity'],\n        True,  # start cumul to zero\n        capacity)\n\n\ndef create_time_evaluator(data):\n    \"\"\"Creates callback to get total times between locations.\"\"\"\n\n    def service_time(data, node):\n        \"\"\"Gets the service time for the specified location.\"\"\"\n        return data['demands'][node] * data['time_per_demand_unit']\n\n    def travel_time(data, from_node, to_node):\n        \"\"\"Gets the travel times between two locations.\"\"\"\n        if from_node == to_node:\n            travel_time = 0\n        else:\n            travel_time = manhattan_distance(data['locations'][from_node], data[\n                'locations'][to_node]) / data['vehicle_speed']\n        return travel_time\n\n    _total_time = {}\n    # precompute total time to have time callback in O(1)\n    for from_node in range(data['num_locations']):\n        _total_time[from_node] = {}\n        for to_node in range(data['num_locations']):\n            if from_node == to_node:\n                _total_time[from_node][to_node] = 0\n            else:\n                _total_time[from_node][to_node] = int(\n                    service_time(data, from_node) + travel_time(\n                        data, from_node, to_node))\n\n    def time_evaluator(manager, from_node, to_node):\n        \"\"\"Returns the total time between the two nodes\"\"\"\n        return _total_time[manager.IndexToNode(from_node)][manager.IndexToNode(\n            to_node)]\n\n    return time_evaluator\n\n\ndef add_time_window_constraints(routing, manager, data, time_evaluator_index):\n    \"\"\"Add Global Span constraint\"\"\"\n    time = 'Time'\n    horizon = 120\n    routing.AddDimension(\n        time_evaluator_index,\n        horizon,  # allow waiting time\n        horizon,  # maximum time per vehicle\n        False,  # don't force start cumul to zero since we are giving TW to start nodes\n        time)\n    time_dimension = routing.GetDimensionOrDie(time)\n    # Add time window constraints for each location except depot\n    # and 'copy' the slack var in the solution object (aka Assignment) to print it\n    for location_idx, time_window in enumerate(data['time_windows']):\n        if location_idx == 0:\n            continue\n        index = manager.NodeToIndex(location_idx)\n        time_dimension.CumulVar(index).SetRange(time_window[0], time_window[1])\n        routing.AddToAssignment(time_dimension.SlackVar(index))\n    # Add time window constraints for each vehicle start node\n    # and 'copy' the slack var in the solution object (aka Assignment) to print it\n    for vehicle_id in range(data['num_vehicles']):\n        index = routing.Start(vehicle_id)\n        time_dimension.CumulVar(index).SetRange(data['time_windows'][0][0],\n                                                data['time_windows'][0][1])\n        routing.AddToAssignment(time_dimension.SlackVar(index))\n        # Warning: Slack var is not defined for vehicle's end node\n        #routing.AddToAssignment(time_dimension.SlackVar(self.routing.End(vehicle_id)))\n\n\n# [START solution_printer]\ndef print_solution(manager, routing, assignment):  # pylint:disable=too-many-locals\n    \"\"\"Prints assignment on console\"\"\"\n    print(f'Objective: {assignment.ObjectiveValue()}')\n    time_dimension = routing.GetDimensionOrDie('Time')\n    capacity_dimension = routing.GetDimensionOrDie('Capacity')\n    total_distance = 0\n    total_load = 0\n    total_time = 0\n    for vehicle_id in range(manager.GetNumberOfVehicles()):\n        index = routing.Start(vehicle_id)\n        plan_output = 'Route for vehicle {}:\\n'.format(vehicle_id)\n        distance = 0\n        while not routing.IsEnd(index):\n            load_var = capacity_dimension.CumulVar(index)\n            time_var = time_dimension.CumulVar(index)\n            slack_var = time_dimension.SlackVar(index)\n            plan_output += ' {0} Load({1}) Time({2},{3}) Slack({4},{5}) ->'.format(\n                manager.IndexToNode(index),\n                assignment.Value(load_var),\n                assignment.Min(time_var),\n                assignment.Max(time_var),\n                assignment.Min(slack_var), assignment.Max(slack_var))\n            previous_index = index\n            index = assignment.Value(routing.NextVar(index))\n            distance += routing.GetArcCostForVehicle(previous_index, index,\n                                                     vehicle_id)\n        load_var = capacity_dimension.CumulVar(index)\n        time_var = time_dimension.CumulVar(index)\n        slack_var = time_dimension.SlackVar(index)\n        plan_output += ' {0} Load({1}) Time({2},{3})\\n'.format(\n            manager.IndexToNode(index),\n            assignment.Value(load_var),\n            assignment.Min(time_var), assignment.Max(time_var))\n        plan_output += 'Distance of the route: {0}m\\n'.format(distance)\n        plan_output += 'Load of the route: {}\\n'.format(\n            assignment.Value(load_var))\n        plan_output += 'Time of the route: {}\\n'.format(\n            assignment.Value(time_var))\n        print(plan_output)\n        total_distance += distance\n        total_load += assignment.Value(load_var)\n        total_time += assignment.Value(time_var)\n    print('Total Distance of all routes: {0}m'.format(total_distance))\n    print('Total Load of all routes: {}'.format(total_load))\n    print('Total Time of all routes: {0}min'.format(total_time))\n    # [END solution_printer]\n\n\ndef main():\n    \"\"\"Solve the Capacitated VRP with time windows.\"\"\"\n    # Instantiate the data problem.\n    # [START data]\n    data = create_data_model()\n    # [END data]\n\n    # Create the routing index manager.\n    # [START index_manager]\n    manager = pywrapcp.RoutingIndexManager(data['num_locations'],\n                                           data['num_vehicles'], data['depot'])\n    # [END index_manager]\n\n    # Create Routing Model.\n    # [START routing_model]\n    routing = pywrapcp.RoutingModel(manager)\n    # [END routing_model]\n\n    # Define weight of each edge.\n    # [START transit_callback]\n    distance_evaluator_index = routing.RegisterTransitCallback(\n        partial(create_distance_evaluator(data), manager))\n    # [END transit_callback]\n\n    # Define cost of each arc.\n    # [START arc_cost]\n    routing.SetArcCostEvaluatorOfAllVehicles(distance_evaluator_index)\n    # [END arc_cost]\n\n    # Add Capacity constraint.\n    # [START capacity_constraint]\n    demand_evaluator_index = routing.RegisterUnaryTransitCallback(\n        partial(create_demand_evaluator(data), manager))\n    add_capacity_constraints(routing, data, demand_evaluator_index)\n    # [END capacity_constraint]\n\n    # Add Time Window constraint.\n    # [START time_constraint]\n    time_evaluator_index = routing.RegisterTransitCallback(\n        partial(create_time_evaluator(data), manager))\n    add_time_window_constraints(routing, manager, data, time_evaluator_index)\n    # [END time_constraint]\n\n    # Setting first solution heuristic (cheapest addition).\n    # [START parameters]\n    search_parameters = pywrapcp.DefaultRoutingSearchParameters()\n    search_parameters.first_solution_strategy = (\n        routing_enums_pb2.FirstSolutionStrategy.PATH_CHEAPEST_ARC)\n    search_parameters.local_search_metaheuristic = (\n        routing_enums_pb2.LocalSearchMetaheuristic.GUIDED_LOCAL_SEARCH)\n    search_parameters.time_limit.FromSeconds(2)\n    search_parameters.log_search = True\n    # [END parameters]\n\n    # Solve the problem.\n    # [START solve]\n    solution = routing.SolveWithParameters(search_parameters)\n    # [END solve]\n\n    # Print solution on console.\n    # [START print_solution]\n    if solution:\n        print_solution(manager, routing, solution)\n    else:\n        print('No solution found!')\n    # [END print_solution]\n\n\nif __name__ == '__main__':\n    main()\n# [END program]",
      "metadata": {
        "source_hash": "75f96687",
        "execution_start": 1690289261964,
        "execution_millis": 2345,
        "deepnote_to_be_reexecuted": false,
        "cell_id": "51f754e1f2c142d1bc6fddc651f11d9d",
        "deepnote_cell_type": "code"
      },
      "outputs": [
        {
          "name": "stderr",
          "text": "WARNING: All log messages before absl::InitializeLog() is called are written to STDERR\nI0000 00:00:1690289262.143970      39 search.cc:265] Start search (memory used = 247.16 MB)\nI0000 00:00:1690289262.144099      39 search.cc:265] Root node processed (time = 0 ms, constraints = 146, memory used = 247.19 MB)\nI0000 00:00:1690289263.163618      39 search.cc:265] Solution #0 (6596, time = 1019 ms, branches = 86380, failures = 43165, depth = 33, memory used = 247.19 MB, limit = 50%)\nObjective: 6596\nRoute for vehicle 0:\n 0 Load(0) Time(0,0) Slack(1,9) -> 12 Load(0) Time(5,13) Slack(0,8) -> 13 Load(2) Time(17,25) Slack(0,10) -> 15 Load(6) Time(45,52) Slack(0,7) -> 11 Load(14) Time(88,95) Slack(0,21) -> 0 Load(15) Time(99,120)\nDistance of the route: 1780m\nLoad of the route: 15\nTime of the route: 99\n\nRoute for vehicle 1:\n 0 Load(0) Time(0,0) Slack(0,3) -> 5 Load(0) Time(3,6) Slack(0,3) -> 8 Load(2) Time(15,18) Slack(0,3) -> 6 Load(10) Time(57,60) Slack(0,5) -> 2 Load(14) Time(80,85) Slack(0,26) -> 0 Load(15) Time(94,120)\nDistance of the route: 1712m\nLoad of the route: 15\nTime of the route: 94\n\nRoute for vehicle 2:\n 0 Load(0) Time(0,0) Slack(0,3) -> 7 Load(0) Time(2,5) Slack(0,3) -> 4 Load(8) Time(46,49) Slack(0,3) -> 3 Load(12) Time(67,70) Slack(0,5) -> 1 Load(14) Time(80,85) Slack(0,29) -> 0 Load(15) Time(91,120)\nDistance of the route: 1552m\nLoad of the route: 15\nTime of the route: 91\n\nRoute for vehicle 3:\n 0 Load(0) Time(0,0) Slack(0,8) -> 9 Load(0) Time(2,10) Slack(0,8) -> 14 Load(1) Time(10,18) Slack(0,8) -> 16 Load(5) Time(32,40) Slack(0,9) -> 10 Load(13) Time(76,85) Slack(0,28) -> 0 Load(15) Time(92,120)\nDistance of the route: 1552m\nLoad of the route: 15\nTime of the route: 92\n\nTotal Distance of all routes: 6596m\nTotal Load of all routes: 60\nTotal Time of all routes: 376min\nI0000 00:00:1690289264.142976      39 search.cc:265] Finished search tree (time = 1998 ms, branches = 86616, failures = 43375, neighbors = 69267, filtered neighbors = 0, accepted neigbors = 0, memory used = 247.22 MB)\nI0000 00:00:1690289264.143112      39 search.cc:265] End search (time = 1999 ms, branches = 86616, failures = 43375, memory used = 247.25 MB, speed = 43329 branches/s)\n",
          "output_type": "stream"
        }
      ],
      "execution_count": 7
    },
    {
      "cell_type": "code",
      "source": "",
      "metadata": {
        "source_hash": "b623e53d",
        "execution_start": 1690289264182,
        "execution_millis": 13,
        "deepnote_to_be_reexecuted": false,
        "cell_id": "4f947d5128ec4b1690d3a329b3089e58",
        "deepnote_cell_type": "code"
      },
      "outputs": [],
      "execution_count": 8
    },
    {
      "cell_type": "code",
      "source": "",
      "metadata": {
        "source_hash": "b623e53d",
        "execution_start": 1690289264192,
        "execution_millis": 14,
        "deepnote_to_be_reexecuted": false,
        "cell_id": "047e6f9bac804ef695fdc69a2eff893c",
        "deepnote_cell_type": "code"
      },
      "outputs": [],
      "execution_count": 8
    },
    {
      "cell_type": "markdown",
      "source": "<a style='text-decoration:none;line-height:16px;display:flex;color:#5B5B62;padding:10px;justify-content:end;' href='https://deepnote.com?utm_source=created-in-deepnote-cell&projectId=cc890abb-2b7d-4315-906c-6acecf25218a' target=\"_blank\">\n<img alt='Created in deepnote.com' style='display:inline;max-height:16px;margin:0px;margin-right:7.5px;' src='data:image/svg+xml;base64,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' > </img>\nCreated in <span style='font-weight:600;margin-left:4px;'>Deepnote</span></a>",
      "metadata": {
        "created_in_deepnote_cell": true,
        "deepnote_cell_type": "markdown"
      }
    }
  ],
  "nbformat": 4,
  "nbformat_minor": 0,
  "metadata": {
    "deepnote": {},
    "orig_nbformat": 2,
    "deepnote_full_width": false,
    "deepnote_notebook_id": "2a03a77625684f07b40ec1c2c56c9d54",
    "deepnote_persisted_session": {
      "createdAt": "2023-07-25T11:02:07.407Z"
    },
    "deepnote_execution_queue": []
  }
}