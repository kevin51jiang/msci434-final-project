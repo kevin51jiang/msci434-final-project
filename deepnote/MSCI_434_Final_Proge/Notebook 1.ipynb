{
  "cells": [
    {
      "cell_type": "code",
      "source": "# # This is a Python block\n\n!pip install ortools numpy pandas gurobipy matplotlib",
      "metadata": {
        "source_hash": "117421a0",
        "execution_start": 1691095319765,
        "execution_millis": 2435,
        "deepnote_to_be_reexecuted": false,
        "cell_id": "e071cde0719d448fbb7fac556e957d2b",
        "deepnote_cell_type": "code"
      },
      "outputs": [
        {
          "name": "stdout",
          "text": "Requirement already satisfied: ortools in /root/venv/lib/python3.10/site-packages (9.6.2534)\nRequirement already satisfied: numpy in /shared-libs/python3.10/py/lib/python3.10/site-packages (1.23.4)\nRequirement already satisfied: pandas in /shared-libs/python3.10/py/lib/python3.10/site-packages (1.2.5)\nRequirement already satisfied: gurobipy in /root/venv/lib/python3.10/site-packages (10.0.2)\nRequirement already satisfied: matplotlib in /shared-libs/python3.10/py/lib/python3.10/site-packages (3.6.0)\nRequirement already satisfied: scipy>=1.10.0 in /root/venv/lib/python3.10/site-packages (from ortools) (1.11.1)\nRequirement already satisfied: protobuf>=4.21.12 in /root/venv/lib/python3.10/site-packages (from ortools) (4.23.4)\nRequirement already satisfied: absl-py>=0.13 in /shared-libs/python3.10/py/lib/python3.10/site-packages (from ortools) (1.3.0)\nRequirement already satisfied: pytz>=2017.3 in /shared-libs/python3.10/py/lib/python3.10/site-packages (from pandas) (2022.5)\nRequirement already satisfied: python-dateutil>=2.7.3 in /shared-libs/python3.10/py-core/lib/python3.10/site-packages (from pandas) (2.8.2)\nRequirement already satisfied: fonttools>=4.22.0 in /shared-libs/python3.10/py/lib/python3.10/site-packages (from matplotlib) (4.37.4)\nRequirement already satisfied: pyparsing>=2.2.1 in /shared-libs/python3.10/py-core/lib/python3.10/site-packages (from matplotlib) (3.0.9)\nRequirement already satisfied: cycler>=0.10 in /shared-libs/python3.10/py/lib/python3.10/site-packages (from matplotlib) (0.11.0)\nRequirement already satisfied: contourpy>=1.0.1 in /shared-libs/python3.10/py/lib/python3.10/site-packages (from matplotlib) (1.0.5)\nRequirement already satisfied: kiwisolver>=1.0.1 in /shared-libs/python3.10/py/lib/python3.10/site-packages (from matplotlib) (1.4.4)\nRequirement already satisfied: pillow>=6.2.0 in /shared-libs/python3.10/py/lib/python3.10/site-packages (from matplotlib) (9.2.0)\nRequirement already satisfied: packaging>=20.0 in /shared-libs/python3.10/py-core/lib/python3.10/site-packages (from matplotlib) (21.3)\nRequirement already satisfied: six>=1.5 in /shared-libs/python3.10/py-core/lib/python3.10/site-packages (from python-dateutil>=2.7.3->pandas) (1.16.0)\n\n\u001b[1m[\u001b[0m\u001b[34;49mnotice\u001b[0m\u001b[1;39;49m]\u001b[0m\u001b[39;49m A new release of pip is available: \u001b[0m\u001b[31;49m23.0.1\u001b[0m\u001b[39;49m -> \u001b[0m\u001b[32;49m23.2.1\u001b[0m\n\u001b[1m[\u001b[0m\u001b[34;49mnotice\u001b[0m\u001b[1;39;49m]\u001b[0m\u001b[39;49m To update, run: \u001b[0m\u001b[32;49mpip install --upgrade pip\u001b[0m\n",
          "output_type": "stream"
        }
      ],
      "execution_count": 1,
      "block_group": "e071cde0719d448fbb7fac556e957d2b"
    },
    {
      "cell_type": "code",
      "source": "# List all data files\n\nfrom glob import glob\n\nfiles = glob('/work/msci434-final-project/data/*.csv')\nfiles.sort()",
      "metadata": {
        "source_hash": "7cf036bd",
        "execution_start": 1691095322064,
        "execution_millis": 20,
        "deepnote_to_be_reexecuted": false,
        "cell_id": "404b59e19db14892840fd1da7e957c8c",
        "deepnote_cell_type": "code"
      },
      "outputs": [],
      "execution_count": 2,
      "block_group": "404b59e19db14892840fd1da7e957c8c"
    },
    {
      "cell_type": "code",
      "source": "csv_path = '/work/msci434-final-project/data/hetero_test_file1.csv'",
      "metadata": {
        "source_hash": "d3267a",
        "execution_start": 1691095322074,
        "execution_millis": 44,
        "deepnote_variable_name": "csv_path",
        "deepnote_variable_value": "/work/msci434-final-project/data/hetero_test_file1.csv",
        "deepnote_to_be_reexecuted": false,
        "deepnote_variable_options": [
          "/work/msci434-final-project/data/hetero_test_file0.csv",
          "/work/msci434-final-project/data/hetero_test_file1.csv",
          "/work/msci434-final-project/data/hetero_test_file10.csv",
          "/work/msci434-final-project/data/hetero_test_file100.csv",
          "/work/msci434-final-project/data/hetero_test_file2.csv",
          "/work/msci434-final-project/data/hetero_test_file20.csv",
          "/work/msci434-final-project/data/hetero_test_file3.csv",
          "/work/msci434-final-project/data/hetero_test_file30.csv",
          "/work/msci434-final-project/data/hetero_test_file4.csv",
          "/work/msci434-final-project/data/hetero_test_file40.csv",
          "/work/msci434-final-project/data/hetero_test_file5.csv",
          "/work/msci434-final-project/data/hetero_test_file50.csv",
          "/work/msci434-final-project/data/hetero_test_file60.csv",
          "/work/msci434-final-project/data/hetero_test_file70.csv",
          "/work/msci434-final-project/data/hetero_test_file80.csv",
          "/work/msci434-final-project/data/hetero_test_file90.csv",
          "/work/msci434-final-project/data/hetero_vehicle_file0.csv",
          "/work/msci434-final-project/data/hetero_vehicle_file1.csv",
          "/work/msci434-final-project/data/hetero_vehicle_file10.csv",
          "/work/msci434-final-project/data/hetero_vehicle_file100.csv",
          "/work/msci434-final-project/data/hetero_vehicle_file2.csv",
          "/work/msci434-final-project/data/hetero_vehicle_file20.csv",
          "/work/msci434-final-project/data/hetero_vehicle_file3.csv",
          "/work/msci434-final-project/data/hetero_vehicle_file30.csv",
          "/work/msci434-final-project/data/hetero_vehicle_file4.csv",
          "/work/msci434-final-project/data/hetero_vehicle_file40.csv",
          "/work/msci434-final-project/data/hetero_vehicle_file5.csv",
          "/work/msci434-final-project/data/hetero_vehicle_file50.csv",
          "/work/msci434-final-project/data/hetero_vehicle_file60.csv",
          "/work/msci434-final-project/data/hetero_vehicle_file70.csv",
          "/work/msci434-final-project/data/hetero_vehicle_file80.csv",
          "/work/msci434-final-project/data/hetero_vehicle_file90.csv",
          "/work/msci434-final-project/data/homo_test_file1.csv",
          "/work/msci434-final-project/data/homo_test_file10.csv",
          "/work/msci434-final-project/data/homo_test_file100.csv",
          "/work/msci434-final-project/data/homo_test_file2.csv",
          "/work/msci434-final-project/data/homo_test_file20.csv",
          "/work/msci434-final-project/data/homo_test_file3.csv",
          "/work/msci434-final-project/data/homo_test_file30.csv",
          "/work/msci434-final-project/data/homo_test_file4.csv",
          "/work/msci434-final-project/data/homo_test_file40.csv",
          "/work/msci434-final-project/data/homo_test_file5.csv",
          "/work/msci434-final-project/data/homo_test_file50.csv",
          "/work/msci434-final-project/data/homo_test_file60.csv",
          "/work/msci434-final-project/data/homo_test_file70.csv",
          "/work/msci434-final-project/data/homo_test_file80.csv",
          "/work/msci434-final-project/data/homo_test_file90.csv",
          "/work/msci434-final-project/data/homo_vehicle_file1.csv",
          "/work/msci434-final-project/data/homo_vehicle_file10.csv",
          "/work/msci434-final-project/data/homo_vehicle_file100.csv",
          "/work/msci434-final-project/data/homo_vehicle_file2.csv",
          "/work/msci434-final-project/data/homo_vehicle_file20.csv",
          "/work/msci434-final-project/data/homo_vehicle_file3.csv",
          "/work/msci434-final-project/data/homo_vehicle_file30.csv",
          "/work/msci434-final-project/data/homo_vehicle_file4.csv",
          "/work/msci434-final-project/data/homo_vehicle_file40.csv",
          "/work/msci434-final-project/data/homo_vehicle_file5.csv",
          "/work/msci434-final-project/data/homo_vehicle_file50.csv",
          "/work/msci434-final-project/data/homo_vehicle_file60.csv",
          "/work/msci434-final-project/data/homo_vehicle_file70.csv",
          "/work/msci434-final-project/data/homo_vehicle_file80.csv",
          "/work/msci434-final-project/data/homo_vehicle_file90.csv"
        ],
        "deepnote_variable_select_type": "from-variable",
        "deepnote_variable_custom_options": [
          "Option 1",
          "Option 2"
        ],
        "deepnote_variable_selected_variable": "files",
        "cell_id": "87edd1d629224fd4970c14cf964e694d",
        "deepnote_cell_type": "input-select"
      },
      "outputs": [],
      "execution_count": 3,
      "block_group": "87edd1d629224fd4970c14cf964e694d"
    },
    {
      "cell_type": "code",
      "source": "import pandas as pd\n\n\n# csv_path = \"/work/msci434-final-project/data/hetero_test_file40.csv\"\ndf = pd.read_csv(csv_path, sep=\" \")\n\n\ndf = df.rename(columns={'school_d': 'school_x'})\n\ndf\n",
      "metadata": {
        "source_hash": "9951cfc9",
        "execution_start": 1691095322106,
        "execution_millis": 196,
        "deepnote_to_be_reexecuted": false,
        "cell_id": "6603f11d905f49e1b0d9a3717b7019da",
        "deepnote_cell_type": "code"
      },
      "outputs": [
        {
          "output_type": "execute_result",
          "execution_count": 4,
          "data": {
            "application/vnd.deepnote.dataframe.v3+json": {
              "column_count": 9,
              "row_count": 7,
              "columns": [
                {
                  "name": "ID",
                  "dtype": "int64",
                  "stats": {
                    "unique_count": 7,
                    "nan_count": 0,
                    "min": "1",
                    "max": "7",
                    "histogram": [
                      {
                        "bin_start": 1,
                        "bin_end": 1.6,
                        "count": 1
                      },
                      {
                        "bin_start": 1.6,
                        "bin_end": 2.2,
                        "count": 1
                      },
                      {
                        "bin_start": 2.2,
                        "bin_end": 2.8,
                        "count": 0
                      },
                      {
                        "bin_start": 2.8,
                        "bin_end": 3.4,
                        "count": 1
                      },
                      {
                        "bin_start": 3.4,
                        "bin_end": 4,
                        "count": 0
                      },
                      {
                        "bin_start": 4,
                        "bin_end": 4.6,
                        "count": 1
                      },
                      {
                        "bin_start": 4.6,
                        "bin_end": 5.2,
                        "count": 1
                      },
                      {
                        "bin_start": 5.2,
                        "bin_end": 5.8,
                        "count": 0
                      },
                      {
                        "bin_start": 5.8,
                        "bin_end": 6.3999999999999995,
                        "count": 1
                      },
                      {
                        "bin_start": 6.3999999999999995,
                        "bin_end": 7,
                        "count": 1
                      }
                    ]
                  }
                },
                {
                  "name": "start_x",
                  "dtype": "int64",
                  "stats": {
                    "unique_count": 6,
                    "nan_count": 0,
                    "min": "18",
                    "max": "81",
                    "histogram": [
                      {
                        "bin_start": 18,
                        "bin_end": 24.3,
                        "count": 1
                      },
                      {
                        "bin_start": 24.3,
                        "bin_end": 30.6,
                        "count": 1
                      },
                      {
                        "bin_start": 30.6,
                        "bin_end": 36.9,
                        "count": 1
                      },
                      {
                        "bin_start": 36.9,
                        "bin_end": 43.2,
                        "count": 2
                      },
                      {
                        "bin_start": 43.2,
                        "bin_end": 49.5,
                        "count": 0
                      },
                      {
                        "bin_start": 49.5,
                        "bin_end": 55.8,
                        "count": 0
                      },
                      {
                        "bin_start": 55.8,
                        "bin_end": 62.1,
                        "count": 0
                      },
                      {
                        "bin_start": 62.1,
                        "bin_end": 68.4,
                        "count": 0
                      },
                      {
                        "bin_start": 68.4,
                        "bin_end": 74.69999999999999,
                        "count": 0
                      },
                      {
                        "bin_start": 74.69999999999999,
                        "bin_end": 81,
                        "count": 2
                      }
                    ]
                  }
                },
                {
                  "name": "start_y",
                  "dtype": "int64",
                  "stats": {
                    "unique_count": 7,
                    "nan_count": 0,
                    "min": "2",
                    "max": "97",
                    "histogram": [
                      {
                        "bin_start": 2,
                        "bin_end": 11.5,
                        "count": 2
                      },
                      {
                        "bin_start": 11.5,
                        "bin_end": 21,
                        "count": 2
                      },
                      {
                        "bin_start": 21,
                        "bin_end": 30.5,
                        "count": 2
                      },
                      {
                        "bin_start": 30.5,
                        "bin_end": 40,
                        "count": 0
                      },
                      {
                        "bin_start": 40,
                        "bin_end": 49.5,
                        "count": 0
                      },
                      {
                        "bin_start": 49.5,
                        "bin_end": 59,
                        "count": 0
                      },
                      {
                        "bin_start": 59,
                        "bin_end": 68.5,
                        "count": 0
                      },
                      {
                        "bin_start": 68.5,
                        "bin_end": 78,
                        "count": 0
                      },
                      {
                        "bin_start": 78,
                        "bin_end": 87.5,
                        "count": 0
                      },
                      {
                        "bin_start": 87.5,
                        "bin_end": 97,
                        "count": 1
                      }
                    ]
                  }
                },
                {
                  "name": "student_num",
                  "dtype": "int64",
                  "stats": {
                    "unique_count": 7,
                    "nan_count": 0,
                    "min": "30",
                    "max": "69",
                    "histogram": [
                      {
                        "bin_start": 30,
                        "bin_end": 33.9,
                        "count": 1
                      },
                      {
                        "bin_start": 33.9,
                        "bin_end": 37.8,
                        "count": 1
                      },
                      {
                        "bin_start": 37.8,
                        "bin_end": 41.7,
                        "count": 0
                      },
                      {
                        "bin_start": 41.7,
                        "bin_end": 45.6,
                        "count": 2
                      },
                      {
                        "bin_start": 45.6,
                        "bin_end": 49.5,
                        "count": 0
                      },
                      {
                        "bin_start": 49.5,
                        "bin_end": 53.4,
                        "count": 1
                      },
                      {
                        "bin_start": 53.4,
                        "bin_end": 57.3,
                        "count": 0
                      },
                      {
                        "bin_start": 57.3,
                        "bin_end": 61.2,
                        "count": 1
                      },
                      {
                        "bin_start": 61.2,
                        "bin_end": 65.1,
                        "count": 0
                      },
                      {
                        "bin_start": 65.1,
                        "bin_end": 69,
                        "count": 1
                      }
                    ]
                  }
                },
                {
                  "name": "service_duration",
                  "dtype": "int64",
                  "stats": {
                    "unique_count": 5,
                    "nan_count": 0,
                    "min": "21",
                    "max": "35",
                    "histogram": [
                      {
                        "bin_start": 21,
                        "bin_end": 22.4,
                        "count": 3
                      },
                      {
                        "bin_start": 22.4,
                        "bin_end": 23.8,
                        "count": 1
                      },
                      {
                        "bin_start": 23.8,
                        "bin_end": 25.2,
                        "count": 0
                      },
                      {
                        "bin_start": 25.2,
                        "bin_end": 26.6,
                        "count": 0
                      },
                      {
                        "bin_start": 26.6,
                        "bin_end": 28,
                        "count": 1
                      },
                      {
                        "bin_start": 28,
                        "bin_end": 29.4,
                        "count": 0
                      },
                      {
                        "bin_start": 29.4,
                        "bin_end": 30.799999999999997,
                        "count": 0
                      },
                      {
                        "bin_start": 30.799999999999997,
                        "bin_end": 32.2,
                        "count": 0
                      },
                      {
                        "bin_start": 32.2,
                        "bin_end": 33.6,
                        "count": 0
                      },
                      {
                        "bin_start": 33.6,
                        "bin_end": 35,
                        "count": 2
                      }
                    ]
                  }
                },
                {
                  "name": "school_x",
                  "dtype": "int64",
                  "stats": {
                    "unique_count": 1,
                    "nan_count": 0,
                    "min": "62",
                    "max": "62",
                    "histogram": [
                      {
                        "bin_start": 61.5,
                        "bin_end": 61.6,
                        "count": 0
                      },
                      {
                        "bin_start": 61.6,
                        "bin_end": 61.7,
                        "count": 0
                      },
                      {
                        "bin_start": 61.7,
                        "bin_end": 61.8,
                        "count": 0
                      },
                      {
                        "bin_start": 61.8,
                        "bin_end": 61.9,
                        "count": 0
                      },
                      {
                        "bin_start": 61.9,
                        "bin_end": 62,
                        "count": 0
                      },
                      {
                        "bin_start": 62,
                        "bin_end": 62.1,
                        "count": 7
                      },
                      {
                        "bin_start": 62.1,
                        "bin_end": 62.2,
                        "count": 0
                      },
                      {
                        "bin_start": 62.2,
                        "bin_end": 62.3,
                        "count": 0
                      },
                      {
                        "bin_start": 62.3,
                        "bin_end": 62.4,
                        "count": 0
                      },
                      {
                        "bin_start": 62.4,
                        "bin_end": 62.5,
                        "count": 0
                      }
                    ]
                  }
                },
                {
                  "name": "school_y",
                  "dtype": "int64",
                  "stats": {
                    "unique_count": 1,
                    "nan_count": 0,
                    "min": "75",
                    "max": "75",
                    "histogram": [
                      {
                        "bin_start": 74.5,
                        "bin_end": 74.6,
                        "count": 0
                      },
                      {
                        "bin_start": 74.6,
                        "bin_end": 74.7,
                        "count": 0
                      },
                      {
                        "bin_start": 74.7,
                        "bin_end": 74.8,
                        "count": 0
                      },
                      {
                        "bin_start": 74.8,
                        "bin_end": 74.9,
                        "count": 0
                      },
                      {
                        "bin_start": 74.9,
                        "bin_end": 75,
                        "count": 0
                      },
                      {
                        "bin_start": 75,
                        "bin_end": 75.1,
                        "count": 7
                      },
                      {
                        "bin_start": 75.1,
                        "bin_end": 75.2,
                        "count": 0
                      },
                      {
                        "bin_start": 75.2,
                        "bin_end": 75.3,
                        "count": 0
                      },
                      {
                        "bin_start": 75.3,
                        "bin_end": 75.4,
                        "count": 0
                      },
                      {
                        "bin_start": 75.4,
                        "bin_end": 75.5,
                        "count": 0
                      }
                    ]
                  }
                },
                {
                  "name": "school_tw_st",
                  "dtype": "int64",
                  "stats": {
                    "unique_count": 1,
                    "nan_count": 0,
                    "min": "115",
                    "max": "115",
                    "histogram": [
                      {
                        "bin_start": 114.5,
                        "bin_end": 114.6,
                        "count": 0
                      },
                      {
                        "bin_start": 114.6,
                        "bin_end": 114.7,
                        "count": 0
                      },
                      {
                        "bin_start": 114.7,
                        "bin_end": 114.8,
                        "count": 0
                      },
                      {
                        "bin_start": 114.8,
                        "bin_end": 114.9,
                        "count": 0
                      },
                      {
                        "bin_start": 114.9,
                        "bin_end": 115,
                        "count": 0
                      },
                      {
                        "bin_start": 115,
                        "bin_end": 115.1,
                        "count": 7
                      },
                      {
                        "bin_start": 115.1,
                        "bin_end": 115.2,
                        "count": 0
                      },
                      {
                        "bin_start": 115.2,
                        "bin_end": 115.3,
                        "count": 0
                      },
                      {
                        "bin_start": 115.3,
                        "bin_end": 115.4,
                        "count": 0
                      },
                      {
                        "bin_start": 115.4,
                        "bin_end": 115.5,
                        "count": 0
                      }
                    ]
                  }
                },
                {
                  "name": "school_tw_end",
                  "dtype": "int64",
                  "stats": {
                    "unique_count": 1,
                    "nan_count": 0,
                    "min": "135",
                    "max": "135",
                    "histogram": [
                      {
                        "bin_start": 134.5,
                        "bin_end": 134.6,
                        "count": 0
                      },
                      {
                        "bin_start": 134.6,
                        "bin_end": 134.7,
                        "count": 0
                      },
                      {
                        "bin_start": 134.7,
                        "bin_end": 134.8,
                        "count": 0
                      },
                      {
                        "bin_start": 134.8,
                        "bin_end": 134.9,
                        "count": 0
                      },
                      {
                        "bin_start": 134.9,
                        "bin_end": 135,
                        "count": 0
                      },
                      {
                        "bin_start": 135,
                        "bin_end": 135.1,
                        "count": 7
                      },
                      {
                        "bin_start": 135.1,
                        "bin_end": 135.2,
                        "count": 0
                      },
                      {
                        "bin_start": 135.2,
                        "bin_end": 135.3,
                        "count": 0
                      },
                      {
                        "bin_start": 135.3,
                        "bin_end": 135.4,
                        "count": 0
                      },
                      {
                        "bin_start": 135.4,
                        "bin_end": 135.5,
                        "count": 0
                      }
                    ]
                  }
                },
                {
                  "name": "_deepnote_index_column",
                  "dtype": "int64"
                }
              ],
              "rows": [
                {
                  "ID": 1,
                  "start_x": 18,
                  "start_y": 4,
                  "student_num": 60,
                  "service_duration": 34,
                  "school_x": 62,
                  "school_y": 75,
                  "school_tw_st": 115,
                  "school_tw_end": 135,
                  "_deepnote_index_column": 0
                },
                {
                  "ID": 2,
                  "start_x": 43,
                  "start_y": 28,
                  "student_num": 69,
                  "service_duration": 35,
                  "school_x": 62,
                  "school_y": 75,
                  "school_tw_st": 115,
                  "school_tw_end": 135,
                  "_deepnote_index_column": 1
                },
                {
                  "ID": 3,
                  "start_x": 32,
                  "start_y": 20,
                  "student_num": 43,
                  "service_duration": 23,
                  "school_x": 62,
                  "school_y": 75,
                  "school_tw_st": 115,
                  "school_tw_end": 135,
                  "_deepnote_index_column": 2
                },
                {
                  "ID": 4,
                  "start_x": 43,
                  "start_y": 2,
                  "student_num": 52,
                  "service_duration": 27,
                  "school_x": 62,
                  "school_y": 75,
                  "school_tw_st": 115,
                  "school_tw_end": 135,
                  "_deepnote_index_column": 3
                },
                {
                  "ID": 5,
                  "start_x": 81,
                  "start_y": 97,
                  "student_num": 30,
                  "service_duration": 21,
                  "school_x": 62,
                  "school_y": 75,
                  "school_tw_st": 115,
                  "school_tw_end": 135,
                  "_deepnote_index_column": 4
                },
                {
                  "ID": 6,
                  "start_x": 27,
                  "start_y": 12,
                  "student_num": 44,
                  "service_duration": 21,
                  "school_x": 62,
                  "school_y": 75,
                  "school_tw_st": 115,
                  "school_tw_end": 135,
                  "_deepnote_index_column": 5
                },
                {
                  "ID": 7,
                  "start_x": 76,
                  "start_y": 24,
                  "student_num": 37,
                  "service_duration": 21,
                  "school_x": 62,
                  "school_y": 75,
                  "school_tw_st": 115,
                  "school_tw_end": 135,
                  "_deepnote_index_column": 6
                }
              ]
            },
            "text/plain": "   ID  start_x  start_y  student_num  service_duration  school_x  school_y  \\\n0   1       18        4           60                34        62        75   \n1   2       43       28           69                35        62        75   \n2   3       32       20           43                23        62        75   \n3   4       43        2           52                27        62        75   \n4   5       81       97           30                21        62        75   \n5   6       27       12           44                21        62        75   \n6   7       76       24           37                21        62        75   \n\n   school_tw_st  school_tw_end  \n0           115            135  \n1           115            135  \n2           115            135  \n3           115            135  \n4           115            135  \n5           115            135  \n6           115            135  ",
            "text/html": "<div>\n<style scoped>\n    .dataframe tbody tr th:only-of-type {\n        vertical-align: middle;\n    }\n\n    .dataframe tbody tr th {\n        vertical-align: top;\n    }\n\n    .dataframe thead th {\n        text-align: right;\n    }\n</style>\n<table border=\"1\" class=\"dataframe\">\n  <thead>\n    <tr style=\"text-align: right;\">\n      <th></th>\n      <th>ID</th>\n      <th>start_x</th>\n      <th>start_y</th>\n      <th>student_num</th>\n      <th>service_duration</th>\n      <th>school_x</th>\n      <th>school_y</th>\n      <th>school_tw_st</th>\n      <th>school_tw_end</th>\n    </tr>\n  </thead>\n  <tbody>\n    <tr>\n      <th>0</th>\n      <td>1</td>\n      <td>18</td>\n      <td>4</td>\n      <td>60</td>\n      <td>34</td>\n      <td>62</td>\n      <td>75</td>\n      <td>115</td>\n      <td>135</td>\n    </tr>\n    <tr>\n      <th>1</th>\n      <td>2</td>\n      <td>43</td>\n      <td>28</td>\n      <td>69</td>\n      <td>35</td>\n      <td>62</td>\n      <td>75</td>\n      <td>115</td>\n      <td>135</td>\n    </tr>\n    <tr>\n      <th>2</th>\n      <td>3</td>\n      <td>32</td>\n      <td>20</td>\n      <td>43</td>\n      <td>23</td>\n      <td>62</td>\n      <td>75</td>\n      <td>115</td>\n      <td>135</td>\n    </tr>\n    <tr>\n      <th>3</th>\n      <td>4</td>\n      <td>43</td>\n      <td>2</td>\n      <td>52</td>\n      <td>27</td>\n      <td>62</td>\n      <td>75</td>\n      <td>115</td>\n      <td>135</td>\n    </tr>\n    <tr>\n      <th>4</th>\n      <td>5</td>\n      <td>81</td>\n      <td>97</td>\n      <td>30</td>\n      <td>21</td>\n      <td>62</td>\n      <td>75</td>\n      <td>115</td>\n      <td>135</td>\n    </tr>\n    <tr>\n      <th>5</th>\n      <td>6</td>\n      <td>27</td>\n      <td>12</td>\n      <td>44</td>\n      <td>21</td>\n      <td>62</td>\n      <td>75</td>\n      <td>115</td>\n      <td>135</td>\n    </tr>\n    <tr>\n      <th>6</th>\n      <td>7</td>\n      <td>76</td>\n      <td>24</td>\n      <td>37</td>\n      <td>21</td>\n      <td>62</td>\n      <td>75</td>\n      <td>115</td>\n      <td>135</td>\n    </tr>\n  </tbody>\n</table>\n</div>"
          },
          "metadata": {}
        }
      ],
      "execution_count": 4,
      "block_group": "6603f11d905f49e1b0d9a3717b7019da"
    },
    {
      "cell_type": "code",
      "source": "DeepnoteChart(df, \"\"\"{\"layer\":[{\"layer\":[{\"mark\":{\"clip\":true,\"type\":\"circle\",\"color\":\"#4c78a8\",\"tooltip\":true},\"encoding\":{\"x\":{\"sort\":null,\"type\":\"quantitative\",\"field\":\"start_x\",\"scale\":{\"type\":\"linear\",\"zero\":false},\"format\":{\"type\":\"default\",\"decimals\":null},\"formatType\":\"numberFormatFromNumberType\"},\"y\":{\"sort\":null,\"type\":\"quantitative\",\"field\":\"start_y\",\"scale\":{\"type\":\"linear\",\"zero\":false},\"format\":{\"type\":\"default\",\"decimals\":null},\"formatType\":\"numberFormatFromNumberType\"},\"size\":{\"sort\":null,\"type\":\"quantitative\",\"field\":\"student_num\"}}}]},{\"layer\":[{\"mark\":{\"clip\":true,\"type\":\"circle\",\"color\":\"#f58518\",\"tooltip\":true},\"encoding\":{\"x\":{\"sort\":null,\"type\":\"quantitative\",\"field\":\"school_x\",\"scale\":{\"type\":\"linear\",\"zero\":false},\"format\":{\"type\":\"default\",\"decimals\":null},\"formatType\":\"numberFormatFromNumberType\"},\"y\":{\"sort\":null,\"type\":\"quantitative\",\"field\":\"school_y\",\"scale\":{\"type\":\"linear\",\"zero\":false},\"format\":{\"type\":\"default\",\"decimals\":null},\"formatType\":\"numberFormatFromNumberType\"}}}]}],\"title\":\"\",\"config\":{\"legend\":{}},\"$schema\":\"https://vega.github.io/schema/vega-lite/v5.json\",\"encoding\":{}}\"\"\")",
      "metadata": {
        "source_hash": "85d7dbbe",
        "output_cleared": false,
        "execution_start": 1691095322193,
        "execution_millis": 430,
        "deepnote_variable_name": "df",
        "deepnote_config_collapsed": false,
        "deepnote_to_be_reexecuted": false,
        "deepnote_visualization_spec": {
          "layer": [
            {
              "layer": [
                {
                  "mark": {
                    "clip": true,
                    "type": "circle",
                    "color": "#4c78a8",
                    "tooltip": true
                  },
                  "encoding": {
                    "x": {
                      "sort": null,
                      "type": "quantitative",
                      "field": "start_x",
                      "scale": {
                        "type": "linear",
                        "zero": false
                      },
                      "format": {
                        "type": "default",
                        "decimals": null
                      },
                      "formatType": "numberFormatFromNumberType"
                    },
                    "y": {
                      "sort": null,
                      "type": "quantitative",
                      "field": "start_y",
                      "scale": {
                        "type": "linear",
                        "zero": false
                      },
                      "format": {
                        "type": "default",
                        "decimals": null
                      },
                      "formatType": "numberFormatFromNumberType"
                    },
                    "size": {
                      "sort": null,
                      "type": "quantitative",
                      "field": "student_num"
                    }
                  }
                }
              ]
            },
            {
              "layer": [
                {
                  "mark": {
                    "clip": true,
                    "type": "circle",
                    "color": "#f58518",
                    "tooltip": true
                  },
                  "encoding": {
                    "x": {
                      "sort": null,
                      "type": "quantitative",
                      "field": "school_x",
                      "scale": {
                        "type": "linear",
                        "zero": false
                      },
                      "format": {
                        "type": "default",
                        "decimals": null
                      },
                      "formatType": "numberFormatFromNumberType"
                    },
                    "y": {
                      "sort": null,
                      "type": "quantitative",
                      "field": "school_y",
                      "scale": {
                        "type": "linear",
                        "zero": false
                      },
                      "format": {
                        "type": "default",
                        "decimals": null
                      },
                      "formatType": "numberFormatFromNumberType"
                    }
                  }
                }
              ]
            }
          ],
          "title": "",
          "config": {
            "legend": {}
          },
          "$schema": "https://vega.github.io/schema/vega-lite/v5.json",
          "encoding": {}
        },
        "cell_id": "1814f3e5656a4b68a83179fa5f14635b",
        "deepnote_cell_type": "visualization"
      },
      "outputs": [
        {
          "output_type": "execute_result",
          "execution_count": 5,
          "data": {
            "application/vnd.vegalite.v5+json": {
              "layer": [
                {
                  "layer": [
                    {
                      "mark": {
                        "clip": true,
                        "type": "circle",
                        "color": "#4c78a8",
                        "tooltip": true
                      },
                      "encoding": {
                        "x": {
                          "sort": null,
                          "type": "quantitative",
                          "field": "start_x",
                          "scale": {
                            "type": "linear",
                            "zero": false
                          },
                          "format": {
                            "type": "default",
                            "decimals": null
                          },
                          "formatType": "numberFormatFromNumberType"
                        },
                        "y": {
                          "sort": null,
                          "type": "quantitative",
                          "field": "start_y",
                          "scale": {
                            "type": "linear",
                            "zero": false
                          },
                          "format": {
                            "type": "default",
                            "decimals": null
                          },
                          "formatType": "numberFormatFromNumberType"
                        },
                        "size": {
                          "sort": null,
                          "type": "quantitative",
                          "field": "student_num"
                        }
                      }
                    }
                  ]
                },
                {
                  "layer": [
                    {
                      "mark": {
                        "clip": true,
                        "type": "circle",
                        "color": "#f58518",
                        "tooltip": true
                      },
                      "encoding": {
                        "x": {
                          "sort": null,
                          "type": "quantitative",
                          "field": "school_x",
                          "scale": {
                            "type": "linear",
                            "zero": false
                          },
                          "format": {
                            "type": "default",
                            "decimals": null
                          },
                          "formatType": "numberFormatFromNumberType"
                        },
                        "y": {
                          "sort": null,
                          "type": "quantitative",
                          "field": "school_y",
                          "scale": {
                            "type": "linear",
                            "zero": false
                          },
                          "format": {
                            "type": "default",
                            "decimals": null
                          },
                          "formatType": "numberFormatFromNumberType"
                        }
                      }
                    }
                  ]
                }
              ],
              "title": "",
              "config": {
                "legend": {}
              },
              "$schema": "https://vega.github.io/schema/vega-lite/v5.json",
              "encoding": {},
              "data": {
                "values": [
                  {
                    "ID": 1,
                    "start_x": 18,
                    "start_y": 4,
                    "student_num": 60,
                    "service_duration": 34,
                    "school_x": 62,
                    "school_y": 75,
                    "school_tw_st": 115,
                    "school_tw_end": 135
                  },
                  {
                    "ID": 2,
                    "start_x": 43,
                    "start_y": 28,
                    "student_num": 69,
                    "service_duration": 35,
                    "school_x": 62,
                    "school_y": 75,
                    "school_tw_st": 115,
                    "school_tw_end": 135
                  },
                  {
                    "ID": 3,
                    "start_x": 32,
                    "start_y": 20,
                    "student_num": 43,
                    "service_duration": 23,
                    "school_x": 62,
                    "school_y": 75,
                    "school_tw_st": 115,
                    "school_tw_end": 135
                  },
                  {
                    "ID": 4,
                    "start_x": 43,
                    "start_y": 2,
                    "student_num": 52,
                    "service_duration": 27,
                    "school_x": 62,
                    "school_y": 75,
                    "school_tw_st": 115,
                    "school_tw_end": 135
                  },
                  {
                    "ID": 5,
                    "start_x": 81,
                    "start_y": 97,
                    "student_num": 30,
                    "service_duration": 21,
                    "school_x": 62,
                    "school_y": 75,
                    "school_tw_st": 115,
                    "school_tw_end": 135
                  },
                  {
                    "ID": 6,
                    "start_x": 27,
                    "start_y": 12,
                    "student_num": 44,
                    "service_duration": 21,
                    "school_x": 62,
                    "school_y": 75,
                    "school_tw_st": 115,
                    "school_tw_end": 135
                  },
                  {
                    "ID": 7,
                    "start_x": 76,
                    "start_y": 24,
                    "student_num": 37,
                    "service_duration": 21,
                    "school_x": 62,
                    "school_y": 75,
                    "school_tw_st": 115,
                    "school_tw_end": 135
                  }
                ]
              }
            },
            "text/plain": "<__main__.DeepnoteChart at 0x7f69e0db1090>"
          },
          "metadata": {}
        }
      ],
      "execution_count": 5,
      "block_group": "1814f3e5656a4b68a83179fa5f14635b"
    },
    {
      "cell_type": "code",
      "source": "# See vehicles\n\nvehicles_df = pd.read_csv(csv_path.replace('test', 'vehicle'), sep=\" \")\n\nvehicles_df\n\n",
      "metadata": {
        "source_hash": "6a97836b",
        "execution_start": 1691095322513,
        "execution_millis": 87,
        "deepnote_to_be_reexecuted": false,
        "cell_id": "665754179f56450b869ee268f9cdc668",
        "deepnote_cell_type": "code"
      },
      "outputs": [
        {
          "output_type": "execute_result",
          "execution_count": 6,
          "data": {
            "application/vnd.deepnote.dataframe.v3+json": {
              "column_count": 4,
              "row_count": 7,
              "columns": [
                {
                  "name": "Veh_ID",
                  "dtype": "int64",
                  "stats": {
                    "unique_count": 7,
                    "nan_count": 0,
                    "min": "1",
                    "max": "7",
                    "histogram": [
                      {
                        "bin_start": 1,
                        "bin_end": 1.6,
                        "count": 1
                      },
                      {
                        "bin_start": 1.6,
                        "bin_end": 2.2,
                        "count": 1
                      },
                      {
                        "bin_start": 2.2,
                        "bin_end": 2.8,
                        "count": 0
                      },
                      {
                        "bin_start": 2.8,
                        "bin_end": 3.4,
                        "count": 1
                      },
                      {
                        "bin_start": 3.4,
                        "bin_end": 4,
                        "count": 0
                      },
                      {
                        "bin_start": 4,
                        "bin_end": 4.6,
                        "count": 1
                      },
                      {
                        "bin_start": 4.6,
                        "bin_end": 5.2,
                        "count": 1
                      },
                      {
                        "bin_start": 5.2,
                        "bin_end": 5.8,
                        "count": 0
                      },
                      {
                        "bin_start": 5.8,
                        "bin_end": 6.3999999999999995,
                        "count": 1
                      },
                      {
                        "bin_start": 6.3999999999999995,
                        "bin_end": 7,
                        "count": 1
                      }
                    ]
                  }
                },
                {
                  "name": "depot_x",
                  "dtype": "int64",
                  "stats": {
                    "unique_count": 1,
                    "nan_count": 0,
                    "min": "50",
                    "max": "50",
                    "histogram": [
                      {
                        "bin_start": 49.5,
                        "bin_end": 49.6,
                        "count": 0
                      },
                      {
                        "bin_start": 49.6,
                        "bin_end": 49.7,
                        "count": 0
                      },
                      {
                        "bin_start": 49.7,
                        "bin_end": 49.8,
                        "count": 0
                      },
                      {
                        "bin_start": 49.8,
                        "bin_end": 49.9,
                        "count": 0
                      },
                      {
                        "bin_start": 49.9,
                        "bin_end": 50,
                        "count": 0
                      },
                      {
                        "bin_start": 50,
                        "bin_end": 50.1,
                        "count": 7
                      },
                      {
                        "bin_start": 50.1,
                        "bin_end": 50.2,
                        "count": 0
                      },
                      {
                        "bin_start": 50.2,
                        "bin_end": 50.3,
                        "count": 0
                      },
                      {
                        "bin_start": 50.3,
                        "bin_end": 50.4,
                        "count": 0
                      },
                      {
                        "bin_start": 50.4,
                        "bin_end": 50.5,
                        "count": 0
                      }
                    ]
                  }
                },
                {
                  "name": "depot_y",
                  "dtype": "int64",
                  "stats": {
                    "unique_count": 1,
                    "nan_count": 0,
                    "min": "50",
                    "max": "50",
                    "histogram": [
                      {
                        "bin_start": 49.5,
                        "bin_end": 49.6,
                        "count": 0
                      },
                      {
                        "bin_start": 49.6,
                        "bin_end": 49.7,
                        "count": 0
                      },
                      {
                        "bin_start": 49.7,
                        "bin_end": 49.8,
                        "count": 0
                      },
                      {
                        "bin_start": 49.8,
                        "bin_end": 49.9,
                        "count": 0
                      },
                      {
                        "bin_start": 49.9,
                        "bin_end": 50,
                        "count": 0
                      },
                      {
                        "bin_start": 50,
                        "bin_end": 50.1,
                        "count": 7
                      },
                      {
                        "bin_start": 50.1,
                        "bin_end": 50.2,
                        "count": 0
                      },
                      {
                        "bin_start": 50.2,
                        "bin_end": 50.3,
                        "count": 0
                      },
                      {
                        "bin_start": 50.3,
                        "bin_end": 50.4,
                        "count": 0
                      },
                      {
                        "bin_start": 50.4,
                        "bin_end": 50.5,
                        "count": 0
                      }
                    ]
                  }
                },
                {
                  "name": "capacity",
                  "dtype": "int64",
                  "stats": {
                    "unique_count": 3,
                    "nan_count": 0,
                    "min": "40",
                    "max": "70",
                    "histogram": [
                      {
                        "bin_start": 40,
                        "bin_end": 43,
                        "count": 1
                      },
                      {
                        "bin_start": 43,
                        "bin_end": 46,
                        "count": 0
                      },
                      {
                        "bin_start": 46,
                        "bin_end": 49,
                        "count": 0
                      },
                      {
                        "bin_start": 49,
                        "bin_end": 52,
                        "count": 2
                      },
                      {
                        "bin_start": 52,
                        "bin_end": 55,
                        "count": 0
                      },
                      {
                        "bin_start": 55,
                        "bin_end": 58,
                        "count": 0
                      },
                      {
                        "bin_start": 58,
                        "bin_end": 61,
                        "count": 0
                      },
                      {
                        "bin_start": 61,
                        "bin_end": 64,
                        "count": 0
                      },
                      {
                        "bin_start": 64,
                        "bin_end": 67,
                        "count": 0
                      },
                      {
                        "bin_start": 67,
                        "bin_end": 70,
                        "count": 4
                      }
                    ]
                  }
                },
                {
                  "name": "_deepnote_index_column",
                  "dtype": "int64"
                }
              ],
              "rows": [
                {
                  "Veh_ID": 1,
                  "depot_x": 50,
                  "depot_y": 50,
                  "capacity": 50,
                  "_deepnote_index_column": 0
                },
                {
                  "Veh_ID": 2,
                  "depot_x": 50,
                  "depot_y": 50,
                  "capacity": 40,
                  "_deepnote_index_column": 1
                },
                {
                  "Veh_ID": 3,
                  "depot_x": 50,
                  "depot_y": 50,
                  "capacity": 50,
                  "_deepnote_index_column": 2
                },
                {
                  "Veh_ID": 4,
                  "depot_x": 50,
                  "depot_y": 50,
                  "capacity": 70,
                  "_deepnote_index_column": 3
                },
                {
                  "Veh_ID": 5,
                  "depot_x": 50,
                  "depot_y": 50,
                  "capacity": 70,
                  "_deepnote_index_column": 4
                },
                {
                  "Veh_ID": 6,
                  "depot_x": 50,
                  "depot_y": 50,
                  "capacity": 70,
                  "_deepnote_index_column": 5
                },
                {
                  "Veh_ID": 7,
                  "depot_x": 50,
                  "depot_y": 50,
                  "capacity": 70,
                  "_deepnote_index_column": 6
                }
              ]
            },
            "text/plain": "   Veh_ID  depot_x  depot_y  capacity\n0       1       50       50        50\n1       2       50       50        40\n2       3       50       50        50\n3       4       50       50        70\n4       5       50       50        70\n5       6       50       50        70\n6       7       50       50        70",
            "text/html": "<div>\n<style scoped>\n    .dataframe tbody tr th:only-of-type {\n        vertical-align: middle;\n    }\n\n    .dataframe tbody tr th {\n        vertical-align: top;\n    }\n\n    .dataframe thead th {\n        text-align: right;\n    }\n</style>\n<table border=\"1\" class=\"dataframe\">\n  <thead>\n    <tr style=\"text-align: right;\">\n      <th></th>\n      <th>Veh_ID</th>\n      <th>depot_x</th>\n      <th>depot_y</th>\n      <th>capacity</th>\n    </tr>\n  </thead>\n  <tbody>\n    <tr>\n      <th>0</th>\n      <td>1</td>\n      <td>50</td>\n      <td>50</td>\n      <td>50</td>\n    </tr>\n    <tr>\n      <th>1</th>\n      <td>2</td>\n      <td>50</td>\n      <td>50</td>\n      <td>40</td>\n    </tr>\n    <tr>\n      <th>2</th>\n      <td>3</td>\n      <td>50</td>\n      <td>50</td>\n      <td>50</td>\n    </tr>\n    <tr>\n      <th>3</th>\n      <td>4</td>\n      <td>50</td>\n      <td>50</td>\n      <td>70</td>\n    </tr>\n    <tr>\n      <th>4</th>\n      <td>5</td>\n      <td>50</td>\n      <td>50</td>\n      <td>70</td>\n    </tr>\n    <tr>\n      <th>5</th>\n      <td>6</td>\n      <td>50</td>\n      <td>50</td>\n      <td>70</td>\n    </tr>\n    <tr>\n      <th>6</th>\n      <td>7</td>\n      <td>50</td>\n      <td>50</td>\n      <td>70</td>\n    </tr>\n  </tbody>\n</table>\n</div>"
          },
          "metadata": {}
        }
      ],
      "execution_count": 6,
      "block_group": "665754179f56450b869ee268f9cdc668"
    },
    {
      "cell_type": "code",
      "source": "# Assume 7 vehicles, with 70 capacity each\n\n\n\nfrom gurobipy import tupledict, tuplelist\nfrom scipy.spatial import distance_matrix\n\n# List of schools\n# school_coords = df[['school_x', 'school_y']].drop_duplicates().rename(columns={'school_x': 'x', 'school_y': 'y'})\n\nstop_coords = df[['start_x', 'start_y']].rename(columns={'start_x': 'x', 'start_y': 'y'})\n\ndepot_coords = pd.DataFrame({'x': [50, 50], 'y': [50, 50]})\n\n# Depot is the school\n# Then all the bus stops\nall_coords = pd.concat([ depot_coords, stop_coords])\n\n\n# Distance matrix\ndistances = pd.DataFrame(distance_matrix(all_coords.values, all_coords.values))\ndistances\n",
      "metadata": {
        "source_hash": "70c9a776",
        "execution_start": 1691095322534,
        "execution_millis": 449,
        "deepnote_to_be_reexecuted": false,
        "cell_id": "68bab9a8ef254a1bb443ece11a241e20",
        "deepnote_cell_type": "code"
      },
      "outputs": [
        {
          "output_type": "execute_result",
          "execution_count": 7,
          "data": {
            "application/vnd.deepnote.dataframe.v3+json": {
              "column_count": 9,
              "row_count": 9,
              "columns": [
                {
                  "name": 0,
                  "dtype": "float64",
                  "stats": {
                    "unique_count": 8,
                    "nan_count": 0,
                    "min": "0.0",
                    "max": "56.302753041036986",
                    "histogram": [
                      {
                        "bin_start": 0,
                        "bin_end": 5.630275304103699,
                        "count": 2
                      },
                      {
                        "bin_start": 5.630275304103699,
                        "bin_end": 11.260550608207398,
                        "count": 0
                      },
                      {
                        "bin_start": 11.260550608207398,
                        "bin_end": 16.890825912311097,
                        "count": 0
                      },
                      {
                        "bin_start": 16.890825912311097,
                        "bin_end": 22.521101216414795,
                        "count": 0
                      },
                      {
                        "bin_start": 22.521101216414795,
                        "bin_end": 28.151376520518493,
                        "count": 1
                      },
                      {
                        "bin_start": 28.151376520518493,
                        "bin_end": 33.781651824622195,
                        "count": 0
                      },
                      {
                        "bin_start": 33.781651824622195,
                        "bin_end": 39.41192712872589,
                        "count": 2
                      },
                      {
                        "bin_start": 39.41192712872589,
                        "bin_end": 45.04220243282959,
                        "count": 1
                      },
                      {
                        "bin_start": 45.04220243282959,
                        "bin_end": 50.67247773693329,
                        "count": 1
                      },
                      {
                        "bin_start": 50.67247773693329,
                        "bin_end": 56.302753041036986,
                        "count": 2
                      }
                    ]
                  }
                },
                {
                  "name": 1,
                  "dtype": "float64",
                  "stats": {
                    "unique_count": 8,
                    "nan_count": 0,
                    "min": "0.0",
                    "max": "56.302753041036986",
                    "histogram": [
                      {
                        "bin_start": 0,
                        "bin_end": 5.630275304103699,
                        "count": 2
                      },
                      {
                        "bin_start": 5.630275304103699,
                        "bin_end": 11.260550608207398,
                        "count": 0
                      },
                      {
                        "bin_start": 11.260550608207398,
                        "bin_end": 16.890825912311097,
                        "count": 0
                      },
                      {
                        "bin_start": 16.890825912311097,
                        "bin_end": 22.521101216414795,
                        "count": 0
                      },
                      {
                        "bin_start": 22.521101216414795,
                        "bin_end": 28.151376520518493,
                        "count": 1
                      },
                      {
                        "bin_start": 28.151376520518493,
                        "bin_end": 33.781651824622195,
                        "count": 0
                      },
                      {
                        "bin_start": 33.781651824622195,
                        "bin_end": 39.41192712872589,
                        "count": 2
                      },
                      {
                        "bin_start": 39.41192712872589,
                        "bin_end": 45.04220243282959,
                        "count": 1
                      },
                      {
                        "bin_start": 45.04220243282959,
                        "bin_end": 50.67247773693329,
                        "count": 1
                      },
                      {
                        "bin_start": 50.67247773693329,
                        "bin_end": 56.302753041036986,
                        "count": 2
                      }
                    ]
                  }
                },
                {
                  "name": 2,
                  "dtype": "float64",
                  "stats": {
                    "unique_count": 8,
                    "nan_count": 0,
                    "min": "0.0",
                    "max": "112.32987136109433",
                    "histogram": [
                      {
                        "bin_start": 0,
                        "bin_end": 11.232987136109433,
                        "count": 1
                      },
                      {
                        "bin_start": 11.232987136109433,
                        "bin_end": 22.465974272218865,
                        "count": 2
                      },
                      {
                        "bin_start": 22.465974272218865,
                        "bin_end": 33.6989614083283,
                        "count": 1
                      },
                      {
                        "bin_start": 33.6989614083283,
                        "bin_end": 44.93194854443773,
                        "count": 1
                      },
                      {
                        "bin_start": 44.93194854443773,
                        "bin_end": 56.16493568054716,
                        "count": 2
                      },
                      {
                        "bin_start": 56.16493568054716,
                        "bin_end": 67.3979228166566,
                        "count": 1
                      },
                      {
                        "bin_start": 67.3979228166566,
                        "bin_end": 78.63090995276603,
                        "count": 0
                      },
                      {
                        "bin_start": 78.63090995276603,
                        "bin_end": 89.86389708887546,
                        "count": 0
                      },
                      {
                        "bin_start": 89.86389708887546,
                        "bin_end": 101.09688422498489,
                        "count": 0
                      },
                      {
                        "bin_start": 101.09688422498489,
                        "bin_end": 112.32987136109433,
                        "count": 1
                      }
                    ]
                  }
                },
                {
                  "name": 3,
                  "dtype": "float64",
                  "stats": {
                    "unique_count": 8,
                    "nan_count": 0,
                    "min": "0.0",
                    "max": "78.77182237323191",
                    "histogram": [
                      {
                        "bin_start": 0,
                        "bin_end": 7.877182237323192,
                        "count": 1
                      },
                      {
                        "bin_start": 7.877182237323192,
                        "bin_end": 15.754364474646383,
                        "count": 1
                      },
                      {
                        "bin_start": 15.754364474646383,
                        "bin_end": 23.631546711969577,
                        "count": 3
                      },
                      {
                        "bin_start": 23.631546711969577,
                        "bin_end": 31.508728949292767,
                        "count": 1
                      },
                      {
                        "bin_start": 31.508728949292767,
                        "bin_end": 39.38591118661596,
                        "count": 2
                      },
                      {
                        "bin_start": 39.38591118661596,
                        "bin_end": 47.263093423939154,
                        "count": 0
                      },
                      {
                        "bin_start": 47.263093423939154,
                        "bin_end": 55.14027566126234,
                        "count": 0
                      },
                      {
                        "bin_start": 55.14027566126234,
                        "bin_end": 63.01745789858553,
                        "count": 0
                      },
                      {
                        "bin_start": 63.01745789858553,
                        "bin_end": 70.89464013590873,
                        "count": 0
                      },
                      {
                        "bin_start": 70.89464013590873,
                        "bin_end": 78.77182237323191,
                        "count": 1
                      }
                    ]
                  }
                },
                {
                  "name": 4,
                  "dtype": "float64",
                  "stats": {
                    "unique_count": 8,
                    "nan_count": 0,
                    "min": "0.0",
                    "max": "91.26883367283708",
                    "histogram": [
                      {
                        "bin_start": 0,
                        "bin_end": 9.126883367283707,
                        "count": 1
                      },
                      {
                        "bin_start": 9.126883367283707,
                        "bin_end": 18.253766734567414,
                        "count": 2
                      },
                      {
                        "bin_start": 18.253766734567414,
                        "bin_end": 27.38065010185112,
                        "count": 2
                      },
                      {
                        "bin_start": 27.38065010185112,
                        "bin_end": 36.50753346913483,
                        "count": 2
                      },
                      {
                        "bin_start": 36.50753346913483,
                        "bin_end": 45.63441683641854,
                        "count": 1
                      },
                      {
                        "bin_start": 45.63441683641854,
                        "bin_end": 54.76130020370224,
                        "count": 0
                      },
                      {
                        "bin_start": 54.76130020370224,
                        "bin_end": 63.888183570985944,
                        "count": 0
                      },
                      {
                        "bin_start": 63.888183570985944,
                        "bin_end": 73.01506693826965,
                        "count": 0
                      },
                      {
                        "bin_start": 73.01506693826965,
                        "bin_end": 82.14195030555337,
                        "count": 0
                      },
                      {
                        "bin_start": 82.14195030555337,
                        "bin_end": 91.26883367283708,
                        "count": 1
                      }
                    ]
                  }
                },
                {
                  "name": 5,
                  "dtype": "float64",
                  "stats": {
                    "unique_count": 8,
                    "nan_count": 0,
                    "min": "0.0",
                    "max": "102.31813133555558",
                    "histogram": [
                      {
                        "bin_start": 0,
                        "bin_end": 10.231813133555558,
                        "count": 1
                      },
                      {
                        "bin_start": 10.231813133555558,
                        "bin_end": 20.463626267111117,
                        "count": 1
                      },
                      {
                        "bin_start": 20.463626267111117,
                        "bin_end": 30.695439400666675,
                        "count": 3
                      },
                      {
                        "bin_start": 30.695439400666675,
                        "bin_end": 40.927252534222234,
                        "count": 1
                      },
                      {
                        "bin_start": 40.927252534222234,
                        "bin_end": 51.159065667777796,
                        "count": 2
                      },
                      {
                        "bin_start": 51.159065667777796,
                        "bin_end": 61.39087880133335,
                        "count": 0
                      },
                      {
                        "bin_start": 61.39087880133335,
                        "bin_end": 71.6226919348889,
                        "count": 0
                      },
                      {
                        "bin_start": 71.6226919348889,
                        "bin_end": 81.85450506844447,
                        "count": 0
                      },
                      {
                        "bin_start": 81.85450506844447,
                        "bin_end": 92.08631820200003,
                        "count": 0
                      },
                      {
                        "bin_start": 92.08631820200003,
                        "bin_end": 102.31813133555558,
                        "count": 1
                      }
                    ]
                  }
                },
                {
                  "name": 6,
                  "dtype": "float64",
                  "stats": {
                    "unique_count": 8,
                    "nan_count": 0,
                    "min": "0.0",
                    "max": "112.32987136109433",
                    "histogram": [
                      {
                        "bin_start": 0,
                        "bin_end": 11.232987136109433,
                        "count": 1
                      },
                      {
                        "bin_start": 11.232987136109433,
                        "bin_end": 22.465974272218865,
                        "count": 0
                      },
                      {
                        "bin_start": 22.465974272218865,
                        "bin_end": 33.6989614083283,
                        "count": 0
                      },
                      {
                        "bin_start": 33.6989614083283,
                        "bin_end": 44.93194854443773,
                        "count": 0
                      },
                      {
                        "bin_start": 44.93194854443773,
                        "bin_end": 56.16493568054716,
                        "count": 0
                      },
                      {
                        "bin_start": 56.16493568054716,
                        "bin_end": 67.3979228166566,
                        "count": 2
                      },
                      {
                        "bin_start": 67.3979228166566,
                        "bin_end": 78.63090995276603,
                        "count": 1
                      },
                      {
                        "bin_start": 78.63090995276603,
                        "bin_end": 89.86389708887546,
                        "count": 1
                      },
                      {
                        "bin_start": 89.86389708887546,
                        "bin_end": 101.09688422498489,
                        "count": 2
                      },
                      {
                        "bin_start": 101.09688422498489,
                        "bin_end": 112.32987136109433,
                        "count": 2
                      }
                    ]
                  }
                },
                {
                  "name": 7,
                  "dtype": "float64",
                  "stats": {
                    "unique_count": 8,
                    "nan_count": 0,
                    "min": "0.0",
                    "max": "100.70253224224304",
                    "histogram": [
                      {
                        "bin_start": 0,
                        "bin_end": 10.070253224224304,
                        "count": 2
                      },
                      {
                        "bin_start": 10.070253224224304,
                        "bin_end": 20.14050644844861,
                        "count": 2
                      },
                      {
                        "bin_start": 20.14050644844861,
                        "bin_end": 30.210759672672914,
                        "count": 1
                      },
                      {
                        "bin_start": 30.210759672672914,
                        "bin_end": 40.28101289689722,
                        "count": 0
                      },
                      {
                        "bin_start": 40.28101289689722,
                        "bin_end": 50.35126612112152,
                        "count": 2
                      },
                      {
                        "bin_start": 50.35126612112152,
                        "bin_end": 60.42151934534583,
                        "count": 1
                      },
                      {
                        "bin_start": 60.42151934534583,
                        "bin_end": 70.49177256957013,
                        "count": 0
                      },
                      {
                        "bin_start": 70.49177256957013,
                        "bin_end": 80.56202579379443,
                        "count": 0
                      },
                      {
                        "bin_start": 80.56202579379443,
                        "bin_end": 90.63227901801874,
                        "count": 0
                      },
                      {
                        "bin_start": 90.63227901801874,
                        "bin_end": 100.70253224224304,
                        "count": 1
                      }
                    ]
                  }
                },
                {
                  "name": 8,
                  "dtype": "float64",
                  "stats": {
                    "unique_count": 8,
                    "nan_count": 0,
                    "min": "0.0",
                    "max": "73.17103251970687",
                    "histogram": [
                      {
                        "bin_start": 0,
                        "bin_end": 7.317103251970687,
                        "count": 1
                      },
                      {
                        "bin_start": 7.317103251970687,
                        "bin_end": 14.634206503941375,
                        "count": 0
                      },
                      {
                        "bin_start": 14.634206503941375,
                        "bin_end": 21.951309755912064,
                        "count": 0
                      },
                      {
                        "bin_start": 21.951309755912064,
                        "bin_end": 29.26841300788275,
                        "count": 0
                      },
                      {
                        "bin_start": 29.26841300788275,
                        "bin_end": 36.585516259853435,
                        "count": 1
                      },
                      {
                        "bin_start": 36.585516259853435,
                        "bin_end": 43.90261951182413,
                        "count": 3
                      },
                      {
                        "bin_start": 43.90261951182413,
                        "bin_end": 51.21972276379481,
                        "count": 2
                      },
                      {
                        "bin_start": 51.21972276379481,
                        "bin_end": 58.5368260157655,
                        "count": 0
                      },
                      {
                        "bin_start": 58.5368260157655,
                        "bin_end": 65.85392926773619,
                        "count": 1
                      },
                      {
                        "bin_start": 65.85392926773619,
                        "bin_end": 73.17103251970687,
                        "count": 1
                      }
                    ]
                  }
                },
                {
                  "name": "_deepnote_index_column",
                  "dtype": "int64"
                }
              ],
              "rows": [
                {
                  "0": 0,
                  "1": 0,
                  "2": 56.0357029044876,
                  "3": 23.08679276123039,
                  "4": 34.9857113690718,
                  "5": 48.507731342539614,
                  "6": 56.302753041036986,
                  "7": 44.41846462902562,
                  "8": 36.76955262170047,
                  "_deepnote_index_column": 0
                },
                {
                  "0": 0,
                  "1": 0,
                  "2": 56.0357029044876,
                  "3": 23.08679276123039,
                  "4": 34.9857113690718,
                  "5": 48.507731342539614,
                  "6": 56.302753041036986,
                  "7": 44.41846462902562,
                  "8": 36.76955262170047,
                  "_deepnote_index_column": 1
                },
                {
                  "0": 56.0357029044876,
                  "1": 56.0357029044876,
                  "2": 0,
                  "3": 34.655446902326915,
                  "4": 21.2602916254693,
                  "5": 25.079872407968907,
                  "6": 112.32987136109433,
                  "7": 12.041594578792296,
                  "8": 61.35144660071187,
                  "_deepnote_index_column": 2
                },
                {
                  "0": 23.08679276123039,
                  "1": 23.08679276123039,
                  "2": 34.655446902326915,
                  "3": 0,
                  "4": 13.601470508735444,
                  "5": 26,
                  "6": 78.77182237323191,
                  "7": 22.627416997969522,
                  "8": 33.24154027718932,
                  "_deepnote_index_column": 3
                },
                {
                  "0": 34.9857113690718,
                  "1": 34.9857113690718,
                  "2": 21.2602916254693,
                  "3": 13.601470508735444,
                  "4": 0,
                  "5": 21.095023109728988,
                  "6": 91.26883367283708,
                  "7": 9.433981132056603,
                  "8": 44.181444068749045,
                  "_deepnote_index_column": 4
                },
                {
                  "0": 48.507731342539614,
                  "1": 48.507731342539614,
                  "2": 25.079872407968907,
                  "3": 26,
                  "4": 21.095023109728988,
                  "5": 0,
                  "6": 102.31813133555558,
                  "7": 18.867962264113206,
                  "8": 39.66106403010388,
                  "_deepnote_index_column": 5
                },
                {
                  "0": 56.302753041036986,
                  "1": 56.302753041036986,
                  "2": 112.32987136109433,
                  "3": 78.77182237323191,
                  "4": 91.26883367283708,
                  "5": 102.31813133555558,
                  "6": 0,
                  "7": 100.70253224224304,
                  "8": 73.17103251970687,
                  "_deepnote_index_column": 6
                },
                {
                  "0": 44.41846462902562,
                  "1": 44.41846462902562,
                  "2": 12.041594578792296,
                  "3": 22.627416997969522,
                  "4": 9.433981132056603,
                  "5": 18.867962264113206,
                  "6": 100.70253224224304,
                  "7": 0,
                  "8": 50.44799302251776,
                  "_deepnote_index_column": 7
                },
                {
                  "0": 36.76955262170047,
                  "1": 36.76955262170047,
                  "2": 61.35144660071187,
                  "3": 33.24154027718932,
                  "4": 44.181444068749045,
                  "5": 39.66106403010388,
                  "6": 73.17103251970687,
                  "7": 50.44799302251776,
                  "8": 0,
                  "_deepnote_index_column": 8
                }
              ]
            },
            "text/plain": "           0          1           2          3          4           5  \\\n0   0.000000   0.000000   56.035703  23.086793  34.985711   48.507731   \n1   0.000000   0.000000   56.035703  23.086793  34.985711   48.507731   \n2  56.035703  56.035703    0.000000  34.655447  21.260292   25.079872   \n3  23.086793  23.086793   34.655447   0.000000  13.601471   26.000000   \n4  34.985711  34.985711   21.260292  13.601471   0.000000   21.095023   \n5  48.507731  48.507731   25.079872  26.000000  21.095023    0.000000   \n6  56.302753  56.302753  112.329871  78.771822  91.268834  102.318131   \n7  44.418465  44.418465   12.041595  22.627417   9.433981   18.867962   \n8  36.769553  36.769553   61.351447  33.241540  44.181444   39.661064   \n\n            6           7          8  \n0   56.302753   44.418465  36.769553  \n1   56.302753   44.418465  36.769553  \n2  112.329871   12.041595  61.351447  \n3   78.771822   22.627417  33.241540  \n4   91.268834    9.433981  44.181444  \n5  102.318131   18.867962  39.661064  \n6    0.000000  100.702532  73.171033  \n7  100.702532    0.000000  50.447993  \n8   73.171033   50.447993   0.000000  ",
            "text/html": "<div>\n<style scoped>\n    .dataframe tbody tr th:only-of-type {\n        vertical-align: middle;\n    }\n\n    .dataframe tbody tr th {\n        vertical-align: top;\n    }\n\n    .dataframe thead th {\n        text-align: right;\n    }\n</style>\n<table border=\"1\" class=\"dataframe\">\n  <thead>\n    <tr style=\"text-align: right;\">\n      <th></th>\n      <th>0</th>\n      <th>1</th>\n      <th>2</th>\n      <th>3</th>\n      <th>4</th>\n      <th>5</th>\n      <th>6</th>\n      <th>7</th>\n      <th>8</th>\n    </tr>\n  </thead>\n  <tbody>\n    <tr>\n      <th>0</th>\n      <td>0.000000</td>\n      <td>0.000000</td>\n      <td>56.035703</td>\n      <td>23.086793</td>\n      <td>34.985711</td>\n      <td>48.507731</td>\n      <td>56.302753</td>\n      <td>44.418465</td>\n      <td>36.769553</td>\n    </tr>\n    <tr>\n      <th>1</th>\n      <td>0.000000</td>\n      <td>0.000000</td>\n      <td>56.035703</td>\n      <td>23.086793</td>\n      <td>34.985711</td>\n      <td>48.507731</td>\n      <td>56.302753</td>\n      <td>44.418465</td>\n      <td>36.769553</td>\n    </tr>\n    <tr>\n      <th>2</th>\n      <td>56.035703</td>\n      <td>56.035703</td>\n      <td>0.000000</td>\n      <td>34.655447</td>\n      <td>21.260292</td>\n      <td>25.079872</td>\n      <td>112.329871</td>\n      <td>12.041595</td>\n      <td>61.351447</td>\n    </tr>\n    <tr>\n      <th>3</th>\n      <td>23.086793</td>\n      <td>23.086793</td>\n      <td>34.655447</td>\n      <td>0.000000</td>\n      <td>13.601471</td>\n      <td>26.000000</td>\n      <td>78.771822</td>\n      <td>22.627417</td>\n      <td>33.241540</td>\n    </tr>\n    <tr>\n      <th>4</th>\n      <td>34.985711</td>\n      <td>34.985711</td>\n      <td>21.260292</td>\n      <td>13.601471</td>\n      <td>0.000000</td>\n      <td>21.095023</td>\n      <td>91.268834</td>\n      <td>9.433981</td>\n      <td>44.181444</td>\n    </tr>\n    <tr>\n      <th>5</th>\n      <td>48.507731</td>\n      <td>48.507731</td>\n      <td>25.079872</td>\n      <td>26.000000</td>\n      <td>21.095023</td>\n      <td>0.000000</td>\n      <td>102.318131</td>\n      <td>18.867962</td>\n      <td>39.661064</td>\n    </tr>\n    <tr>\n      <th>6</th>\n      <td>56.302753</td>\n      <td>56.302753</td>\n      <td>112.329871</td>\n      <td>78.771822</td>\n      <td>91.268834</td>\n      <td>102.318131</td>\n      <td>0.000000</td>\n      <td>100.702532</td>\n      <td>73.171033</td>\n    </tr>\n    <tr>\n      <th>7</th>\n      <td>44.418465</td>\n      <td>44.418465</td>\n      <td>12.041595</td>\n      <td>22.627417</td>\n      <td>9.433981</td>\n      <td>18.867962</td>\n      <td>100.702532</td>\n      <td>0.000000</td>\n      <td>50.447993</td>\n    </tr>\n    <tr>\n      <th>8</th>\n      <td>36.769553</td>\n      <td>36.769553</td>\n      <td>61.351447</td>\n      <td>33.241540</td>\n      <td>44.181444</td>\n      <td>39.661064</td>\n      <td>73.171033</td>\n      <td>50.447993</td>\n      <td>0.000000</td>\n    </tr>\n  </tbody>\n</table>\n</div>"
          },
          "metadata": {}
        }
      ],
      "execution_count": 7,
      "block_group": "68bab9a8ef254a1bb443ece11a241e20"
    },
    {
      "cell_type": "markdown",
      "source": "## Model",
      "metadata": {
        "formattedRanges": [],
        "cell_id": "1bd6459c8cfd4d1287c6fd112f03b56a",
        "deepnote_cell_type": "text-cell-h2"
      },
      "block_group": "1bd6459c8cfd4d1287c6fd112f03b56a"
    },
    {
      "cell_type": "code",
      "source": "import gurobipy as gp\nfrom gurobipy import GRB\n\ntry:\n    if model:\n        model.close()\nexcept:\n    pass\n\nmodel = gp.Model(name=\"SBRP\")\nmodel.modelSense = GRB.MINIMIZE\nmodel.update()\n\n\nI = list(range(2, len(distances)))\nJ = list(range(2, len(distances)))\n# k = len(vehicles_df) # Number of buses active, assume capacity of 70\nk = 4\nfixed_cost_per_bus = 2000\n\n\n\n\n# Cost to travel 1 unit of distance\ncost_per_unit = 5\ncij = distances * cost_per_unit \nd = distances\n\nBigQ = 250 #  vehicle capacity\nQij = []\nq = [0,0, *df['student_num'].values] # demand at node i\n# q += [0] * (len(all_coords) -  len(q))\n\nBigT = 2000000000 # Max Time/Distance\n\n##################################################\n########## DECISION VARIABLES ###################\n##################################################\nx = model.addVars([0,1, *I], [0,1, *J], lb=0.0, vtype=GRB.BINARY, name=\"is_edge_active\")\nu = model.addVars(I, lb=0.0, vtype=GRB.INTEGER, name=\"u\") # number of students leaving node I\nv = model.addVars(I, lb=0.0, vtype=GRB.INTEGER, name=\"v\") # total distance traveled to reach node i\n\ntslack = model.addVar(lb=0.0, vtype=GRB.INTEGER, name=\"BigTSlack\")\n\n##################################################\n#################### GOALS #######################\n##################################################\nnum_nodes = list(range(len(distances)))\n\nmodel.setObjectiveN(gp.quicksum(cij[i][j] * x[(i, j)] for i in num_nodes for j in num_nodes), 1, name=\"Cost\" )\n\nmodel.setObjectiveN(tslack, 2, name=\"TSlack\" )\n\n\n##################################################\n################# CONSTRAINTS ####################\n##################################################\nmodel.addConstr((x.sum(0, [*I]) <= k ) , name=\"(2) leaveDepotKTimes\")\nmodel.addConstr((x.sum([*I], 0) <= k ) , name=\"(3) enterDepotKTimes\")\n# list_I = list(range(1,15))\n# Only leave each node once\nmodel.addConstrs((gp.quicksum(x[(i,j)] for j in [1, *J]) == 1 for i in I), name=\"(4) leaveNodeOnce\")\n# Only enter each node once\nmodel.addConstrs((gp.quicksum(x[(i,j)] for i in [0, *I]) == 1 for j in J), name=\"(5) enterNodeOnce\")\n\nmodel.addConstrs((x[(i, i)] == 0  for i in I), name=\"(lol) NoSelfConnect\")\n\n# contraints 6-8 are not used in the final model in the paper\nmodel.addConstrs((BigQ * x[(i, j)] + (BigQ - q[i] - q[j]) * x[(j, i)] + u[i] - u[j] <= BigQ - q[j] for i in I for j in J if i != j), name='(9) subtourConstr1')\nmodel.addConstrs(((u[i] >= q[i]) for i in I), name='(10) subtourConstr2')\nmodel.addConstrs(((u[i] - q[i] * x[(0, i)] + BigQ * x[(0, i)] <= BigQ) for i in I), name='(11) subtourConstr3')\n\nmodel.addConstrs(((BigT - d[i][1]  - d[0][j]  + d[i][j]) * x[(i,j)] + (BigT - d[i][1] - d[0][j] - d[j][i]) * x[(j,i)] + v[i] - v[j]  <= BigT - d[i][1] - d[0][j] for i in I for j in J if i != j ), name=\"(12)\" )\nmodel.addConstrs(((v[i] - d[0][i] * x[(0, i)] >= 0) for i in I), name=\"(13)\" )\n# model.addConstrs(((v[i] >= d[0][i] ) for i in I), name=\"(lmao)\" )\nmodel.addConstrs(((v[i] - d[0][i] * x[(0, i)] + BigT * x[(0, i)] <= BigT + tslack) for i in I), name=\"(14)\")\n# model.addConstrs(((v[i] - d[0][i] * x[(0, i)] + BigT * x[(0, i)] <= BigT) for i in I), name=\"(14)\")\n\nmodel.update()\nmodel.display()\n",
      "metadata": {
        "source_hash": "4271a530",
        "execution_start": 1691095815947,
        "execution_millis": 616,
        "deepnote_to_be_reexecuted": false,
        "cell_id": "b9fa5037ea1e4774b9f3fc2b77a739a8",
        "deepnote_cell_type": "code"
      },
      "outputs": [
        {
          "name": "stdout",
          "text": "Minimize\n  0.0\nSubject To\n(2) leaveDepotKTimes: is_edge_active[0,2] + is_edge_active[0,3] + is_edge_active[0,4] +\nis_edge_active[0,5] + is_edge_active[0,6] + is_edge_active[0,7] + is_edge_active[0,8] <=\n 4\n(3) enterDepotKTimes: is_edge_active[2,0] + is_edge_active[3,0] + is_edge_active[4,0] +\nis_edge_active[5,0] + is_edge_active[6,0] + is_edge_active[7,0] + is_edge_active[8,0] <=\n 4\n(4) leaveNodeOnce[2]: is_edge_active[2,1] + is_edge_active[2,2] + is_edge_active[2,3] +\nis_edge_active[2,4] + is_edge_active[2,5] + is_edge_active[2,6] + is_edge_active[2,7] +\n is_edge_active[2,8] = 1\n(4) leaveNodeOnce[3]: is_edge_active[3,1] + is_edge_active[3,2] + is_edge_active[3,3] +\nis_edge_active[3,4] + is_edge_active[3,5] + is_edge_active[3,6] + is_edge_active[3,7] +\n is_edge_active[3,8] = 1\n(4) leaveNodeOnce[4]: is_edge_active[4,1] + is_edge_active[4,2] + is_edge_active[4,3] +\nis_edge_active[4,4] + is_edge_active[4,5] + is_edge_active[4,6] + is_edge_active[4,7] +\n is_edge_active[4,8] = 1\n(4) leaveNodeOnce[5]: is_edge_active[5,1] + is_edge_active[5,2] + is_edge_active[5,3] +\nis_edge_active[5,4] + is_edge_active[5,5] + is_edge_active[5,6] + is_edge_active[5,7] +\n is_edge_active[5,8] = 1\n(4) leaveNodeOnce[6]: is_edge_active[6,1] + is_edge_active[6,2] + is_edge_active[6,3] +\nis_edge_active[6,4] + is_edge_active[6,5] + is_edge_active[6,6] + is_edge_active[6,7] +\n is_edge_active[6,8] = 1\n(4) leaveNodeOnce[7]: is_edge_active[7,1] + is_edge_active[7,2] + is_edge_active[7,3] +\nis_edge_active[7,4] + is_edge_active[7,5] + is_edge_active[7,6] + is_edge_active[7,7] +\n is_edge_active[7,8] = 1\n(4) leaveNodeOnce[8]: is_edge_active[8,1] + is_edge_active[8,2] + is_edge_active[8,3] +\nis_edge_active[8,4] + is_edge_active[8,5] + is_edge_active[8,6] + is_edge_active[8,7] +\n is_edge_active[8,8] = 1\n(5) enterNodeOnce[2]: is_edge_active[0,2] + is_edge_active[2,2] + is_edge_active[3,2] +\nis_edge_active[4,2] + is_edge_active[5,2] + is_edge_active[6,2] + is_edge_active[7,2] +\n is_edge_active[8,2] = 1\n(5) enterNodeOnce[3]: is_edge_active[0,3] + is_edge_active[2,3] + is_edge_active[3,3] +\nis_edge_active[4,3] + is_edge_active[5,3] + is_edge_active[6,3] + is_edge_active[7,3] +\n is_edge_active[8,3] = 1\n(5) enterNodeOnce[4]: is_edge_active[0,4] + is_edge_active[2,4] + is_edge_active[3,4] +\nis_edge_active[4,4] + is_edge_active[5,4] + is_edge_active[6,4] + is_edge_active[7,4] +\n is_edge_active[8,4] = 1\n(5) enterNodeOnce[5]: is_edge_active[0,5] + is_edge_active[2,5] + is_edge_active[3,5] +\nis_edge_active[4,5] + is_edge_active[5,5] + is_edge_active[6,5] + is_edge_active[7,5] +\n is_edge_active[8,5] = 1\n(5) enterNodeOnce[6]: is_edge_active[0,6] + is_edge_active[2,6] + is_edge_active[3,6] +\nis_edge_active[4,6] + is_edge_active[5,6] + is_edge_active[6,6] + is_edge_active[7,6] +\n is_edge_active[8,6] = 1\n(5) enterNodeOnce[7]: is_edge_active[0,7] + is_edge_active[2,7] + is_edge_active[3,7] +\nis_edge_active[4,7] + is_edge_active[5,7] + is_edge_active[6,7] + is_edge_active[7,7] +\n is_edge_active[8,7] = 1\n(5) enterNodeOnce[8]: is_edge_active[0,8] + is_edge_active[2,8] + is_edge_active[3,8] +\nis_edge_active[4,8] + is_edge_active[5,8] + is_edge_active[6,8] + is_edge_active[7,8] +\n is_edge_active[8,8] = 1\n  (lol) NoSelfConnect[2]: is_edge_active[2,2] = 0\n  (lol) NoSelfConnect[3]: is_edge_active[3,3] = 0\n  (lol) NoSelfConnect[4]: is_edge_active[4,4] = 0\n  (lol) NoSelfConnect[5]: is_edge_active[5,5] = 0\n  (lol) NoSelfConnect[6]: is_edge_active[6,6] = 0\n  (lol) NoSelfConnect[7]: is_edge_active[7,7] = 0\n  (lol) NoSelfConnect[8]: is_edge_active[8,8] = 0\n(9) subtourConstr1[2,3]: 250.0 is_edge_active[2,3] + 121.0 is_edge_active[3,2] + u[2] +\n -1.0 u[3] <= 181\n(9) subtourConstr1[2,4]: 250.0 is_edge_active[2,4] + 147.0 is_edge_active[4,2] + u[2] +\n -1.0 u[4] <= 207\n(9) subtourConstr1[2,5]: 250.0 is_edge_active[2,5] + 138.0 is_edge_active[5,2] + u[2] +\n -1.0 u[5] <= 198\n(9) subtourConstr1[2,6]: 250.0 is_edge_active[2,6] + 160.0 is_edge_active[6,2] + u[2] +\n -1.0 u[6] <= 220\n(9) subtourConstr1[2,7]: 250.0 is_edge_active[2,7] + 146.0 is_edge_active[7,2] + u[2] +\n -1.0 u[7] <= 206\n(9) subtourConstr1[2,8]: 250.0 is_edge_active[2,8] + 153.0 is_edge_active[8,2] + u[2] +\n -1.0 u[8] <= 213\n(9) subtourConstr1[3,2]: 121.0 is_edge_active[2,3] + 250.0 is_edge_active[3,2] + -1.0\n u[2] + u[3] <= 190\n(9) subtourConstr1[3,4]: 250.0 is_edge_active[3,4] + 138.0 is_edge_active[4,3] + u[3] +\n -1.0 u[4] <= 207\n(9) subtourConstr1[3,5]: 250.0 is_edge_active[3,5] + 129.0 is_edge_active[5,3] + u[3] +\n -1.0 u[5] <= 198\n(9) subtourConstr1[3,6]: 250.0 is_edge_active[3,6] + 151.0 is_edge_active[6,3] + u[3] +\n -1.0 u[6] <= 220\n(9) subtourConstr1[3,7]: 250.0 is_edge_active[3,7] + 137.0 is_edge_active[7,3] + u[3] +\n -1.0 u[7] <= 206\n(9) subtourConstr1[3,8]: 250.0 is_edge_active[3,8] + 144.0 is_edge_active[8,3] + u[3] +\n -1.0 u[8] <= 213\n(9) subtourConstr1[4,2]: 147.0 is_edge_active[2,4] + 250.0 is_edge_active[4,2] + -1.0\n u[2] + u[4] <= 190\n(9) subtourConstr1[4,3]: 138.0 is_edge_active[3,4] + 250.0 is_edge_active[4,3] + -1.0\n u[3] + u[4] <= 181\n(9) subtourConstr1[4,5]: 250.0 is_edge_active[4,5] + 155.0 is_edge_active[5,4] + u[4] +\n -1.0 u[5] <= 198\n(9) subtourConstr1[4,6]: 250.0 is_edge_active[4,6] + 177.0 is_edge_active[6,4] + u[4] +\n -1.0 u[6] <= 220\n(9) subtourConstr1[4,7]: 250.0 is_edge_active[4,7] + 163.0 is_edge_active[7,4] + u[4] +\n -1.0 u[7] <= 206\n(9) subtourConstr1[4,8]: 250.0 is_edge_active[4,8] + 170.0 is_edge_active[8,4] + u[4] +\n -1.0 u[8] <= 213\n(9) subtourConstr1[5,2]: 138.0 is_edge_active[2,5] + 250.0 is_edge_active[5,2] + -1.0\n u[2] + u[5] <= 190\n(9) subtourConstr1[5,3]: 129.0 is_edge_active[3,5] + 250.0 is_edge_active[5,3] + -1.0\n u[3] + u[5] <= 181\n(9) subtourConstr1[5,4]: 155.0 is_edge_active[4,5] + 250.0 is_edge_active[5,4] + -1.0\n u[4] + u[5] <= 207\n(9) subtourConstr1[5,6]: 250.0 is_edge_active[5,6] + 168.0 is_edge_active[6,5] + u[5] +\n -1.0 u[6] <= 220\n(9) subtourConstr1[5,7]: 250.0 is_edge_active[5,7] + 154.0 is_edge_active[7,5] + u[5] +\n -1.0 u[7] <= 206\n(9) subtourConstr1[5,8]: 250.0 is_edge_active[5,8] + 161.0 is_edge_active[8,5] + u[5] +\n -1.0 u[8] <= 213\n(9) subtourConstr1[6,2]: 160.0 is_edge_active[2,6] + 250.0 is_edge_active[6,2] + -1.0\n u[2] + u[6] <= 190\n(9) subtourConstr1[6,3]: 151.0 is_edge_active[3,6] + 250.0 is_edge_active[6,3] + -1.0\n u[3] + u[6] <= 181\n(9) subtourConstr1[6,4]: 177.0 is_edge_active[4,6] + 250.0 is_edge_active[6,4] + -1.0\n u[4] + u[6] <= 207\n(9) subtourConstr1[6,5]: 168.0 is_edge_active[5,6] + 250.0 is_edge_active[6,5] + -1.0\n u[5] + u[6] <= 198\n(9) subtourConstr1[6,7]: 250.0 is_edge_active[6,7] + 176.0 is_edge_active[7,6] + u[6] +\n -1.0 u[7] <= 206\n(9) subtourConstr1[6,8]: 250.0 is_edge_active[6,8] + 183.0 is_edge_active[8,6] + u[6] +\n -1.0 u[8] <= 213\n(9) subtourConstr1[7,2]: 146.0 is_edge_active[2,7] + 250.0 is_edge_active[7,2] + -1.0\n u[2] + u[7] <= 190\n(9) subtourConstr1[7,3]: 137.0 is_edge_active[3,7] + 250.0 is_edge_active[7,3] + -1.0\n u[3] + u[7] <= 181\n(9) subtourConstr1[7,4]: 163.0 is_edge_active[4,7] + 250.0 is_edge_active[7,4] + -1.0\n u[4] + u[7] <= 207\n(9) subtourConstr1[7,5]: 154.0 is_edge_active[5,7] + 250.0 is_edge_active[7,5] + -1.0\n u[5] + u[7] <= 198\n(9) subtourConstr1[7,6]: 176.0 is_edge_active[6,7] + 250.0 is_edge_active[7,6] + -1.0\n u[6] + u[7] <= 220\n(9) subtourConstr1[7,8]: 250.0 is_edge_active[7,8] + 169.0 is_edge_active[8,7] + u[7] +\n -1.0 u[8] <= 213\n(9) subtourConstr1[8,2]: 153.0 is_edge_active[2,8] + 250.0 is_edge_active[8,2] + -1.0\n u[2] + u[8] <= 190\n(9) subtourConstr1[8,3]: 144.0 is_edge_active[3,8] + 250.0 is_edge_active[8,3] + -1.0\n u[3] + u[8] <= 181\n(9) subtourConstr1[8,4]: 170.0 is_edge_active[4,8] + 250.0 is_edge_active[8,4] + -1.0\n u[4] + u[8] <= 207\n(9) subtourConstr1[8,5]: 161.0 is_edge_active[5,8] + 250.0 is_edge_active[8,5] + -1.0\n u[5] + u[8] <= 198\n(9) subtourConstr1[8,6]: 183.0 is_edge_active[6,8] + 250.0 is_edge_active[8,6] + -1.0\n u[6] + u[8] <= 220\n(9) subtourConstr1[8,7]: 169.0 is_edge_active[7,8] + 250.0 is_edge_active[8,7] + -1.0\n u[7] + u[8] <= 206\n  (10) subtourConstr2[2]: u[2] >= 60\n  (10) subtourConstr2[3]: u[3] >= 69\n  (10) subtourConstr2[4]: u[4] >= 43\n  (10) subtourConstr2[5]: u[5] >= 52\n  (10) subtourConstr2[6]: u[6] >= 30\n  (10) subtourConstr2[7]: u[7] >= 44\n  (10) subtourConstr2[8]: u[8] >= 37\n  (11) subtourConstr3[2]: 190.0 is_edge_active[0,2] + u[2] <= 250\n  (11) subtourConstr3[3]: 181.0 is_edge_active[0,3] + u[3] <= 250\n  (11) subtourConstr3[4]: 207.0 is_edge_active[0,4] + u[4] <= 250\n  (11) subtourConstr3[5]: 198.0 is_edge_active[0,5] + u[5] <= 250\n  (11) subtourConstr3[6]: 220.0 is_edge_active[0,6] + u[6] <= 250\n  (11) subtourConstr3[7]: 206.0 is_edge_active[0,7] + u[7] <= 250\n  (11) subtourConstr3[8]: 213.0 is_edge_active[0,8] + u[8] <= 250\n(12)[2,3]: 1999999955.5329514 is_edge_active[2,3] + 1999999886.2220573\n is_edge_active[3,2] + v[2] + -1.0 v[3] <= 2e+09\n(12)[2,4]: 1999999930.2388773 is_edge_active[2,4] + 1999999887.7182941\n is_edge_active[4,2] + v[2] + -1.0 v[4] <= 2e+09\n(12)[2,5]: 1999999920.536438 is_edge_active[2,5] + 1999999870.3766932\n is_edge_active[5,2] + v[2] + -1.0 v[5] <= 2e+09\n(12)[2,6]: 1999999999.9914155 is_edge_active[2,6] + 1999999775.3316727\n is_edge_active[6,2] + v[2] + -1.0 v[6] <= 2e+09\n(12)[2,7]: 1999999911.587427 is_edge_active[2,7] + 1999999887.504238\n is_edge_active[7,2] + v[2] + -1.0 v[7] <= 2e+09\n(12)[2,8]: 1999999968.546191 is_edge_active[2,8] + 1999999845.8432977\n is_edge_active[8,2] + v[2] + -1.0 v[8] <= 2e+09\n(12)[3,2]: 1999999886.2220573 is_edge_active[2,3] + 1999999955.5329514\n is_edge_active[3,2] + -1.0 v[2] + v[3] <= 2e+09\n(12)[3,4]: 1999999955.5289664 is_edge_active[3,4] + 1999999928.3260255\n is_edge_active[4,3] + v[3] + -1.0 v[4] <= 2e+09\n(12)[3,5]: 1999999954.4054759 is_edge_active[3,5] + 1999999902.4054759\n is_edge_active[5,3] + v[3] + -1.0 v[5] <= 2e+09\n(12)[3,6]: 1999999999.3822768 is_edge_active[3,6] + 1999999841.8386319\n is_edge_active[6,3] + v[3] + -1.0 v[6] <= 2e+09\n(12)[3,7]: 1999999955.1221597 is_edge_active[3,7] + 1999999909.8673255\n is_edge_active[7,3] + v[3] + -1.0 v[7] <= 2e+09\n(12)[3,8]: 1999999973.3851948 is_edge_active[3,8] + 1999999906.9021144\n is_edge_active[8,3] + v[3] + -1.0 v[8] <= 2e+09\n(12)[4,2]: 1999999887.7182941 is_edge_active[2,4] + 1999999930.2388773\n is_edge_active[4,2] + -1.0 v[2] + v[4] <= 2e+09\n(12)[4,3]: 1999999928.3260255 is_edge_active[3,4] + 1999999955.5289664\n is_edge_active[4,3] + -1.0 v[3] + v[4] <= 2e+09\n(12)[4,5]: 1999999937.6015804 is_edge_active[4,5] + 1999999895.411534\n is_edge_active[5,4] + v[4] + -1.0 v[5] <= 2e+09\n(12)[4,6]: 1999999999.9803693 is_edge_active[4,6] + 1999999817.442702\n is_edge_active[6,4] + v[4] + -1.0 v[6] <= 2e+09\n(12)[4,7]: 1999999930.0298052 is_edge_active[4,7] + 1999999911.1618428\n is_edge_active[7,4] + v[4] + -1.0 v[7] <= 2e+09\n(12)[4,8]: 1999999972.4261801 is_edge_active[4,8] + 1999999884.0632918\n is_edge_active[8,4] + v[4] + -1.0 v[8] <= 2e+09\n(12)[5,2]: 1999999870.3766932 is_edge_active[2,5] + 1999999920.536438\n is_edge_active[5,2] + -1.0 v[2] + v[5] <= 2e+09\n(12)[5,3]: 1999999902.4054759 is_edge_active[3,5] + 1999999954.4054759\n is_edge_active[5,3] + -1.0 v[3] + v[5] <= 2e+09\n(12)[5,4]: 1999999895.411534 is_edge_active[4,5] + 1999999937.6015804\n is_edge_active[5,4] + -1.0 v[4] + v[5] <= 2e+09\n(12)[5,6]: 1999999997.507647 is_edge_active[5,6] + 1999999792.8713841\n is_edge_active[6,5] + v[5] + -1.0 v[6] <= 2e+09\n(12)[5,7]: 1999999925.9417663 is_edge_active[5,7] + 1999999888.2058415\n is_edge_active[7,5] + v[5] + -1.0 v[7] <= 2e+09\n(12)[5,8]: 1999999954.38378 is_edge_active[5,8] + 1999999875.0616517\n is_edge_active[8,5] + v[5] + -1.0 v[8] <= 2e+09\n(12)[6,2]: 1999999775.3316727 is_edge_active[2,6] + 1999999999.9914155\n is_edge_active[6,2] + -1.0 v[2] + v[6] <= 2e+09\n(12)[6,3]: 1999999841.8386319 is_edge_active[3,6] + 1999999999.3822768\n is_edge_active[6,3] + -1.0 v[3] + v[6] <= 2e+09\n(12)[6,4]: 1999999817.442702 is_edge_active[4,6] + 1999999999.9803693\n is_edge_active[6,4] + -1.0 v[4] + v[6] <= 2e+09\n(12)[6,5]: 1999999792.8713841 is_edge_active[5,6] + 1999999997.507647\n is_edge_active[6,5] + -1.0 v[5] + v[6] <= 2e+09\n(12)[6,7]: 1999999999.9813147 is_edge_active[6,7] + 1999999798.57625\n is_edge_active[7,6] + v[6] + -1.0 v[7] <= 2e+09\n(12)[6,8]: 1999999980.0987267 is_edge_active[6,8] + 1999999833.756662\n is_edge_active[8,6] + v[6] + -1.0 v[8] <= 2e+09\n(12)[7,2]: 1999999887.504238 is_edge_active[2,7] + 1999999911.587427\n is_edge_active[7,2] + -1.0 v[2] + v[7] <= 2e+09\n(12)[7,3]: 1999999909.8673255 is_edge_active[3,7] + 1999999955.1221597\n is_edge_active[7,3] + -1.0 v[3] + v[7] <= 2e+09\n(12)[7,4]: 1999999911.1618428 is_edge_active[4,7] + 1999999930.0298052\n is_edge_active[7,4] + -1.0 v[4] + v[7] <= 2e+09\n(12)[7,5]: 1999999888.2058415 is_edge_active[5,7] + 1999999925.9417663\n is_edge_active[7,5] + -1.0 v[5] + v[7] <= 2e+09\n(12)[7,6]: 1999999798.57625 is_edge_active[6,7] + 1999999999.9813147\n is_edge_active[7,6] + -1.0 v[6] + v[7] <= 2e+09\n(12)[7,8]: 1999999969.2599757 is_edge_active[7,8] + 1999999868.3639896\n is_edge_active[8,7] + v[7] + -1.0 v[8] <= 2e+09\n(12)[8,2]: 1999999845.8432977 is_edge_active[2,8] + 1999999968.546191\n is_edge_active[8,2] + -1.0 v[2] + v[8] <= 2e+09\n(12)[8,3]: 1999999906.9021144 is_edge_active[3,8] + 1999999973.3851948\n is_edge_active[8,3] + -1.0 v[3] + v[8] <= 2e+09\n(12)[8,4]: 1999999884.0632918 is_edge_active[4,8] + 1999999972.4261801\n is_edge_active[8,4] + -1.0 v[4] + v[8] <= 2e+09\n(12)[8,5]: 1999999875.0616517 is_edge_active[5,8] + 1999999954.38378\n is_edge_active[8,5] + -1.0 v[5] + v[8] <= 2e+09\n(12)[8,6]: 1999999833.756662 is_edge_active[6,8] + 1999999980.0987267\n is_edge_active[8,6] + -1.0 v[6] + v[8] <= 2e+09\n(12)[8,7]: 1999999868.3639896 is_edge_active[7,8] + 1999999969.2599757\n is_edge_active[8,7] + -1.0 v[7] + v[8] <= 2e+09\n  (13)[2]: -56.0357029044876 is_edge_active[0,2] + v[2] >= 0\n  (13)[3]: -23.08679276123039 is_edge_active[0,3] + v[3] >= 0\n  (13)[4]: -34.9857113690718 is_edge_active[0,4] + v[4] >= 0\n  (13)[5]: -48.507731342539614 is_edge_active[0,5] + v[5] >= 0\n  (13)[6]: -56.302753041036986 is_edge_active[0,6] + v[6] >= 0\n  (13)[7]: -44.41846462902562 is_edge_active[0,7] + v[7] >= 0\n  (13)[8]: -36.76955262170047 is_edge_active[0,8] + v[8] >= 0\n  (14)[2]: 1999999943.964297 is_edge_active[0,2] + v[2] + -1.0 BigTSlack <= 2e+09\n  (14)[3]: 1999999976.9132073 is_edge_active[0,3] + v[3] + -1.0 BigTSlack <= 2e+09\n  (14)[4]: 1999999965.0142887 is_edge_active[0,4] + v[4] + -1.0 BigTSlack <= 2e+09\n  (14)[5]: 1999999951.4922686 is_edge_active[0,5] + v[5] + -1.0 BigTSlack <= 2e+09\n  (14)[6]: 1999999943.697247 is_edge_active[0,6] + v[6] + -1.0 BigTSlack <= 2e+09\n  (14)[7]: 1999999955.5815353 is_edge_active[0,7] + v[7] + -1.0 BigTSlack <= 2e+09\n  (14)[8]: 1999999963.2304473 is_edge_active[0,8] + v[8] + -1.0 BigTSlack <= 2e+09\nBinaries\n['is_edge_active[0,0]', 'is_edge_active[0,1]', 'is_edge_active[0,2]',\n'is_edge_active[0,3]', 'is_edge_active[0,4]', 'is_edge_active[0,5]',\n'is_edge_active[0,6]', 'is_edge_active[0,7]', 'is_edge_active[0,8]',\n'is_edge_active[1,0]', 'is_edge_active[1,1]', 'is_edge_active[1,2]',\n'is_edge_active[1,3]', 'is_edge_active[1,4]', 'is_edge_active[1,5]',\n'is_edge_active[1,6]', 'is_edge_active[1,7]', 'is_edge_active[1,8]',\n'is_edge_active[2,0]', 'is_edge_active[2,1]', 'is_edge_active[2,2]',\n'is_edge_active[2,3]', 'is_edge_active[2,4]', 'is_edge_active[2,5]',\n'is_edge_active[2,6]', 'is_edge_active[2,7]', 'is_edge_active[2,8]',\n'is_edge_active[3,0]', 'is_edge_active[3,1]', 'is_edge_active[3,2]',\n'is_edge_active[3,3]', 'is_edge_active[3,4]', 'is_edge_active[3,5]',\n'is_edge_active[3,6]', 'is_edge_active[3,7]', 'is_edge_active[3,8]',\n'is_edge_active[4,0]', 'is_edge_active[4,1]', 'is_edge_active[4,2]',\n'is_edge_active[4,3]', 'is_edge_active[4,4]', 'is_edge_active[4,5]',\n'is_edge_active[4,6]', 'is_edge_active[4,7]', 'is_edge_active[4,8]',\n'is_edge_active[5,0]', 'is_edge_active[5,1]', 'is_edge_active[5,2]',\n'is_edge_active[5,3]', 'is_edge_active[5,4]', 'is_edge_active[5,5]',\n'is_edge_active[5,6]', 'is_edge_active[5,7]', 'is_edge_active[5,8]',\n'is_edge_active[6,0]', 'is_edge_active[6,1]', 'is_edge_active[6,2]',\n'is_edge_active[6,3]', 'is_edge_active[6,4]', 'is_edge_active[6,5]',\n'is_edge_active[6,6]', 'is_edge_active[6,7]', 'is_edge_active[6,8]',\n'is_edge_active[7,0]', 'is_edge_active[7,1]', 'is_edge_active[7,2]',\n'is_edge_active[7,3]', 'is_edge_active[7,4]', 'is_edge_active[7,5]',\n'is_edge_active[7,6]', 'is_edge_active[7,7]', 'is_edge_active[7,8]',\n'is_edge_active[8,0]', 'is_edge_active[8,1]', 'is_edge_active[8,2]',\n'is_edge_active[8,3]', 'is_edge_active[8,4]', 'is_edge_active[8,5]',\n 'is_edge_active[8,6]', 'is_edge_active[8,7]', 'is_edge_active[8,8]']\nGeneral Integers\n['u[2]', 'u[3]', 'u[4]', 'u[5]', 'u[6]', 'u[7]', 'u[8]', 'v[2]', 'v[3]', 'v[4]',\n 'v[5]', 'v[6]', 'v[7]', 'v[8]', 'BigTSlack']\n",
          "output_type": "stream"
        }
      ],
      "execution_count": 32,
      "block_group": "b9fa5037ea1e4774b9f3fc2b77a739a8"
    },
    {
      "cell_type": "code",
      "source": "model.optimize()",
      "metadata": {
        "source_hash": "84de7081",
        "execution_start": 1691095818077,
        "execution_millis": 1045,
        "deepnote_to_be_reexecuted": false,
        "cell_id": "2eaaf374c7d042a48ee935cd792aaf5e",
        "deepnote_cell_type": "code"
      },
      "outputs": [
        {
          "name": "stdout",
          "text": "Gurobi Optimizer version 10.0.2 build v10.0.2rc0 (linux64)\n\nCPU model: AMD EPYC 7R13 Processor, instruction set [SSE2|AVX|AVX2]\nThread count: 2 physical cores, 4 logical processors, using up to 4 threads\n\nOptimize a model with 135 rows, 96 columns and 525 nonzeros\nModel fingerprint: 0xc9866ccc\nVariable types: 0 continuous, 96 integer (81 binary)\nCoefficient statistics:\n  Matrix range     [1e+00, 2e+09]\n  Objective range  [1e+00, 6e+02]\n  Bounds range     [1e+00, 1e+00]\n  RHS range        [1e+00, 2e+09]\nWarning: Model contains large matrix coefficients\nWarning: Model contains large rhs\n         Consider reformulating model or setting NumericFocus parameter\n         to avoid numerical issues.\n\n---------------------------------------------------------------------------\nMulti-objectives: starting optimization with 3 objectives (1 combined) ...\n---------------------------------------------------------------------------\n---------------------------------------------------------------------------\n\nMulti-objectives: optimize objective 1 (weighted) ...\n---------------------------------------------------------------------------\n\nOptimize a model with 135 rows, 96 columns and 525 nonzeros\nModel fingerprint: 0x8dbf697b\nVariable types: 0 continuous, 96 integer (81 binary)\nCoefficient statistics:\n  Matrix range     [1e+00, 2e+09]\n  Objective range  [1e+00, 6e+02]\n  Bounds range     [1e+00, 1e+00]\n  RHS range        [1e+00, 2e+09]\nWarning: Model contains large matrix coefficients\nWarning: Model contains large rhs\n         Consider reformulating model or setting NumericFocus parameter\n         to avoid numerical issues.\nPresolve removed 15 rows and 32 columns\nPresolve time: 0.00s\nPresolved: 120 rows, 64 columns, 483 nonzeros\nVariable types: 0 continuous, 64 integer (49 binary)\n\nRoot relaxation: objective 1.190684e+03, 24 iterations, 0.00 seconds (0.00 work units)\n\n    Nodes    |    Current Node    |     Objective Bounds      |     Work\n Expl Unexpl |  Obj  Depth IntInf | Incumbent    BestBd   Gap | It/Node Time\n\n     0     0 1190.68373    0   19          - 1190.68373      -     -    0s\n     0     0 1190.77067    0   29          - 1190.77067      -     -    0s\n     0     0 1190.77067    0   29          - 1190.77067      -     -    0s\n     0     0 1228.32515    0   20          - 1228.32515      -     -    0s\n     0     0 1228.34473    0   27          - 1228.34473      -     -    0s\n     0     0 1228.36428    0   27          - 1228.36428      -     -    0s\n     0     0 1228.36428    0   27          - 1228.36428      -     -    0s\n     0     0 1228.36428    0   27          - 1228.36428      -     -    0s\n     0     2 1238.60443    0   27          - 1238.60443      -     -    0s\nH 4479   236                    2399.6465603 1324.49250  44.8%   0.4    0s\n* 4590   186              25    1934.7137955 1802.91386  6.81%   0.5    0s\n\nCutting planes:\n  Learned: 1\n  Gomory: 1\n  Implied bound: 6\n  Projected implied bound: 1\n  MIR: 6\n  Flow cover: 5\n  Mod-K: 1\n\nExplored 4621 nodes (12673 simplex iterations) in 0.91 seconds (0.27 work units)\nThread count was 4 (of 4 available processors)\n\nSolution count 2: 1934.71 2399.65 \nNo other solutions better than 1934.71\n\nOptimal solution found (tolerance 1.00e-04)\nBest objective 1.934713794512e+03, best bound 1.934713794512e+03, gap 0.0000%\n\n---------------------------------------------------------------------------\nMulti-objectives: solved in 0.92 seconds (0.27 work units), solution count 2\n\n",
          "output_type": "stream"
        }
      ],
      "execution_count": 33,
      "block_group": "2eaaf374c7d042a48ee935cd792aaf5e"
    },
    {
      "cell_type": "code",
      "source": "x",
      "metadata": {
        "source_hash": "577d5527",
        "execution_start": 1691095819812,
        "execution_millis": 115,
        "deepnote_to_be_reexecuted": false,
        "cell_id": "56dc6a4ead2444d788998bf3ced6f48a",
        "deepnote_cell_type": "code"
      },
      "outputs": [
        {
          "output_type": "execute_result",
          "execution_count": 34,
          "data": {
            "text/plain": "{(0, 0): <gurobi.Var is_edge_active[0,0] (value 0.0)>,\n (0, 1): <gurobi.Var is_edge_active[0,1] (value 0.0)>,\n (0, 2): <gurobi.Var is_edge_active[0,2] (value -0.0)>,\n (0, 3): <gurobi.Var is_edge_active[0,3] (value 1.0)>,\n (0, 4): <gurobi.Var is_edge_active[0,4] (value 1.0)>,\n (0, 5): <gurobi.Var is_edge_active[0,5] (value -0.0)>,\n (0, 6): <gurobi.Var is_edge_active[0,6] (value 0.9999999854921593)>,\n (0, 7): <gurobi.Var is_edge_active[0,7] (value 0.0)>,\n (0, 8): <gurobi.Var is_edge_active[0,8] (value 1.0)>,\n (1, 0): <gurobi.Var is_edge_active[1,0] (value 0.0)>,\n (1, 1): <gurobi.Var is_edge_active[1,1] (value 0.0)>,\n (1, 2): <gurobi.Var is_edge_active[1,2] (value 0.0)>,\n (1, 3): <gurobi.Var is_edge_active[1,3] (value 0.0)>,\n (1, 4): <gurobi.Var is_edge_active[1,4] (value 0.0)>,\n (1, 5): <gurobi.Var is_edge_active[1,5] (value 0.0)>,\n (1, 6): <gurobi.Var is_edge_active[1,6] (value 0.0)>,\n (1, 7): <gurobi.Var is_edge_active[1,7] (value 0.0)>,\n (1, 8): <gurobi.Var is_edge_active[1,8] (value 0.0)>,\n (2, 0): <gurobi.Var is_edge_active[2,0] (value 0.0)>,\n (2, 1): <gurobi.Var is_edge_active[2,1] (value 0.0)>,\n (2, 2): <gurobi.Var is_edge_active[2,2] (value 0.0)>,\n (2, 3): <gurobi.Var is_edge_active[2,3] (value -0.0)>,\n (2, 4): <gurobi.Var is_edge_active[2,4] (value -0.0)>,\n (2, 5): <gurobi.Var is_edge_active[2,5] (value 0.0)>,\n (2, 6): <gurobi.Var is_edge_active[2,6] (value 0.0)>,\n (2, 7): <gurobi.Var is_edge_active[2,7] (value 0.999999999979203)>,\n (2, 8): <gurobi.Var is_edge_active[2,8] (value -0.0)>,\n (3, 0): <gurobi.Var is_edge_active[3,0] (value 0.0)>,\n (3, 1): <gurobi.Var is_edge_active[3,1] (value 0.0)>,\n (3, 2): <gurobi.Var is_edge_active[3,2] (value -0.0)>,\n (3, 3): <gurobi.Var is_edge_active[3,3] (value 0.0)>,\n (3, 4): <gurobi.Var is_edge_active[3,4] (value 0.0)>,\n (3, 5): <gurobi.Var is_edge_active[3,5] (value 1.0)>,\n (3, 6): <gurobi.Var is_edge_active[3,6] (value 0.0)>,\n (3, 7): <gurobi.Var is_edge_active[3,7] (value -0.0)>,\n (3, 8): <gurobi.Var is_edge_active[3,8] (value -0.0)>,\n (4, 0): <gurobi.Var is_edge_active[4,0] (value 0.0)>,\n (4, 1): <gurobi.Var is_edge_active[4,1] (value 1.0)>,\n (4, 2): <gurobi.Var is_edge_active[4,2] (value -0.0)>,\n (4, 3): <gurobi.Var is_edge_active[4,3] (value -0.0)>,\n (4, 4): <gurobi.Var is_edge_active[4,4] (value 0.0)>,\n (4, 5): <gurobi.Var is_edge_active[4,5] (value -0.0)>,\n (4, 6): <gurobi.Var is_edge_active[4,6] (value -0.0)>,\n (4, 7): <gurobi.Var is_edge_active[4,7] (value -0.0)>,\n (4, 8): <gurobi.Var is_edge_active[4,8] (value -0.0)>,\n (5, 0): <gurobi.Var is_edge_active[5,0] (value 0.0)>,\n (5, 1): <gurobi.Var is_edge_active[5,1] (value 0.0)>,\n (5, 2): <gurobi.Var is_edge_active[5,2] (value 0.9999999854600633)>,\n (5, 3): <gurobi.Var is_edge_active[5,3] (value -0.0)>,\n (5, 4): <gurobi.Var is_edge_active[5,4] (value -0.0)>,\n (5, 5): <gurobi.Var is_edge_active[5,5] (value 0.0)>,\n (5, 6): <gurobi.Var is_edge_active[5,6] (value 1.3289936699087264e-08)>,\n (5, 7): <gurobi.Var is_edge_active[5,7] (value -0.0)>,\n (5, 8): <gurobi.Var is_edge_active[5,8] (value -0.0)>,\n (6, 0): <gurobi.Var is_edge_active[6,0] (value 0.0)>,\n (6, 1): <gurobi.Var is_edge_active[6,1] (value 1.0)>,\n (6, 2): <gurobi.Var is_edge_active[6,2] (value -0.0)>,\n (6, 3): <gurobi.Var is_edge_active[6,3] (value 0.0)>,\n (6, 4): <gurobi.Var is_edge_active[6,4] (value 0.0)>,\n (6, 5): <gurobi.Var is_edge_active[6,5] (value -0.0)>,\n (6, 6): <gurobi.Var is_edge_active[6,6] (value 0.0)>,\n (6, 7): <gurobi.Var is_edge_active[6,7] (value -0.0)>,\n (6, 8): <gurobi.Var is_edge_active[6,8] (value -0.0)>,\n (7, 0): <gurobi.Var is_edge_active[7,0] (value 0.0)>,\n (7, 1): <gurobi.Var is_edge_active[7,1] (value 1.0)>,\n (7, 2): <gurobi.Var is_edge_active[7,2] (value -0.0)>,\n (7, 3): <gurobi.Var is_edge_active[7,3] (value -0.0)>,\n (7, 4): <gurobi.Var is_edge_active[7,4] (value -0.0)>,\n (7, 5): <gurobi.Var is_edge_active[7,5] (value -0.0)>,\n (7, 6): <gurobi.Var is_edge_active[7,6] (value -0.0)>,\n (7, 7): <gurobi.Var is_edge_active[7,7] (value 0.0)>,\n (7, 8): <gurobi.Var is_edge_active[7,8] (value -0.0)>,\n (8, 0): <gurobi.Var is_edge_active[8,0] (value 0.0)>,\n (8, 1): <gurobi.Var is_edge_active[8,1] (value 0.9999999855410548)>,\n (8, 2): <gurobi.Var is_edge_active[8,2] (value 1.3289936699087264e-08)>,\n (8, 3): <gurobi.Var is_edge_active[8,3] (value -0.0)>,\n (8, 4): <gurobi.Var is_edge_active[8,4] (value -0.0)>,\n (8, 5): <gurobi.Var is_edge_active[8,5] (value -0.0)>,\n (8, 6): <gurobi.Var is_edge_active[8,6] (value -0.0)>,\n (8, 7): <gurobi.Var is_edge_active[8,7] (value -0.0)>,\n (8, 8): <gurobi.Var is_edge_active[8,8] (value 0.0)>}"
          },
          "metadata": {}
        }
      ],
      "execution_count": 34,
      "block_group": "56dc6a4ead2444d788998bf3ced6f48a"
    },
    {
      "cell_type": "code",
      "source": "# Plot the solution\n# From https://github.com/dholigum/cvrp-solver-gurobi/blob/master/CVRP-Gurobi.ipynb\n\n\n\narcs_dict = {}\nfor idx, arc in enumerate(x):\n    is_arc_active = x[arc].getAttr(GRB.Attr.X) >= 0.999\n    is_arc_start_at_zero = arc[0] == 0\n\n    if is_arc_start_at_zero and is_arc_active:\n        arcs_dict[idx] = [arc]\n\narcs_dict\n\n",
      "metadata": {
        "source_hash": "42864439",
        "execution_start": 1691095877857,
        "execution_millis": 9,
        "deepnote_to_be_reexecuted": false,
        "cell_id": "72699777c89f4b7990c8adbc6c564f37",
        "deepnote_cell_type": "code"
      },
      "outputs": [
        {
          "output_type": "execute_result",
          "execution_count": 36,
          "data": {
            "text/plain": "{3: [(0, 3)], 4: [(0, 4)], 6: [(0, 6)], 8: [(0, 8)]}"
          },
          "metadata": {}
        }
      ],
      "execution_count": 36,
      "block_group": "72699777c89f4b7990c8adbc6c564f37"
    },
    {
      "cell_type": "code",
      "source": "\nfor key in arcs_dict:\n    first_point = arcs_dict[key][0][0]\n    \n    for step in range(len(x)):\n        try:\n            next_point = arcs_dict[key][step][1]\n            for idx, arc in enumerate(x):\n                is_arc_active = x[arc].getAttr(GRB.Attr.X) >= 0.999\n                if (is_arc_active and next_point == arc[0] and next_point != first_point):\n                    arcs_dict[key].append(arc)\n\n        except IndexError:\n            pass\n\narcs_dict\n",
      "metadata": {
        "source_hash": "758f8fc2",
        "execution_start": 1691095884727,
        "execution_millis": 12,
        "deepnote_to_be_reexecuted": false,
        "cell_id": "8dd30622aeba411fb0580d78c15b6748",
        "deepnote_cell_type": "code"
      },
      "outputs": [
        {
          "output_type": "execute_result",
          "execution_count": 37,
          "data": {
            "text/plain": "{3: [(0, 3), (3, 5), (5, 2), (2, 7), (7, 1)],\n 4: [(0, 4), (4, 1)],\n 6: [(0, 6), (6, 1)],\n 8: [(0, 8), (8, 1)]}"
          },
          "metadata": {}
        }
      ],
      "execution_count": 37,
      "block_group": "8dd30622aeba411fb0580d78c15b6748"
    },
    {
      "cell_type": "code",
      "source": "# Add arrow to line\ndef add_arrow(line, position=None, direction='right', size=30, color=None):\n\n    if color is None:\n        color = line.get_color()\n\n    xdata = line.get_xdata()\n    ydata = line.get_ydata()\n\n    if position is None:\n        position = xdata.mean()\n    # find closest index\n    start_ind = np.argmin(np.absolute(xdata - position))\n    if direction == 'right':\n        end_ind = start_ind + 1\n    else:\n        end_ind = start_ind - 1\n\n    line.axes.annotate('',\n        xytext=(xdata[start_ind], ydata[start_ind]),\n        xy=(xdata[end_ind], ydata[end_ind]),\n        arrowprops=dict(arrowstyle=\"-|>\", color=color),\n        size=size\n    )",
      "metadata": {
        "source_hash": "ac434b81",
        "execution_start": 1691095889754,
        "execution_millis": 9,
        "deepnote_to_be_reexecuted": false,
        "cell_id": "9d5717624a904d3b998c78cab65f7938",
        "deepnote_cell_type": "code"
      },
      "outputs": [],
      "execution_count": 38,
      "block_group": "9d5717624a904d3b998c78cab65f7938"
    },
    {
      "cell_type": "code",
      "source": "def get_location_of_index(idx):\n    if idx == 0 or idx == 1:\n        return [50, 50]\n    x_coord = df['start_x'][idx - 2]\n    y_coord = df['start_y'][idx - 2]\n    return [x_coord, y_coord]\n\n",
      "metadata": {
        "source_hash": "7f668d28",
        "execution_start": 1691095890562,
        "execution_millis": 8,
        "deepnote_to_be_reexecuted": false,
        "cell_id": "04a1dfef6e934376915b3272c8093cb2",
        "deepnote_cell_type": "code"
      },
      "outputs": [],
      "execution_count": 39,
      "block_group": "04a1dfef6e934376915b3272c8093cb2"
    },
    {
      "cell_type": "code",
      "source": "import numpy as np\nimport matplotlib.pyplot as plt\n\nline_colors = ['r--', 'g--', 'b--', 'c--', 'm--', 'y--'] * 5\n\nplt.figure(figsize=(6, 6))\nfor key, value in arcs_dict.items():\n    for i, j in value:\n        [x1, y1] = get_location_of_index(i)\n        [x2, y2] = get_location_of_index(j)\n        \n        x = np.linspace(x1, x2, 100)\n        y = np.linspace(y1, y2, 100)\n        line = plt.plot(x, y, line_colors[key])[0]\n        add_arrow(line)\n\nplt.scatter(50, 50, c='k', marker='s', s=100)\nplt.text(50, 50, s=\"   School\")\nplt.scatter(df['start_x'], df['start_y'], c='k', s=[x*3 for x in list(df['student_num'])])\nplt.title(\"SBRP Solution Map\")",
      "metadata": {
        "source_hash": "cc8b246e",
        "execution_start": 1691096534020,
        "execution_millis": 36,
        "deepnote_to_be_reexecuted": false,
        "cell_id": "87749ea84aae443392769e49a4b0f494",
        "deepnote_cell_type": "code"
      },
      "outputs": [
        {
          "output_type": "execute_result",
          "execution_count": 44,
          "data": {
            "text/plain": "Text(0.5, 1.0, 'SBRP Solution Map')"
          },
          "metadata": {}
        },
        {
          "data": {
            "text/plain": "<Figure size 600x600 with 1 Axes>",
            "image/png": "[encoded data removed]"
          },
          "metadata": {
            "image/png": {
              "width": 521,
              "height": 528
            }
          },
          "output_type": "display_data"
        }
      ],
      "execution_count": 44,
      "block_group": "87749ea84aae443392769e49a4b0f494"
    },
    {
      "cell_type": "code",
      "source": "",
      "metadata": {
        "source_hash": "b623e53d",
        "execution_start": 1691093018603,
        "execution_millis": 2366,
        "deepnote_to_be_reexecuted": true,
        "cell_id": "f82fb7ed23a744b382eb12bf62aea459",
        "deepnote_cell_type": "code"
      },
      "outputs": [],
      "execution_count": null,
      "block_group": "f82fb7ed23a744b382eb12bf62aea459"
    },
    {
      "cell_type": "code",
      "source": "tslack",
      "metadata": {
        "source_hash": "d715c5b9",
        "execution_start": 1691096647847,
        "execution_millis": 18,
        "deepnote_to_be_reexecuted": false,
        "cell_id": "7ce6dc8fc5874d72bdc2f26437993ebf",
        "deepnote_cell_type": "code"
      },
      "outputs": [
        {
          "output_type": "execute_result",
          "execution_count": 45,
          "data": {
            "text/plain": "<gurobi.Var BigTSlack (value 1.0)>"
          },
          "metadata": {}
        }
      ],
      "execution_count": 45,
      "block_group": "7ce6dc8fc5874d72bdc2f26437993ebf"
    },
    {
      "cell_type": "code",
      "source": "model.write('model.mps')\nmodel.write('sol.mst')",
      "metadata": {
        "source_hash": "7732b6a3",
        "execution_start": 1691096649282,
        "execution_millis": 17,
        "deepnote_to_be_reexecuted": false,
        "cell_id": "95e17d66f4434bf987ad92b69acf8870",
        "deepnote_cell_type": "code"
      },
      "outputs": [
        {
          "name": "stdout",
          "text": "Warning: constraint name \"(2) leaveDepotKTimes\" has a space\nWarning: default constraint names used to write mps file\n",
          "output_type": "stream"
        }
      ],
      "execution_count": 46,
      "block_group": "95e17d66f4434bf987ad92b69acf8870"
    },
    {
      "cell_type": "code",
      "source": "for lmao in u:\n    print(u[lmao].getAttr(\"x\"))",
      "metadata": {
        "source_hash": "6ee77540",
        "execution_start": 1691093020995,
        "execution_millis": 25,
        "deepnote_to_be_reexecuted": true,
        "cell_id": "c34ba8e8697546b49c4bbefcacff4fd2",
        "deepnote_cell_type": "code"
      },
      "outputs": [],
      "execution_count": null,
      "block_group": "c34ba8e8697546b49c4bbefcacff4fd2"
    },
    {
      "cell_type": "code",
      "source": "\nmodel.close()",
      "metadata": {
        "source_hash": "10f8b6f1",
        "execution_start": 1691094465750,
        "execution_millis": 14,
        "deepnote_to_be_reexecuted": true,
        "cell_id": "025b6fcb3ff44b6b946f072b0f7c71a5",
        "deepnote_cell_type": "code"
      },
      "outputs": [],
      "execution_count": null,
      "block_group": "025b6fcb3ff44b6b946f072b0f7c71a5"
    },
    {
      "cell_type": "markdown",
      "source": "## Extension",
      "metadata": {
        "formattedRanges": [],
        "cell_id": "923c32f55506476db1d95935f1094143",
        "deepnote_cell_type": "text-cell-h2"
      },
      "block_group": "923c32f55506476db1d95935f1094143"
    },
    {
      "cell_type": "code",
      "source": "import gurobipy as gp\nfrom gurobipy import GRB\n\ntry:\n    if model:\n        model.close()\nexcept:\n    pass\n\nmodel = gp.Model(name=\"SBRP\")\nmodel.modelSense = GRB.MINIMIZE\nmodel.update()\n\n\nI = list(range(2, len(distances)))\nJ = list(range(2, len(distances)))\n# k = len(vehicles_df) # Number of buses active, assume capacity of 70\nk = 7\n\n\n# Cost to travel 1 unit of distance\ncost_per_unit = 5\ncij = distances * cost_per_unit \nd = distances\n\nBigQ = 70 #  vehicle capacity\nq = [0,0, *df['student_num'].values] # demand at node i\n# q += [0] * (len(all_coords) -  len(q))\n\nBigT = 20000 # Max Time/Distance\n\n##################################################\n########## DECISION VARIABLES ###################\n##################################################\nx = model.addVars([0,1, *I], [0,1, *J], lb=0.0, vtype=GRB.BINARY, name=\"is_edge_active\")\nu = model.addVars(I, lb=0.0, vtype=GRB.INTEGER, name=\"u\") # number of students leaving node I\nv = model.addVars(I, lb=0.0, vtype=GRB.INTEGER, name=\"v\") # total distance traveled to reach node i\n\ntslack = model.addVar(lb=0.0, vtype=GRB.INTEGER, name=\"BigTSlack\")\n\n##################################################\n#################### GOALS #######################\n##################################################\nnum_nodes = list(range(len(distances)))\n\nmodel.setObjectiveN(gp.quicksum(cij[i][j] * x[(i, j)] for i in num_nodes for j in num_nodes), 1, name=\"Cost\" )\n\nmodel.setObjectiveN(tslack, 2, name=\"TSlack\" )\n\n\n##################################################\n################# CONSTRAINTS ####################\n##################################################\nmodel.addConstr((x.sum(0, [*I]) <= k ) , name=\"(2) leaveDepotKTimes\")\nmodel.addConstr((x.sum([*I], 0) <= k ) , name=\"(3) enterDepotKTimes\")\n# list_I = list(range(1,15))\n# Only leave each node once\nmodel.addConstrs((gp.quicksum(x[(i,j)] for j in [1, *J]) == 1 for i in I), name=\"(4) leaveNodeOnce\")\n# Only enter each node once\nmodel.addConstrs((gp.quicksum(x[(i,j)] for i in [0, *I]) == 1 for j in J), name=\"(5) enterNodeOnce\")\n\nmodel.addConstrs((x[(i, i)] == 0  for i in I), name=\"(lol) NoSelfConnect\")\n\n# In the paper, contraints 6-8 are not used\nmodel.addConstrs((BigQ * x[(i, j)] + (BigQ - q[i] - q[j]) * x[(j, i)] + u[i] - u[j] <= BigQ - q[j] for i in I for j in J if i != j), name='(9) subtourConstr1')\nmodel.addConstrs(((u[i] >= q[i]) for i in I), name='(10) subtourConstr2')\nmodel.addConstrs(((u[i] - q[i] * x[(0, i)] + BigQ * x[(0, i)] <= BigQ) for i in I), name='(11) subtourConstr3')\n\nmodel.addConstrs(((BigT - d[i][1]  - d[0][j]  + d[i][j]) * x[(i,j)] + (BigT - d[i][1] - d[0][j] - d[j][i]) * x[(j,i)] + v[i] - v[j]  <= BigT - d[i][1] - d[0][j] for i in I for j in J if i != j ), name=\"(12)\" )\nmodel.addConstrs(((v[i] - d[0][i] * x[(0, i)] >= 0) for i in I), name=\"(13)\" )\nmodel.addConstrs(((v[i] - d[0][i] * x[(0, i)] + BigT * x[(0, i)] <= BigT + tslack) for i in I), name=\"(14)\")\n\nmodel.update()\nmodel.display()\n",
      "metadata": {
        "source_hash": "c7386751",
        "execution_start": 1691093021004,
        "execution_millis": 686,
        "deepnote_table_state": {
          "sortBy": [],
          "filters": [],
          "pageSize": 100,
          "pageIndex": 0
        },
        "deepnote_table_loading": false,
        "deepnote_to_be_reexecuted": true,
        "cell_id": "9c9297b77d534ed08855cd95b3d6d614",
        "deepnote_cell_type": "code"
      },
      "outputs": [],
      "execution_count": null,
      "block_group": "9c9297b77d534ed08855cd95b3d6d614"
    },
    {
      "cell_type": "code",
      "source": "\nq",
      "metadata": {
        "source_hash": "81c44c30",
        "execution_start": 1691093021520,
        "execution_millis": 11,
        "deepnote_to_be_reexecuted": true,
        "cell_id": "7e3849e4aab9440f83747c30b2dca518",
        "deepnote_cell_type": "code"
      },
      "outputs": [],
      "execution_count": null,
      "block_group": "7e3849e4aab9440f83747c30b2dca518"
    },
    {
      "cell_type": "code",
      "source": "# import gurobipy as gp\n# from gurobipy import GRB\n\n\n\n# model = gp.Model(name=\"SBRP\")\n# model.modelSense = GRB.MINIMIZE\n# model.update()\n\n\n# I = range(len(distances))\n# J = range(len(distances))\n# k = len(vehicles_df) # Number of buses active, assume capacity of 70\n\n\n# # Cost to travel 1 unit of distance\n# cost_per_unit = 5\n# cij = distances * cost_per_unit \n\n# BigQ = 70 #  vehicle capacity\n# q = [0,*df['student_num'].values] # demand at node i\n# q += [0] * (len(all_coords) -  len(q))\n\n# BigT = 123 # Max Time/Distance\n# v = model.addVars(I, lb=0.0, vtype=GRB.INTEGER, name=\"v\") # distance traveled by node i\n\n\n\n# ##################################################\n# ########## DECISION VARIABLES ###################\n# ##################################################\n# x = model.addVars(I, J, lb=0.0, vtype=GRB.BINARY, name=\"is_edge_active\")\n# u = model.addVars(I, lb=0.0, vtype=GRB.INTEGER, name=\"totalStudentsLeavingNodeI\")\n\n# ##################################################\n# #################### GOALS #######################\n# ##################################################\n# # preempt with demand goal\n# # model.setObjectiveN(slacks_demand_neg.sum(\"*\", \"*\"), 0, 2,   name=\"demand_goal_term\") # goal to minimize deviation from demand goal\n\n# # # Profit, number of delivery goal\n# # model.setObjectiveN(slack_profit_neg, 1, priority=1, weight=3, name=\"profit_goal_term\") # goal to minimize deviation from profit goal with high priority\n# # model.setObjectiveN(slacks_delivery_neg.sum(\"*\"), 2, priority=1, weight=2, name=\"delivery_goal_term\") # goal to minimize deviation from delivery goal with high priority but lower weight\n\n\n\n\n# ##################################################\n# ################# CONSTRAINTS ####################\n# ##################################################\n# model.addConstr((x.sum(0, '*') <= k ) , name=\"(2) leaveDepotKTimes\")\n# model.addConstr((x.sum('*', 0) <= k ) , name=\"(3) enterDepotKTimes\")\n\n# # Only leave each node once\n# model.addConstrs((x.sum(i, '*') == 1 for i in I), name=\"(4) leaveNodeOnce\")\n# # Only enter each node once\n# model.addConstrs((x.sum('*', j) == 1 for j in J), name=\"(5) enterNodeOnce\")\n\n# model.addConstrs((u[i] - u[j] + BigQ * x[(i, j)] + (BigQ - q[i] - q[j]) * x[(j, i)] for i in I for j in J if i != J), name='(9)')\n# # model.addConstrs(() name='(10)')\n# # model.addConstrs(() name='(11)')\n\n\n\n\n# model.update()\n\n# print(model.display())\n\n\n\n\n\n\n",
      "metadata": {
        "source_hash": "4b7caee3",
        "execution_start": 1691093021578,
        "execution_millis": 48,
        "deepnote_to_be_reexecuted": true,
        "cell_id": "75528d5c130f470e83cdeff2cf9e51ab",
        "deepnote_cell_type": "code"
      },
      "outputs": [],
      "execution_count": null,
      "block_group": "75528d5c130f470e83cdeff2cf9e51ab"
    },
    {
      "cell_type": "code",
      "source": "x[(0, 0)]",
      "metadata": {
        "source_hash": "8525ae59",
        "execution_start": 1691093021596,
        "execution_millis": 123,
        "deepnote_to_be_reexecuted": true,
        "cell_id": "57e478b9b89c45d294aa7cdc29555123",
        "deepnote_cell_type": "code"
      },
      "outputs": [],
      "execution_count": null,
      "block_group": "57e478b9b89c45d294aa7cdc29555123"
    },
    {
      "cell_type": "code",
      "source": "\n#!/usr/bin/env python3\n# This Python file uses the following encoding: utf-8\n# Copyright 2015 Tin Arm Engineering AB\n# Copyright 2018 Google LLC\n# Licensed under the Apache License, Version 2.0 (the \"License\");\n# you may not use this file except in compliance with the License.\n# You may obtain a copy of the License at\n#\n#     http://www.apache.org/licenses/LICENSE-2.0\n#\n# Unless required by applicable law or agreed to in writing, software\n# distributed under the License is distributed on an \"AS IS\" BASIS,\n# WITHOUT WARRANTIES OR CONDITIONS OF ANY KIND, either express or implied.\n# See the License for the specific language governing permissions and\n# limitations under the License.\n# [START program]\n\"\"\"Capacitated Vehicle Routing Problem with Time Windows (CVRPTW).\n\n   This is a sample using the routing library python wrapper to solve a CVRPTW\n   problem.\n   A description of the problem can be found here:\n   http://en.wikipedia.org/wiki/Vehicle_routing_problem.\n\n   Distances are in meters and time in minutes.\n\"\"\"\n\n# [START import]\nfrom functools import partial\nfrom ortools.constraint_solver import routing_enums_pb2\nfrom ortools.constraint_solver import pywrapcp\nimport math\n# [END import]\n\n\n\nfrom collections import namedtuple\n\nPoint = namedtuple('Point', ['x', 'y'])\nTimeWindow = namedtuple('TimeWindow', ['school_tw_st', 'school_tw_end'])\nVehicle = namedtuple('Vehicle', ['id', 'depot_x', 'depot_y', 'capacity'])",
      "metadata": {
        "source_hash": "2b88c6a1",
        "execution_start": 1691093021597,
        "execution_millis": 16,
        "deepnote_to_be_reexecuted": true,
        "cell_id": "51f754e1f2c142d1bc6fddc651f11d9d",
        "deepnote_cell_type": "code"
      },
      "outputs": [],
      "execution_count": null,
      "block_group": "51f754e1f2c142d1bc6fddc651f11d9d"
    },
    {
      "cell_type": "code",
      "source": "import math",
      "metadata": {
        "source_hash": "ff143fe",
        "execution_start": 1691093021597,
        "execution_millis": 17,
        "deepnote_to_be_reexecuted": true,
        "cell_id": "39d6b642bad34fe8be2642f6c2e1a015",
        "deepnote_cell_type": "code"
      },
      "outputs": [],
      "execution_count": null,
      "block_group": "39d6b642bad34fe8be2642f6c2e1a015"
    },
    {
      "cell_type": "code",
      "source": "# [START data_model]\ndef create_data_model():\n    \"\"\"Stores the data for the problem.\"\"\"\n    data = {}\n\n    # Depot at 50, 50\n    data['locations'] =  \\\n        [Point(x=50, y=50)] + \\\n        list(df[['start_x', 'start_y']]\n        .rename(columns={'start_x': 'x', 'start_y': 'y'})\n        .itertuples(index=False,name='Point'))\n\n    data['num_locations'] = len(data['locations'])\n\n    data['school_dest'] = \\\n        [Point(x=50, y=50)] + \\\n        list(df[['school_x', 'school_y']] \\\n            .rename(columns={'school_x': 'x', 'school_y': 'y'}) \\\n            .itertuples(index=False,name='Point'))\n\n    # (start_tw, end_tw)\n    data['time_windows'] = \\\n        [TimeWindow(school_tw_st=0, school_tw_end=0)] + \\\n        list(df[['school_tw_st', 'school_tw_end']].itertuples(index=False,name='TimeWindow'))\n  \n    data['service_duration'] = \\\n        [0] + \\\n        list(df['service_duration'])\n\n    data['student_num'] = \\\n        [0] + \\\n        list(df['student_num'])\n\n    data['vehicles'] = \\\n        list(vehicles_df.itertuples(index=False, name=\"Vehicle\"))\n\n    data['vehicle_capacities'] = \\\n        list(vehicles_df['capacity'])\n\n    data['depot'] = 0 # Index of depot\n\n    return data\n    # [END data_model]\n\ncreate_data_model()",
      "metadata": {
        "source_hash": "9faaa199",
        "execution_start": 1691093021598,
        "execution_millis": 20,
        "deepnote_to_be_reexecuted": true,
        "cell_id": "24287cbd765f46959620ed2c3442f950",
        "deepnote_cell_type": "code"
      },
      "outputs": [],
      "execution_count": null,
      "block_group": "24287cbd765f46959620ed2c3442f950"
    },
    {
      "cell_type": "code",
      "source": "\n# #######################\n# # Problem Constraints #\n# #######################\n\n\n# def create_distance_evaluator(data):\n#     \"\"\"Creates callback to return distance between points.\"\"\"\n#     _distances = {}\n#     # precompute distance between location to have distance callback in O(1)\n#     for from_node in range(data['num_locations']):\n#         _distances[from_node] = {}\n#         for to_node in range(data['num_locations']):\n#             if from_node == to_node:\n#                 _distances[from_node][to_node] = 0\n#             else:\n#                 _distances[from_node][to_node] = (math.hypot(\n#                     data['locations'][from_node], data['locations'][to_node]))\n\n#     def distance_evaluator(manager, from_node, to_node):\n#         \"\"\"Returns the euclidian distance between the two nodes\"\"\"\n#         return _distances[manager.IndexToNode(from_node)][manager.IndexToNode(\n#             to_node)]\n\n#     return distance_evaluator\n\n\n# def create_student_num_evaluator(data):\n#     _student_nums = data['student_num']\n\n#     def student_num_evaluator(manager, node):\n#         \"\"\"Returns number of students to be picke dup at the current node\"\"\"\n#         return _student_nums[manager.IndexToNode(node)]\n    \n#     return student_num_evaluator\n\n\n# def add_capacity_constraints(routing, data, demand_evaluator_index):\n#     \"\"\"Adds capacity constraint\"\"\"\n#     capacity = 'Capacity'\n#     routing.AddDimension(\n#         demand_evaluator_index,\n#         0,  # null capacity slack\n#         data['vehicle_capacity'],\n#         True,  # start cumul to zero\n#         capacity)\n\n\n# def create_time_evaluator(data):\n#     \"\"\"Creates callback to get total times between locations.\"\"\"\n\n#     def service_time(data, node):\n#         \"\"\"Gets the service time for the specified location.\"\"\"\n#         return data['demands'][node] * data['time_per_demand_unit']\n\n#     def travel_time(data, from_node, to_node):\n#         \"\"\"Gets the travel times between two locations.\"\"\"\n#         if from_node == to_node:\n#             travel_time = 0\n#         else:\n#             travel_time = manhattan_distance(data['locations'][from_node], data[\n#                 'locations'][to_node]) / data['vehicle_speed']\n#         return travel_time\n\n#     _total_time = {}\n#     # precompute total time to have time callback in O(1)\n#     for from_node in range(data['num_locations']):\n#         _total_time[from_node] = {}\n#         for to_node in range(data['num_locations']):\n#             if from_node == to_node:\n#                 _total_time[from_node][to_node] = 0\n#             else:\n#                 _total_time[from_node][to_node] = int(\n#                     service_time(data, from_node) + travel_time(\n#                         data, from_node, to_node))\n\n#     def time_evaluator(manager, from_node, to_node):\n#         \"\"\"Returns the total time between the two nodes\"\"\"\n#         return _total_time[manager.IndexToNode(from_node)][manager.IndexToNode(\n#             to_node)]\n\n#     return time_evaluator\n\n\n# def add_time_window_constraints(routing, manager, data, time_evaluator_index):\n#     \"\"\"Add Global Span constraint\"\"\"\n#     time = 'Time'\n#     horizon = 120\n#     routing.AddDimension(\n#         time_evaluator_index,\n#         horizon,  # allow waiting time\n#         horizon,  # maximum time per vehicle\n#         False,  # don't force start cumul to zero since we are giving TW to start nodes\n#         time)\n#     time_dimension = routing.GetDimensionOrDie(time)\n#     # Add time window constraints for each location except depot\n#     # and 'copy' the slack var in the solution object (aka Assignment) to print it\n#     for location_idx, time_window in enumerate(data['time_windows']):\n#         if location_idx == 0:\n#             continue\n#         index = manager.NodeToIndex(location_idx)\n#         time_dimension.CumulVar(index).SetRange(time_window[0], time_window[1])\n#         routing.AddToAssignment(time_dimension.SlackVar(index))\n#     # Add time window constraints for each vehicle start node\n#     # and 'copy' the slack var in the solution object (aka Assignment) to print it\n#     for vehicle_id in range(data['num_vehicles']):\n#         index = routing.Start(vehicle_id)\n#         time_dimension.CumulVar(index).SetRange(data['time_windows'][0][0],\n#                                                 data['time_windows'][0][1])\n#         routing.AddToAssignment(time_dimension.SlackVar(index))\n#         # Warning: Slack var is not defined for vehicle's end node\n#         #routing.AddToAssignment(time_dimension.SlackVar(self.routing.End(vehicle_id)))\n\n# def add_school_set)destination_constraints(routing, manager, time):\n#     school_set = 'School_Set'\n#     routing.add\n",
      "metadata": {
        "source_hash": "f169de78",
        "execution_start": 1691093021600,
        "execution_millis": 19,
        "deepnote_to_be_reexecuted": true,
        "cell_id": "9cb3480662e9482a98f205478359e7df",
        "deepnote_cell_type": "code"
      },
      "outputs": [],
      "execution_count": null,
      "block_group": "9cb3480662e9482a98f205478359e7df"
    },
    {
      "cell_type": "code",
      "source": "# [START solution_printer]\ndef print_solution(manager, routing, assignment):  # pylint:disable=too-many-locals\n    \"\"\"Prints assignment on console\"\"\"\n    print(f'Objective: {assignment.ObjectiveValue()}')\n    time_dimension = routing.GetDimensionOrDie('Time')\n    capacity_dimension = routing.GetDimensionOrDie('Capacity')\n    total_distance = 0\n    total_load = 0\n    total_time = 0\n    for vehicle_id in range(manager.GetNumberOfVehicles()):\n        index = routing.Start(vehicle_id)\n        plan_output = 'Route for vehicle {}:\\n'.format(vehicle_id)\n        distance = 0\n        while not routing.IsEnd(index):\n            load_var = capacity_dimension.CumulVar(index)\n            time_var = time_dimension.CumulVar(index)\n            slack_var = time_dimension.SlackVar(index)\n            plan_output += ' {0} Load({1}) Time({2},{3}) Slack({4},{5}) ->'.format(\n                manager.IndexToNode(index),\n                assignment.Value(load_var),\n                assignment.Min(time_var),\n                assignment.Max(time_var),\n                assignment.Min(slack_var), assignment.Max(slack_var))\n            previous_index = index\n            index = assignment.Value(routing.NextVar(index))\n            distance += routing.GetArcCostForVehicle(previous_index, index,\n                                                     vehicle_id)\n        load_var = capacity_dimension.CumulVar(index)\n        time_var = time_dimension.CumulVar(index)\n        slack_var = time_dimension.SlackVar(index)\n        plan_output += ' {0} Load({1}) Time({2},{3})\\n'.format(\n            manager.IndexToNode(index),\n            assignment.Value(load_var),\n            assignment.Min(time_var), assignment.Max(time_var))\n        plan_output += 'Distance of the route: {0}m\\n'.format(distance)\n        plan_output += 'Load of the route: {}\\n'.format(\n            assignment.Value(load_var))\n        plan_output += 'Time of the route: {}\\n'.format(\n            assignment.Value(time_var))\n        print(plan_output)\n        total_distance += distance\n        total_load += assignment.Value(load_var)\n        total_time += assignment.Value(time_var)\n    print('Total Distance of all routes: {0}m'.format(total_distance))\n    print('Total Load of all routes: {}'.format(total_load))\n    print('Total Time of all routes: {0}min'.format(total_time))\n    # [END solution_printer]",
      "metadata": {
        "source_hash": "9b4b9fc9",
        "execution_start": 1691093021601,
        "execution_millis": 23,
        "deepnote_to_be_reexecuted": true,
        "cell_id": "8c75f88429674abe883e509cb79097a8",
        "deepnote_cell_type": "code"
      },
      "outputs": [],
      "execution_count": null,
      "block_group": "8c75f88429674abe883e509cb79097a8"
    },
    {
      "cell_type": "code",
      "source": "\ndef main():\n    \"\"\"Solve the Capacitated VRP with time windows.\"\"\"\n    # Instantiate the data problem.\n    # [START data]\n    data = create_data_model()\n    # [END data]\n\n    # Create the routing index manager.\n    # [START index_manager]\n    manager = pywrapcp.RoutingIndexManager(data['num_locations'],\n                                           data['num_vehicles'], data['depot'])\n    # [END index_manager]\n\n    # Create Routing Model.\n    # [START routing_model]\n    routing = pywrapcp.RoutingModel(manager)\n    # [END routing_model]\n\n    # Define weight of each edge.\n    # [START transit_callback]\n    distance_evaluator_index = routing.RegisterTransitCallback(\n        partial(create_distance_evaluator(data), manager))\n    # [END transit_callback]\n\n    # Define cost of each arc.\n    # [START arc_cost]\n    routing.SetArcCostEvaluatorOfAllVehicles(distance_evaluator_index)\n    # [END arc_cost]\n\n    # Add Capacity constraint.\n    # [START capacity_constraint]\n    demand_evaluator_index = routing.RegisterUnaryTransitCallback(\n        partial(create_demand_evaluator(data), manager))\n    add_capacity_constraints(routing, data, demand_evaluator_index)\n    # [END capacity_constraint]\n\n    # Add Time Window constraint.\n    # [START time_constraint]\n    time_evaluator_index = routing.RegisterTransitCallback(\n        partial(create_time_evaluator(data), manager))\n    add_time_window_constraints(routing, manager, data, time_evaluator_index)\n    # [END time_constraint]\n\n    # Setting first solution heuristic (cheapest addition).\n    # [START parameters]\n    search_parameters = pywrapcp.DefaultRoutingSearchParameters()\n    search_parameters.first_solution_strategy = (\n        routing_enums_pb2.FirstSolutionStrategy.PATH_CHEAPEST_ARC)\n    search_parameters.local_search_metaheuristic = (\n        routing_enums_pb2.LocalSearchMetaheuristic.GUIDED_LOCAL_SEARCH)\n    search_parameters.time_limit.FromSeconds(30)\n    search_parameters.log_search = True\n    # [END parameters]\n\n    # Solve the problem.\n    # [START solve]\n    solution = routing.SolveWithParameters(search_parameters)\n    # [END solve]\n\n    # Print solution on console.\n    # [START print_solution]\n    if solution:\n        print_solution(manager, routing, solution)\n    else:\n        print('No solution found!')\n    # [END print_solution]\n\n\nif __name__ == '__main__':\n    main()\n# [END program]",
      "metadata": {
        "source_hash": "9f52f873",
        "execution_start": 1691093021617,
        "execution_millis": 945,
        "deepnote_to_be_reexecuted": true,
        "cell_id": "0e94adbc9c304a099eb9c4836e9881ce",
        "deepnote_cell_type": "code"
      },
      "outputs": [],
      "execution_count": null,
      "block_group": "0e94adbc9c304a099eb9c4836e9881ce"
    },
    {
      "cell_type": "code",
      "source": "",
      "metadata": {
        "source_hash": "b623e53d",
        "execution_start": 1690289264182,
        "execution_millis": 13,
        "deepnote_to_be_reexecuted": true,
        "cell_id": "4f947d5128ec4b1690d3a329b3089e58",
        "deepnote_cell_type": "code"
      },
      "outputs": [],
      "execution_count": 0,
      "block_group": "4f947d5128ec4b1690d3a329b3089e58"
    },
    {
      "cell_type": "code",
      "source": "",
      "metadata": {
        "source_hash": "b623e53d",
        "execution_start": 1690289264192,
        "execution_millis": 14,
        "deepnote_to_be_reexecuted": true,
        "cell_id": "047e6f9bac804ef695fdc69a2eff893c",
        "deepnote_cell_type": "code"
      },
      "outputs": [],
      "execution_count": null,
      "block_group": "047e6f9bac804ef695fdc69a2eff893c"
    },
    {
      "cell_type": "markdown",
      "source": "<a style='text-decoration:none;line-height:16px;display:flex;color:#5B5B62;padding:10px;justify-content:end;' href='https://deepnote.com?utm_source=created-in-deepnote-cell&projectId=cc890abb-2b7d-4315-906c-6acecf25218a' target=\"_blank\">\n<img alt='Created in deepnote.com' style='display:inline;max-height:16px;margin:0px;margin-right:7.5px;' src='data:image/svg+xml;base64,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' > </img>\nCreated in <span style='font-weight:600;margin-left:4px;'>Deepnote</span></a>",
      "metadata": {
        "created_in_deepnote_cell": true,
        "deepnote_cell_type": "markdown"
      }
    }
  ],
  "nbformat": 4,
  "nbformat_minor": 0,
  "metadata": {
    "deepnote": {},
    "orig_nbformat": 2,
    "deepnote_full_width": false,
    "deepnote_notebook_id": "2a03a77625684f07b40ec1c2c56c9d54",
    "deepnote_execution_queue": []
  }
}