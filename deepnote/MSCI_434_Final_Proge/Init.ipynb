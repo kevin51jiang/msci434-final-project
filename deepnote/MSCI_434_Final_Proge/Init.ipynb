{
  "cells": [
    {
      "cell_type": "markdown",
      "source": "## Initialization Notebook\nThis is your initialization notebook.\n\n**What's this for?**\n\nYou can put custom code you want us to run every time we setup your environment in here. \n\n**Awesome! Anything I should not put in here?**\n\nPlease don't install `jupyter` or `jedi` packages, they would break your Deepnote environment. Also, no need to put `!pip install`s here, we already save those automatically!\n\n**I want to learn more!**\n\nGreat! Just [head over to our docs](https://deepnote.com/docs/custom-initialization).",
      "metadata": {
        "cell_id": "f40568f413644f509662b1e0e5a4cc57",
        "deepnote_cell_type": "markdown"
      },
      "block_group": "f40568f413644f509662b1e0e5a4cc57"
    },
    {
      "cell_type": "code",
      "source": "%%bash\n# If your project has a 'requirements.txt' file, we'll install it here apart from blacklisted packages that interfere with Deepnote (see above).\nif test -f requirements.txt\n  then\n    sed -i '/jedi/d;/jupyter/d;' ./requirements.txt\n    pip install -r ./requirements.txt\n  else echo \"There's no requirements.txt, so nothing to install. This is the case with most projects.\"\nfi",
      "metadata": {
        "source_hash": "60b37886",
        "execution_start": 1691104860344,
        "execution_millis": 9690,
        "deepnote_to_be_reexecuted": false,
        "cell_id": "c7be33dcca8c41308cd8a3ab076e5457",
        "deepnote_cell_type": "code"
      },
      "outputs": [
        {
          "name": "stdout",
          "text": "Collecting ortools\n  Downloading ortools-9.6.2534-cp310-cp310-manylinux_2_17_x86_64.manylinux2014_x86_64.whl (16.4 MB)\n     ━━━━━━━━━━━━━━━━━━━━━━━━━━━━━━━━━━━━━━━━ 16.4/16.4 MB 67.2 MB/s eta 0:00:00\nRequirement already satisfied: numpy in /shared-libs/python3.10/py/lib/python3.10/site-packages (from -r ./requirements.txt (line 2)) (1.23.4)\nRequirement already satisfied: pandas in /shared-libs/python3.10/py/lib/python3.10/site-packages (from -r ./requirements.txt (line 3)) (1.2.5)\nRequirement already satisfied: gurobipy in /usr/local/lib/python3.10/site-packages (from -r ./requirements.txt (line 4)) (10.0.2)\nRequirement already satisfied: matplotlib in /shared-libs/python3.10/py/lib/python3.10/site-packages (from -r ./requirements.txt (line 5)) (3.6.0)\nCollecting protobuf>=4.21.12\n  Downloading protobuf-4.23.4-cp37-abi3-manylinux2014_x86_64.whl (304 kB)\n     ━━━━━━━━━━━━━━━━━━━━━━━━━━━━━━━━━━━━━━ 304.5/304.5 kB 10.0 MB/s eta 0:00:00\nCollecting scipy>=1.10.0\n  Downloading scipy-1.11.1-cp310-cp310-manylinux_2_17_x86_64.manylinux2014_x86_64.whl (36.3 MB)\n     ━━━━━━━━━━━━━━━━━━━━━━━━━━━━━━━━━━━━━━━━ 36.3/36.3 MB 49.7 MB/s eta 0:00:00\nRequirement already satisfied: absl-py>=0.13 in /shared-libs/python3.10/py/lib/python3.10/site-packages (from ortools->-r ./requirements.txt (line 1)) (1.3.0)\nRequirement already satisfied: python-dateutil>=2.7.3 in /shared-libs/python3.10/py-core/lib/python3.10/site-packages (from pandas->-r ./requirements.txt (line 3)) (2.8.2)\nRequirement already satisfied: pytz>=2017.3 in /shared-libs/python3.10/py/lib/python3.10/site-packages (from pandas->-r ./requirements.txt (line 3)) (2022.5)\nRequirement already satisfied: fonttools>=4.22.0 in /shared-libs/python3.10/py/lib/python3.10/site-packages (from matplotlib->-r ./requirements.txt (line 5)) (4.37.4)\nRequirement already satisfied: cycler>=0.10 in /shared-libs/python3.10/py/lib/python3.10/site-packages (from matplotlib->-r ./requirements.txt (line 5)) (0.11.0)\nRequirement already satisfied: kiwisolver>=1.0.1 in /shared-libs/python3.10/py/lib/python3.10/site-packages (from matplotlib->-r ./requirements.txt (line 5)) (1.4.4)\nRequirement already satisfied: packaging>=20.0 in /shared-libs/python3.10/py-core/lib/python3.10/site-packages (from matplotlib->-r ./requirements.txt (line 5)) (21.3)\nRequirement already satisfied: pillow>=6.2.0 in /shared-libs/python3.10/py/lib/python3.10/site-packages (from matplotlib->-r ./requirements.txt (line 5)) (9.2.0)\nRequirement already satisfied: pyparsing>=2.2.1 in /shared-libs/python3.10/py-core/lib/python3.10/site-packages (from matplotlib->-r ./requirements.txt (line 5)) (3.0.9)\nRequirement already satisfied: contourpy>=1.0.1 in /shared-libs/python3.10/py/lib/python3.10/site-packages (from matplotlib->-r ./requirements.txt (line 5)) (1.0.5)\nRequirement already satisfied: six>=1.5 in /shared-libs/python3.10/py-core/lib/python3.10/site-packages (from python-dateutil>=2.7.3->pandas->-r ./requirements.txt (line 3)) (1.16.0)\nInstalling collected packages: scipy, protobuf, ortools\n  Attempting uninstall: scipy\n    Found existing installation: scipy 1.9.3\n    Not uninstalling scipy at /shared-libs/python3.10/py/lib/python3.10/site-packages, outside environment /root/venv\n    Can't uninstall 'scipy'. No files were found to uninstall.\n  Attempting uninstall: protobuf\n    Found existing installation: protobuf 3.19.6\n    Not uninstalling protobuf at /shared-libs/python3.10/py/lib/python3.10/site-packages, outside environment /root/venv\n    Can't uninstall 'protobuf'. No files were found to uninstall.\nERROR: pip's dependency resolver does not currently take into account all the packages that are installed. This behaviour is the source of the following dependency conflicts.\ntensorflow 2.10.0 requires protobuf<3.20,>=3.9.2, but you have protobuf 4.23.4 which is incompatible.\ntensorboard 2.10.1 requires protobuf<3.20,>=3.9.2, but you have protobuf 4.23.4 which is incompatible.\ngoogle-cloud-spanner 3.36.0 requires sqlparse>=0.4.4, but you have sqlparse 0.4.3 which is incompatible.\nSuccessfully installed ortools-9.6.2534 protobuf-4.23.4 scipy-1.11.1\n\n[notice] A new release of pip is available: 23.0.1 -> 23.2.1\n[notice] To update, run: pip install --upgrade pip\n",
          "output_type": "stream"
        }
      ],
      "execution_count": 1,
      "block_group": "c7be33dcca8c41308cd8a3ab076e5457"
    },
    {
      "cell_type": "code",
      "source": "\n# !pip install ortools numpy pandas",
      "metadata": {
        "source_hash": "b78dc4d6",
        "execution_start": 1691104869919,
        "execution_millis": 14,
        "deepnote_to_be_reexecuted": false,
        "cell_id": "31702148b4314e5794014f5dcf082a8f",
        "deepnote_cell_type": "code"
      },
      "outputs": [],
      "execution_count": 2,
      "block_group": "31702148b4314e5794014f5dcf082a8f"
    },
    {
      "cell_type": "markdown",
      "source": "<a style='text-decoration:none;line-height:16px;display:flex;color:#5B5B62;padding:10px;justify-content:end;' href='https://deepnote.com?utm_source=created-in-deepnote-cell&projectId=cc890abb-2b7d-4315-906c-6acecf25218a' target=\"_blank\">\n<img alt='Created in deepnote.com' style='display:inline;max-height:16px;margin:0px;margin-right:7.5px;' src='data:image/svg+xml;base64,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' > </img>\nCreated in <span style='font-weight:600;margin-left:4px;'>Deepnote</span></a>",
      "metadata": {
        "created_in_deepnote_cell": true,
        "deepnote_cell_type": "markdown"
      }
    }
  ],
  "nbformat": 4,
  "nbformat_minor": 0,
  "metadata": {
    "deepnote": {},
    "orig_nbformat": 2,
    "deepnote_notebook_id": "1c402a65ee8c4f7dac4871025eaab4aa",
    "deepnote_execution_queue": []
  }
}