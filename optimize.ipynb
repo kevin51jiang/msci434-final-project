{
 "cells": [
  {
   "cell_type": "code",
   "execution_count": 23,
   "outputs": [
    {
     "data": {
      "text/plain": "    ID  start_x  start_y  student_num  service_duration  school_d  school_y  \\\n0    1        2       84           31                33        65        16   \n1    2       78       29           59                37        65        16   \n2    3       90       67           53                31        65        16   \n3    4       95       97           55                24         4        45   \n4    5       68       75           39                28         4        45   \n5    6       27       62           47                27         4        45   \n6    7       16       33           50                35         4        45   \n7    8       97       13           45                34         4        45   \n8    9       61       60           63                23         4        45   \n9   10       85       67           52                31         4        45   \n10  11       22       16           34                39         4        45   \n11  12       48       77           40                25         4        45   \n12  13       28       68           43                39         4        45   \n\n    school_tw_st  school_tw_end  \n0             91            110  \n1             91            110  \n2             91            110  \n3            150            178  \n4            150            178  \n5            150            178  \n6            150            178  \n7            150            178  \n8            150            178  \n9            150            178  \n10           150            178  \n11           150            178  \n12           150            178  ",
      "text/html": "<div>\n<style scoped>\n    .dataframe tbody tr th:only-of-type {\n        vertical-align: middle;\n    }\n\n    .dataframe tbody tr th {\n        vertical-align: top;\n    }\n\n    .dataframe thead th {\n        text-align: right;\n    }\n</style>\n<table border=\"1\" class=\"dataframe\">\n  <thead>\n    <tr style=\"text-align: right;\">\n      <th></th>\n      <th>ID</th>\n      <th>start_x</th>\n      <th>start_y</th>\n      <th>student_num</th>\n      <th>service_duration</th>\n      <th>school_d</th>\n      <th>school_y</th>\n      <th>school_tw_st</th>\n      <th>school_tw_end</th>\n    </tr>\n  </thead>\n  <tbody>\n    <tr>\n      <th>0</th>\n      <td>1</td>\n      <td>2</td>\n      <td>84</td>\n      <td>31</td>\n      <td>33</td>\n      <td>65</td>\n      <td>16</td>\n      <td>91</td>\n      <td>110</td>\n    </tr>\n    <tr>\n      <th>1</th>\n      <td>2</td>\n      <td>78</td>\n      <td>29</td>\n      <td>59</td>\n      <td>37</td>\n      <td>65</td>\n      <td>16</td>\n      <td>91</td>\n      <td>110</td>\n    </tr>\n    <tr>\n      <th>2</th>\n      <td>3</td>\n      <td>90</td>\n      <td>67</td>\n      <td>53</td>\n      <td>31</td>\n      <td>65</td>\n      <td>16</td>\n      <td>91</td>\n      <td>110</td>\n    </tr>\n    <tr>\n      <th>3</th>\n      <td>4</td>\n      <td>95</td>\n      <td>97</td>\n      <td>55</td>\n      <td>24</td>\n      <td>4</td>\n      <td>45</td>\n      <td>150</td>\n      <td>178</td>\n    </tr>\n    <tr>\n      <th>4</th>\n      <td>5</td>\n      <td>68</td>\n      <td>75</td>\n      <td>39</td>\n      <td>28</td>\n      <td>4</td>\n      <td>45</td>\n      <td>150</td>\n      <td>178</td>\n    </tr>\n    <tr>\n      <th>5</th>\n      <td>6</td>\n      <td>27</td>\n      <td>62</td>\n      <td>47</td>\n      <td>27</td>\n      <td>4</td>\n      <td>45</td>\n      <td>150</td>\n      <td>178</td>\n    </tr>\n    <tr>\n      <th>6</th>\n      <td>7</td>\n      <td>16</td>\n      <td>33</td>\n      <td>50</td>\n      <td>35</td>\n      <td>4</td>\n      <td>45</td>\n      <td>150</td>\n      <td>178</td>\n    </tr>\n    <tr>\n      <th>7</th>\n      <td>8</td>\n      <td>97</td>\n      <td>13</td>\n      <td>45</td>\n      <td>34</td>\n      <td>4</td>\n      <td>45</td>\n      <td>150</td>\n      <td>178</td>\n    </tr>\n    <tr>\n      <th>8</th>\n      <td>9</td>\n      <td>61</td>\n      <td>60</td>\n      <td>63</td>\n      <td>23</td>\n      <td>4</td>\n      <td>45</td>\n      <td>150</td>\n      <td>178</td>\n    </tr>\n    <tr>\n      <th>9</th>\n      <td>10</td>\n      <td>85</td>\n      <td>67</td>\n      <td>52</td>\n      <td>31</td>\n      <td>4</td>\n      <td>45</td>\n      <td>150</td>\n      <td>178</td>\n    </tr>\n    <tr>\n      <th>10</th>\n      <td>11</td>\n      <td>22</td>\n      <td>16</td>\n      <td>34</td>\n      <td>39</td>\n      <td>4</td>\n      <td>45</td>\n      <td>150</td>\n      <td>178</td>\n    </tr>\n    <tr>\n      <th>11</th>\n      <td>12</td>\n      <td>48</td>\n      <td>77</td>\n      <td>40</td>\n      <td>25</td>\n      <td>4</td>\n      <td>45</td>\n      <td>150</td>\n      <td>178</td>\n    </tr>\n    <tr>\n      <th>12</th>\n      <td>13</td>\n      <td>28</td>\n      <td>68</td>\n      <td>43</td>\n      <td>39</td>\n      <td>4</td>\n      <td>45</td>\n      <td>150</td>\n      <td>178</td>\n    </tr>\n  </tbody>\n</table>\n</div>"
     },
     "execution_count": 23,
     "metadata": {},
     "output_type": "execute_result"
    }
   ],
   "source": [
    "# Load the data\n",
    "import csv\n",
    "import pandas as pd\n",
    "\n",
    "data_file = 'data/homo_test_file2.csv'\n",
    "vehicle_file = 'data/homo_vehicle_file2.csv'\n",
    "\n",
    "# Read the data file\n",
    "data = pd.read_csv(data_file, sep=' ')\n",
    "\n",
    "data\n"
   ],
   "metadata": {
    "collapsed": false,
    "ExecuteTime": {
     "end_time": "2023-06-30T14:52:20.416619295Z",
     "start_time": "2023-06-30T14:52:20.359584068Z"
    }
   }
  },
  {
   "cell_type": "code",
   "execution_count": 24,
   "outputs": [
    {
     "data": {
      "text/plain": "    Veh_ID  depot_x  depot_y  capacity\n0        1       50       50        70\n1        2       50       50        70\n2        3       50       50        70\n3        4       50       50        70\n4        5       50       50        70\n5        6       50       50        70\n6        7       50       50        70\n7        8       50       50        70\n8        9       50       50        70\n9       10       50       50        70\n10      11       50       50        70\n11      12       50       50        70\n12      13       50       50        70",
      "text/html": "<div>\n<style scoped>\n    .dataframe tbody tr th:only-of-type {\n        vertical-align: middle;\n    }\n\n    .dataframe tbody tr th {\n        vertical-align: top;\n    }\n\n    .dataframe thead th {\n        text-align: right;\n    }\n</style>\n<table border=\"1\" class=\"dataframe\">\n  <thead>\n    <tr style=\"text-align: right;\">\n      <th></th>\n      <th>Veh_ID</th>\n      <th>depot_x</th>\n      <th>depot_y</th>\n      <th>capacity</th>\n    </tr>\n  </thead>\n  <tbody>\n    <tr>\n      <th>0</th>\n      <td>1</td>\n      <td>50</td>\n      <td>50</td>\n      <td>70</td>\n    </tr>\n    <tr>\n      <th>1</th>\n      <td>2</td>\n      <td>50</td>\n      <td>50</td>\n      <td>70</td>\n    </tr>\n    <tr>\n      <th>2</th>\n      <td>3</td>\n      <td>50</td>\n      <td>50</td>\n      <td>70</td>\n    </tr>\n    <tr>\n      <th>3</th>\n      <td>4</td>\n      <td>50</td>\n      <td>50</td>\n      <td>70</td>\n    </tr>\n    <tr>\n      <th>4</th>\n      <td>5</td>\n      <td>50</td>\n      <td>50</td>\n      <td>70</td>\n    </tr>\n    <tr>\n      <th>5</th>\n      <td>6</td>\n      <td>50</td>\n      <td>50</td>\n      <td>70</td>\n    </tr>\n    <tr>\n      <th>6</th>\n      <td>7</td>\n      <td>50</td>\n      <td>50</td>\n      <td>70</td>\n    </tr>\n    <tr>\n      <th>7</th>\n      <td>8</td>\n      <td>50</td>\n      <td>50</td>\n      <td>70</td>\n    </tr>\n    <tr>\n      <th>8</th>\n      <td>9</td>\n      <td>50</td>\n      <td>50</td>\n      <td>70</td>\n    </tr>\n    <tr>\n      <th>9</th>\n      <td>10</td>\n      <td>50</td>\n      <td>50</td>\n      <td>70</td>\n    </tr>\n    <tr>\n      <th>10</th>\n      <td>11</td>\n      <td>50</td>\n      <td>50</td>\n      <td>70</td>\n    </tr>\n    <tr>\n      <th>11</th>\n      <td>12</td>\n      <td>50</td>\n      <td>50</td>\n      <td>70</td>\n    </tr>\n    <tr>\n      <th>12</th>\n      <td>13</td>\n      <td>50</td>\n      <td>50</td>\n      <td>70</td>\n    </tr>\n  </tbody>\n</table>\n</div>"
     },
     "execution_count": 24,
     "metadata": {},
     "output_type": "execute_result"
    }
   ],
   "source": [
    "vehicle_df = pd.read_csv(vehicle_file, sep=' ')\n",
    "vehicle_df"
   ],
   "metadata": {
    "collapsed": false,
    "ExecuteTime": {
     "end_time": "2023-06-30T14:52:22.847221051Z",
     "start_time": "2023-06-30T14:52:22.837065625Z"
    }
   }
  },
  {
   "cell_type": "code",
   "execution_count": 25,
   "outputs": [],
   "source": [
    "# Load Gurobi\n",
    "import gurobipy as gp\n",
    "from gurobipy import GRB\n"
   ],
   "metadata": {
    "collapsed": false,
    "ExecuteTime": {
     "end_time": "2023-06-30T14:52:25.605517601Z",
     "start_time": "2023-06-30T14:52:25.599047760Z"
    }
   }
  },
  {
   "cell_type": "code",
   "execution_count": 67,
   "outputs": [
    {
     "data": {
      "text/plain": "{1: 31,\n 2: 59,\n 3: 53,\n 4: 55,\n 5: 39,\n 6: 47,\n 7: 50,\n 8: 45,\n 9: 63,\n 10: 52,\n 11: 34,\n 12: 40,\n 13: 43,\n 0: 0}"
     },
     "execution_count": 67,
     "metadata": {},
     "output_type": "execute_result"
    }
   ],
   "source": [
    "import math\n",
    "\n",
    "# Depot location is 50, 50,\n",
    "# Capacity is 70\n",
    "# Copied from https://github.com/ruthmair/vrp/blob/main/cvrp.ipynb\n",
    "\n",
    "vehicle_capacity = 70\n",
    "\n",
    "depot = 0\n",
    "customers = [*data['ID'].values]\n",
    "locations = [depot] + customers\n",
    "connections = [(i, j) for i in locations for j in locations if i != j]\n",
    "vehicles = [*vehicle_df['Veh_ID'].values]\n",
    "\n",
    "# Depot at 50, 50\n",
    "points = [(50, 50), *[(i[1]['start_x'], i[1]['start_y']) for i in data.iterrows()]]\n",
    "\n",
    "costs = {\n",
    "    (i, j): math.ceil(\n",
    "        math.sqrt(sum((points[i][k] - points[j][k]) ** 2 for k in range(2)))\n",
    "    )\n",
    "    for i in locations\n",
    "    for j in locations\n",
    "    if i != j\n",
    "}\n",
    "\n",
    "demands = {i[1]['ID']: i[1]['student_num'] for i in data.iterrows()}\n",
    "demands[0] = 0 # Depot demand is 0\n",
    "\n",
    "demands"
   ],
   "metadata": {
    "collapsed": false,
    "ExecuteTime": {
     "end_time": "2023-06-30T15:16:24.838584206Z",
     "start_time": "2023-06-30T15:16:24.831475374Z"
    }
   }
  },
  {
   "cell_type": "code",
   "execution_count": 2,
   "outputs": [
    {
     "name": "stdout",
     "output_type": "stream",
     "text": [
      "Restricted license - for non-production use only - expires 2024-10-28\n"
     ]
    },
    {
     "data": {
      "text/plain": "<gurobi.Constr *Awaiting Model Update*>"
     },
     "execution_count": 2,
     "metadata": {},
     "output_type": "execute_result"
    }
   ],
   "source": [
    "\n",
    "\n",
    "def num_vehicles_needed_for_customers(custs):\n",
    "    sum_demand = 0\n",
    "    for i in custs:\n",
    "        sum_demand += demands[i]\n",
    "    return math.ceil(sum_demand / vehicle_capacity)\n",
    "\n",
    "\n",
    "\n",
    "# Create a new model\n",
    "m = gp.Model(\"CVRP\")\n",
    "\n",
    "x = m.addVars(connections, vtype=GRB.BINARY, name=\"x\")\n",
    "\n",
    "m.setObjective(x.prod(costs), GRB.MINIMIZE)\n",
    "\n",
    "# Bus stop flow\n",
    "m.addConstrs((x.sum(\"*\", j) == 1 for j in customers), name=\"incoming\")\n",
    "m.addConstrs((x.sum(i, \"*\") == 1 for i in customers), name=\"outgoing\")\n",
    "\n",
    "# Vehicle number\n",
    "\n",
    "\n"
   ],
   "metadata": {
    "collapsed": false,
    "ExecuteTime": {
     "end_time": "2023-06-30T12:30:55.646734974Z",
     "start_time": "2023-06-30T12:30:55.626582663Z"
    }
   }
  },
  {
   "cell_type": "code",
   "execution_count": 5,
   "outputs": [
    {
     "name": "stdout",
     "output_type": "stream",
     "text": [
      "Gurobi Optimizer version 10.0.2 build v10.0.2rc0 (linux64)\n",
      "\n",
      "CPU model: AMD Ryzen 7 3700X 8-Core Processor, instruction set [SSE2|AVX|AVX2]\n",
      "Thread count: 8 physical cores, 16 logical processors, using up to 16 threads\n",
      "\n",
      "Optimize a model with 2 rows, 3 columns and 5 nonzeros\n",
      "Model fingerprint: 0x98886187\n",
      "Variable types: 0 continuous, 3 integer (3 binary)\n",
      "Coefficient statistics:\n",
      "  Matrix range     [1e+00, 3e+00]\n",
      "  Objective range  [1e+00, 2e+00]\n",
      "  Bounds range     [1e+00, 1e+00]\n",
      "  RHS range        [1e+00, 4e+00]\n",
      "\n",
      "\n",
      "Presolve removed 2 rows and 3 columns\n",
      "Presolve time: 0.00s\n",
      "Presolve: All rows and columns removed\n",
      "\n",
      "Explored 0 nodes (0 simplex iterations) in 0.01 seconds (0.00 work units)\n",
      "Thread count was 1 (of 16 available processors)\n",
      "\n",
      "Solution count 2: 3 2 \n",
      "\n",
      "Optimal solution found (tolerance 1.00e-04)\n",
      "Best objective 3.000000000000e+00, best bound 3.000000000000e+00, gap 0.0000%\n"
     ]
    }
   ],
   "source": [
    "\n",
    "# Solve it!\n",
    "m.optimize()\n"
   ],
   "metadata": {
    "collapsed": false,
    "ExecuteTime": {
     "end_time": "2023-06-30T12:31:18.246900716Z",
     "start_time": "2023-06-30T12:31:18.167535349Z"
    }
   }
  },
  {
   "cell_type": "code",
   "execution_count": 4,
   "outputs": [
    {
     "name": "stdout",
     "output_type": "stream",
     "text": [
      "Optimal objective value: 3.0\n",
      "Solution values: x=1.0, y=0.0, z=1.0\n"
     ]
    }
   ],
   "source": [
    "\n",
    "print(f\"Optimal objective value: {m.objVal}\")\n",
    "print(f\"Solution values: x={x.X}, y={y.X}, z={z.X}\")"
   ],
   "metadata": {
    "collapsed": false,
    "ExecuteTime": {
     "end_time": "2023-06-30T12:31:14.897384172Z",
     "start_time": "2023-06-30T12:31:14.891879858Z"
    }
   }
  },
  {
   "cell_type": "code",
   "execution_count": null,
   "outputs": [],
   "source": [],
   "metadata": {
    "collapsed": false
   }
  },
  {
   "cell_type": "code",
   "execution_count": null,
   "outputs": [],
   "source": [],
   "metadata": {
    "collapsed": false
   }
  }
 ],
 "metadata": {
  "kernelspec": {
   "display_name": "Python 3",
   "language": "python",
   "name": "python3"
  },
  "language_info": {
   "codemirror_mode": {
    "name": "ipython",
    "version": 2
   },
   "file_extension": ".py",
   "mimetype": "text/x-python",
   "name": "python",
   "nbconvert_exporter": "python",
   "pygments_lexer": "ipython2",
   "version": "2.7.6"
  }
 },
 "nbformat": 4,
 "nbformat_minor": 0
}
